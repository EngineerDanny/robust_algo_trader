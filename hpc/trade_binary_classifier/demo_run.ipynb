{
 "cells": [
  {
   "cell_type": "code",
   "execution_count": 1,
   "metadata": {},
   "outputs": [],
   "source": [
    "import pandas as pd\n",
    "import numpy as np\n",
    "from sklearn.preprocessing import StandardScaler, PowerTransformer\n",
    "\n",
    "trade_df_test = pd.read_csv('/projects/genomic-ml/da2343/ml_project_2/data/EURUSD_H1_2016_2022_TRADES.csv')\n",
    "trade_df_test = trade_df_test[['position', 'RSI', 'ADX', 'label', 'year']]\n",
    "# get only 2016 data\n",
    "trade_df_test = trade_df_test[trade_df_test['year'] == 2022]\n",
    "# drop year column\n",
    "trade_df_test.drop('year', axis=1, inplace=True)\n",
    "\n",
    "\n",
    "# trade_df = pd.read_csv('/projects/genomic-ml/da2343/ml_project_2/data/EURUSD_H1_2011_2015_TRADES.csv')\n",
    "# trade_df = trade_df[[ 'MACD', 'MACD_Signal', 'MACD_Hist', 'RSI', 'ADX', 'AROON_Oscillator', 'WILLR', 'label']]\n",
    "# trade_df = trade_df[['position', 'MACD', 'MACD_Signal', 'MACD_Hist', 'RSI', 'ADX', 'AROON_Oscillator', 'WILLR', 'label']]\n",
    "# trade_df = trade_df[['position', 'RSI', 'ADX', 'WILLR', 'label']]\n",
    "# trade_df = trade_df[['position', 'RSI', 'ADX', 'label']]\n",
    "\n",
    "\n",
    "# reset index\n",
    "# trade_df.reset_index(drop=True, inplace=True)\n",
    "\n",
    "# add an index column to trade_df\n",
    "# trade_df['index'] = trade_df.index\n",
    "\n",
    "# save trade_df to csv\n",
    "# trade_df.to_csv('/projects/genomic-ml/da2343/ml_project_2/data/EURUSD_H1_2011_2015_TRADES_binary.csv', index=False)"
   ]
  },
  {
   "cell_type": "code",
   "execution_count": 2,
   "metadata": {},
   "outputs": [],
   "source": [
    "import pandas as pd\n",
    "import numpy as np\n",
    "from sklearn.preprocessing import StandardScaler, PowerTransformer\n",
    "\n",
    "trade_df = pd.read_csv('/projects/genomic-ml/da2343/ml_project_2/data/EURUSD_H1_2011_2015_TRADES_synthetic.csv')\n",
    "# drop index column\n",
    "# trade_df = trade_df.drop(columns=['index'])"
   ]
  },
  {
   "cell_type": "code",
   "execution_count": 29,
   "metadata": {},
   "outputs": [
    {
     "data": {
      "text/html": [
       "<div>\n",
       "<style scoped>\n",
       "    .dataframe tbody tr th:only-of-type {\n",
       "        vertical-align: middle;\n",
       "    }\n",
       "\n",
       "    .dataframe tbody tr th {\n",
       "        vertical-align: top;\n",
       "    }\n",
       "\n",
       "    .dataframe thead th {\n",
       "        text-align: right;\n",
       "    }\n",
       "</style>\n",
       "<table border=\"1\" class=\"dataframe\">\n",
       "  <thead>\n",
       "    <tr style=\"text-align: right;\">\n",
       "      <th></th>\n",
       "      <th>position</th>\n",
       "      <th>RSI</th>\n",
       "      <th>ADX</th>\n",
       "      <th>label</th>\n",
       "    </tr>\n",
       "  </thead>\n",
       "  <tbody>\n",
       "    <tr>\n",
       "      <th>0</th>\n",
       "      <td>1.0</td>\n",
       "      <td>52.593732</td>\n",
       "      <td>10.174146</td>\n",
       "      <td>1.0</td>\n",
       "    </tr>\n",
       "    <tr>\n",
       "      <th>1</th>\n",
       "      <td>1.0</td>\n",
       "      <td>47.746352</td>\n",
       "      <td>25.913020</td>\n",
       "      <td>1.0</td>\n",
       "    </tr>\n",
       "    <tr>\n",
       "      <th>2</th>\n",
       "      <td>0.0</td>\n",
       "      <td>44.075429</td>\n",
       "      <td>24.056105</td>\n",
       "      <td>1.0</td>\n",
       "    </tr>\n",
       "    <tr>\n",
       "      <th>3</th>\n",
       "      <td>0.0</td>\n",
       "      <td>53.244708</td>\n",
       "      <td>12.306458</td>\n",
       "      <td>1.0</td>\n",
       "    </tr>\n",
       "    <tr>\n",
       "      <th>4</th>\n",
       "      <td>0.0</td>\n",
       "      <td>50.499989</td>\n",
       "      <td>12.985351</td>\n",
       "      <td>0.0</td>\n",
       "    </tr>\n",
       "    <tr>\n",
       "      <th>...</th>\n",
       "      <td>...</td>\n",
       "      <td>...</td>\n",
       "      <td>...</td>\n",
       "      <td>...</td>\n",
       "    </tr>\n",
       "    <tr>\n",
       "      <th>99995</th>\n",
       "      <td>1.0</td>\n",
       "      <td>45.983950</td>\n",
       "      <td>20.877857</td>\n",
       "      <td>1.0</td>\n",
       "    </tr>\n",
       "    <tr>\n",
       "      <th>99996</th>\n",
       "      <td>1.0</td>\n",
       "      <td>53.419055</td>\n",
       "      <td>15.962663</td>\n",
       "      <td>0.0</td>\n",
       "    </tr>\n",
       "    <tr>\n",
       "      <th>99997</th>\n",
       "      <td>0.0</td>\n",
       "      <td>47.255628</td>\n",
       "      <td>18.477744</td>\n",
       "      <td>1.0</td>\n",
       "    </tr>\n",
       "    <tr>\n",
       "      <th>99998</th>\n",
       "      <td>1.0</td>\n",
       "      <td>56.166866</td>\n",
       "      <td>27.284602</td>\n",
       "      <td>1.0</td>\n",
       "    </tr>\n",
       "    <tr>\n",
       "      <th>99999</th>\n",
       "      <td>0.0</td>\n",
       "      <td>44.913877</td>\n",
       "      <td>16.714059</td>\n",
       "      <td>0.0</td>\n",
       "    </tr>\n",
       "  </tbody>\n",
       "</table>\n",
       "<p>100000 rows × 4 columns</p>\n",
       "</div>"
      ],
      "text/plain": [
       "       position        RSI        ADX  label\n",
       "0           1.0  52.593732  10.174146    1.0\n",
       "1           1.0  47.746352  25.913020    1.0\n",
       "2           0.0  44.075429  24.056105    1.0\n",
       "3           0.0  53.244708  12.306458    1.0\n",
       "4           0.0  50.499989  12.985351    0.0\n",
       "...         ...        ...        ...    ...\n",
       "99995       1.0  45.983950  20.877857    1.0\n",
       "99996       1.0  53.419055  15.962663    0.0\n",
       "99997       0.0  47.255628  18.477744    1.0\n",
       "99998       1.0  56.166866  27.284602    1.0\n",
       "99999       0.0  44.913877  16.714059    0.0\n",
       "\n",
       "[100000 rows x 4 columns]"
      ]
     },
     "execution_count": 29,
     "metadata": {},
     "output_type": "execute_result"
    }
   ],
   "source": [
    "trade_df"
   ]
  },
  {
   "cell_type": "code",
   "execution_count": 3,
   "metadata": {},
   "outputs": [
    {
     "name": "stdout",
     "output_type": "stream",
     "text": [
      "{'test_accuracy_percent': 52.87356321839081, 'tn_accuracy': 71.15384615384616}\n"
     ]
    }
   ],
   "source": [
    "\n",
    "import pandas as pd\n",
    "import numpy as np\n",
    "import plotnine as p9\n",
    "from sklearn.model_selection import *\n",
    "from sklearn.feature_selection import *\n",
    "from sklearn.preprocessing import *\n",
    "from sklearn.pipeline import *\n",
    "\n",
    "from sklearn.linear_model import *\n",
    "from sklearn.neighbors import *\n",
    "from sklearn.model_selection import *\n",
    "from sklearn.dummy import DummyClassifier\n",
    "from sklearn.svm import LinearSVC\n",
    "from sklearn.neural_network import MLPClassifier\n",
    "from sklearn.discriminant_analysis import QuadraticDiscriminantAnalysis\n",
    "from sklearn.ensemble import AdaBoostClassifier, RandomForestClassifier\n",
    "from sklearn.gaussian_process import GaussianProcessClassifier\n",
    "from sklearn.gaussian_process.kernels import RBF\n",
    "from sklearn.naive_bayes import GaussianNB\n",
    "from sklearn.neural_network import MLPClassifier\n",
    "from sklearn.pipeline import make_pipeline\n",
    "from sklearn.preprocessing import StandardScaler\n",
    "from sklearn.svm import SVC\n",
    "from sklearn.tree import DecisionTreeClassifier\n",
    "\n",
    "from sklearn.metrics import *\n",
    "import matplotlib.pyplot as plt\n",
    "import matplotlib\n",
    "import plotnine as p9\n",
    "\n",
    "np.set_printoptions(threshold=np.inf)\n",
    "\n",
    "\n",
    "X_train, y_train = trade_df.iloc[:, :-1].to_numpy(), trade_df.iloc[:, -1]\n",
    "X_test, y_test = trade_df_test.iloc[:, :-1].to_numpy(), trade_df_test.iloc[:, -1]\n",
    "\n",
    "model = LogisticRegressionCV()\n",
    "model.fit(X_train, y_train)\n",
    "y_pred = model.predict(X_test)\n",
    "\n",
    "tn, fp, fn, tp  = confusion_matrix(y_test, y_pred).ravel()\n",
    "tn_accuracy = tn / (tn + fp)\n",
    "\n",
    "            \n",
    "test_acc_dict = {\n",
    "\"test_accuracy_percent\": accuracy_score(y_test, y_pred) * 100,\n",
    "\"tn_accuracy\": tn_accuracy * 100,\n",
    "# \"precision_score\": precision_score(y_test, y_pred),\n",
    "# \"f1_score\": f1_score(y_test, y_pred),\n",
    "# \"algorithm\": algorithm\n",
    "}\n",
    "\n",
    "print(test_acc_dict)"
   ]
  },
  {
   "cell_type": "code",
   "execution_count": null,
   "metadata": {},
   "outputs": [],
   "source": [
    "# {'test_accuracy_percent': 52.87356321839081, 'tn_accuracy': 71.15384615384616}"
   ]
  },
  {
   "cell_type": "code",
   "execution_count": 59,
   "metadata": {},
   "outputs": [
    {
     "name": "stdout",
     "output_type": "stream",
     "text": [
      "24\n"
     ]
    }
   ],
   "source": [
    "arr = y_pred\n",
    "num_of_ones = 0\n",
    "for element in arr:\n",
    "    if element == 1:\n",
    "        num_of_ones += 1\n",
    "print(num_of_ones)\n"
   ]
  },
  {
   "cell_type": "code",
   "execution_count": 12,
   "metadata": {},
   "outputs": [
    {
     "data": {
      "text/plain": [
       "{'test_accuracy_percent': 55.66218809980806, 'tn_accuracy': 69.64285714285714}"
      ]
     },
     "execution_count": 12,
     "metadata": {},
     "output_type": "execute_result"
    }
   ],
   "source": [
    "test_acc_dict"
   ]
  },
  {
   "cell_type": "markdown",
   "metadata": {},
   "source": [
    "# Using KFOLD to train and test the various model"
   ]
  },
  {
   "cell_type": "code",
   "execution_count": 13,
   "metadata": {},
   "outputs": [],
   "source": [
    "data_dict = {\n",
    "    'EURUSD_TRADES': (trade_df.iloc[:, :-1].to_numpy(), trade_df.iloc[:, -1] ),\n",
    "    # 'EURUSD_TRADES_SS': (StandardScaler().fit_transform(trade_df.iloc[:, :-1].to_numpy()), trade_df.iloc[:, -1] ),\n",
    "    # 'EURUSD_TRADES_PT': (PowerTransformer().fit_transform(trade_df.iloc[:, :-1].to_numpy()), trade_df.iloc[:, -1] ),\n",
    "}"
   ]
  },
  {
   "cell_type": "code",
   "execution_count": 19,
   "metadata": {},
   "outputs": [
    {
     "data": {
      "image/png": "[encoded data removed]",
      "text/plain": [
       "<Figure size 640x480 with 1 Axes>"
      ]
     },
     "metadata": {},
     "output_type": "display_data"
    },
    {
     "data": {
      "text/plain": [
       "<ggplot: (1433872276746)>"
      ]
     },
     "execution_count": 19,
     "metadata": {},
     "output_type": "execute_result"
    }
   ],
   "source": [
    "import pandas as pd\n",
    "import numpy as np\n",
    "import plotnine as p9\n",
    "from sklearn.model_selection import *\n",
    "from sklearn.feature_selection import *\n",
    "from sklearn.preprocessing import *\n",
    "from sklearn.pipeline import *\n",
    "\n",
    "from sklearn.linear_model import *\n",
    "from sklearn.neighbors import *\n",
    "from sklearn.model_selection import *\n",
    "from sklearn.dummy import DummyClassifier\n",
    "from sklearn.svm import LinearSVC\n",
    "from sklearn.neural_network import MLPClassifier\n",
    "from sklearn.discriminant_analysis import QuadraticDiscriminantAnalysis\n",
    "from sklearn.ensemble import AdaBoostClassifier, RandomForestClassifier\n",
    "from sklearn.gaussian_process import GaussianProcessClassifier\n",
    "from sklearn.gaussian_process.kernels import RBF\n",
    "from sklearn.naive_bayes import GaussianNB\n",
    "from sklearn.neural_network import MLPClassifier\n",
    "from sklearn.pipeline import make_pipeline\n",
    "from sklearn.preprocessing import StandardScaler\n",
    "from sklearn.svm import SVC\n",
    "from sklearn.tree import DecisionTreeClassifier\n",
    "\n",
    "from sklearn.metrics import *\n",
    "import matplotlib.pyplot as plt\n",
    "import matplotlib\n",
    "import plotnine as p9\n",
    "\n",
    "np.set_printoptions(threshold=np.inf)\n",
    "\n",
    "test_acc_df_list = []\n",
    "\n",
    "\n",
    "classifier_dict = {\n",
    "    \"KNeighborsClassifier\": KNeighborsClassifier(10),\n",
    "    # \"SVC\": SVC(kernel=\"linear\", C=0.025),\n",
    "    # \"SVC\": SVC(gamma=2, C=1),\n",
    "    # \"GaussianProcessClassifier\": GaussianProcessClassifier(1.0 * RBF(1.0)),\n",
    "    # \"DecisionTreeClassifier\": DecisionTreeClassifier(max_depth=5),\n",
    "    # \"MLPClassifier\": MLPClassifier(),\n",
    "    # \"AdaBoostClassifier\": AdaBoostClassifier(),\n",
    "    # \"GaussianNB\": GaussianNB(),\n",
    "    # \"QuadraticDiscriminantAnalysis\": QuadraticDiscriminantAnalysis(),\n",
    "    \"RandomForestClassifier\": RandomForestClassifier(),\n",
    "    'DummyClassifier': DummyClassifier(strategy=\"uniform\"),\n",
    "    'LogisticRegressionCV': LogisticRegressionCV(cv=3, random_state=0, max_iter=1_000),\n",
    "    \n",
    "}\n",
    "\n",
    "for data_set, (input_mat, output_vec) in data_dict.items():\n",
    "    kf = KFold(n_splits=3, shuffle=True, random_state=1)\n",
    "    for fold_id, (train_index, test_index) in enumerate(kf.split(input_mat)):\n",
    "        X_train, X_test = input_mat[train_index], input_mat[test_index]\n",
    "        y_train, y_test = output_vec[train_index], output_vec[test_index]\n",
    "\n",
    "        pred_dict = {}\n",
    "        # iterate over classifiers\n",
    "        for name, clf in classifier_dict.items():\n",
    "            clf.fit(X_train, y_train)\n",
    "            y_pred = clf.predict(X_test)\n",
    "            pred_dict[name] = y_pred\n",
    "        \n",
    "        for algorithm, y_pred in pred_dict.items():\n",
    "            tn, fp, fn, tp  = confusion_matrix(y_test, y_pred).ravel()\n",
    "            tn_accuracy = tn / (tn + fp)\n",
    "            \n",
    "            test_acc_dict = {\n",
    "                \"test_accuracy_percent\": accuracy_score(y_test, y_pred) * 100,\n",
    "                \"tn_accuracy\": tn_accuracy * 100,\n",
    "                # \"precision_score\": precision_score(y_test, y_pred),\n",
    "                # \"f1_score\": f1_score(y_test, y_pred),\n",
    "                \"data_set\": data_set,\n",
    "                \"fold_id\": fold_id,\n",
    "                \"algorithm\": algorithm\n",
    "            }\n",
    "            test_acc_df_list.append(pd.DataFrame(test_acc_dict, index=[0]))\n",
    "test_acc_df = pd.concat(test_acc_df_list)\n",
    "\n",
    "\n",
    "test_acc_df = pd.concat(test_acc_df_list)\n",
    "gg = p9.ggplot() +\\\n",
    "    p9.geom_point(\n",
    "        p9.aes(\n",
    "            x=\"tn_accuracy\",\n",
    "            y=\"algorithm\",\n",
    "            color = \"factor(fold_id)\",\n",
    "        ),\n",
    "        data=test_acc_df) +\\\n",
    "    p9.facet_wrap(\"data_set\") +\\\n",
    "    p9.scale_color_manual(values=[\"red\", \"blue\", \"green\", \"yellow\", \"pink\"], name= \"Fold ID\")\n",
    "gg\n"
   ]
  },
  {
   "cell_type": "code",
   "execution_count": null,
   "metadata": {},
   "outputs": [],
   "source": [
    "y_pred"
   ]
  },
  {
   "cell_type": "code",
   "execution_count": 20,
   "metadata": {},
   "outputs": [
    {
     "data": {
      "image/png": "[encoded data removed]",
      "text/plain": [
       "<Figure size 640x480 with 1 Axes>"
      ]
     },
     "metadata": {},
     "output_type": "display_data"
    },
    {
     "data": {
      "text/plain": [
       "<ggplot: (1433872104783)>"
      ]
     },
     "execution_count": 20,
     "metadata": {},
     "output_type": "execute_result"
    }
   ],
   "source": [
    "mean_test_acc_df = test_acc_df.groupby([\"data_set\", \"algorithm\"]).mean().reset_index()\n",
    "\n",
    "\n",
    "gg = p9.ggplot() +\\\n",
    "    p9.geom_point(\n",
    "        p9.aes(\n",
    "            x=\"tn_accuracy\",\n",
    "            y=\"algorithm\",\n",
    "            color = \"factor(fold_id)\",\n",
    "        ),\n",
    "        data=mean_test_acc_df) +\\\n",
    "    p9.facet_wrap(\"data_set\") +\\\n",
    "    p9.scale_color_manual(values=[\"red\", \"blue\", \"green\"], name= \"Fold ID\")\n",
    "gg\n"
   ]
  }
 ],
 "metadata": {
  "kernelspec": {
   "display_name": "cs685",
   "language": "python",
   "name": "python3"
  },
  "language_info": {
   "codemirror_mode": {
    "name": "ipython",
    "version": 3
   },
   "file_extension": ".py",
   "mimetype": "text/x-python",
   "name": "python",
   "nbconvert_exporter": "python",
   "pygments_lexer": "ipython3",
   "version": "3.9.16"
  },
  "orig_nbformat": 4
 },
 "nbformat": 4,
 "nbformat_minor": 2
}
