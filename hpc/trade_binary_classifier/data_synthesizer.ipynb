{
 "cells": [
  {
   "cell_type": "code",
   "execution_count": null,
   "metadata": {},
   "outputs": [],
   "source": [
    "import pandas as pd\n",
    "import numpy as np\n",
    "from DataSynthesizer.DataDescriber import DataDescriber\n",
    "from DataSynthesizer.DataGenerator import DataGenerator\n",
    "from DataSynthesizer.ModelInspector import ModelInspector\n",
    "from DataSynthesizer.lib.utils import read_json_file, display_bayesian_network\n"
   ]
  },
  {
   "cell_type": "code",
   "execution_count": null,
   "metadata": {},
   "outputs": [],
   "source": [
    "# input dataset\n",
    "input_data = '/projects/genomic-ml/da2343/ml_project_2/data/EURUSD_H1_2011_2015_TRADES_binary.csv'\n",
    "# location of two output files\n",
    "mode = 'correlated_attribute_mode'\n",
    "description_file = f'/projects/genomic-ml/da2343/ml_project_2/hpc/trade_binary_classifier/out/{mode}/description.json'\n",
    "synthetic_data = f'/projects/genomic-ml/da2343/ml_project_2/hpc/trade_binary_classifier/out/{mode}/sythetic_data.csv'"
   ]
  },
  {
   "cell_type": "code",
   "execution_count": null,
   "metadata": {},
   "outputs": [],
   "source": [
    "# An attribute is categorical if its domain size is less than this threshold.\n",
    "# Here modify the threshold to adapt to the domain size of \"education\" (which is 14 in input dataset).\n",
    "threshold_value = 10\n",
    "\n",
    "# specify categorical attributes\n",
    "# categorical_attributes = {'education': True}\n",
    "categorical_attributes = {'label': True}\n",
    "\n",
    "# specify which attributes are candidate keys of input dataset.\n",
    "# candidate_keys = {'ssn': True}\n",
    "candidate_keys = {'index': True}\n",
    "\n",
    "# A parameter in Differential Privacy. It roughly means that removing a row in the input dataset will not \n",
    "# change the probability of getting the same output more than a multiplicative difference of exp(epsilon).\n",
    "# Increase epsilon value to reduce the injected noises. Set epsilon=0 to turn off differential privacy.\n",
    "epsilon = 50\n",
    "\n",
    "# The maximum number of parents in Bayesian network, i.e., the maximum number of incoming edges.\n",
    "degree_of_bayesian_network = 5\n",
    "\n",
    "# Number of tuples generated in synthetic dataset.\n",
    "num_tuples_to_generate = 100_000 # Here 32561 is the same as input dataset, but it can be set to another number."
   ]
  },
  {
   "cell_type": "code",
   "execution_count": null,
   "metadata": {},
   "outputs": [],
   "source": [
    "describer = DataDescriber(category_threshold=threshold_value)\n",
    "describer.describe_dataset_in_correlated_attribute_mode(dataset_file=input_data, \n",
    "                                                        epsilon=epsilon, \n",
    "                                                        k=degree_of_bayesian_network,\n",
    "                                                        attribute_to_is_categorical=categorical_attributes,\n",
    "                                                        attribute_to_is_candidate_key=candidate_keys)\n",
    "describer.save_dataset_description_to_file(description_file)\n"
   ]
  },
  {
   "cell_type": "code",
   "execution_count": null,
   "metadata": {},
   "outputs": [],
   "source": [
    "display_bayesian_network(describer.bayesian_network)"
   ]
  },
  {
   "cell_type": "code",
   "execution_count": null,
   "metadata": {},
   "outputs": [],
   "source": [
    "generator = DataGenerator()\n",
    "generator.generate_dataset_in_correlated_attribute_mode(num_tuples_to_generate, description_file)\n",
    "generator.save_synthetic_data(synthetic_data)"
   ]
  },
  {
   "cell_type": "code",
   "execution_count": null,
   "metadata": {},
   "outputs": [],
   "source": [
    "# Read both datasets using Pandas.\n",
    "input_df = pd.read_csv(input_data, skipinitialspace=True)\n",
    "synthetic_df = pd.read_csv(synthetic_data)\n",
    "# Read attribute description from the dataset description file.\n",
    "attribute_description = read_json_file(description_file)['attribute_description']\n",
    "\n",
    "inspector = ModelInspector(input_df, synthetic_df, attribute_description)\n",
    "\n",
    "for attribute in synthetic_df.columns:\n",
    "    inspector.compare_histograms(attribute)"
   ]
  }
 ],
 "metadata": {
  "kernelspec": {
   "display_name": "cs685",
   "language": "python",
   "name": "python3"
  },
  "language_info": {
   "codemirror_mode": {
    "name": "ipython",
    "version": 3
   },
   "file_extension": ".py",
   "mimetype": "text/x-python",
   "name": "python",
   "nbconvert_exporter": "python",
   "pygments_lexer": "ipython3",
   "version": "3.9.16"
  },
  "orig_nbformat": 4
 },
 "nbformat": 4,
 "nbformat_minor": 2
}
