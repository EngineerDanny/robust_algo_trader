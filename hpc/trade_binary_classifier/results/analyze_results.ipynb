{
 "cells": [
  {
   "cell_type": "code",
   "execution_count": null,
   "metadata": {},
   "outputs": [],
   "source": [
    "import pandas as pd\n",
    "import numpy as np\n",
    "import plotnine as p9\n",
    "import matplotlib.pyplot as plt\n",
    "\n",
    "date_time = \"2023-07-27_20:27\"\n",
    "\n",
    "root_results_dir = \"/projects/genomic-ml/da2343/ml_project_2/hpc/trade_binary_classifier/results\"\n",
    "test_acc_df = pd.read_csv(f\"{root_results_dir}/{date_time}_results.csv\")"
   ]
  },
  {
   "cell_type": "code",
   "execution_count": null,
   "metadata": {},
   "outputs": [],
   "source": [
    "gg = p9.ggplot() +\\\n",
    "    p9.geom_point(\n",
    "        p9.aes(\n",
    "            x=\"test_accuracy_percent\",\n",
    "            y=\"algorithm\",\n",
    "            color = \"factor(fold_id)\",\n",
    "        ),\n",
    "        data=test_acc_df) +\\\n",
    "    p9.facet_wrap(\"data_set\") +\\\n",
    "    p9.scale_color_manual(values=[\"red\", \"blue\", \"green\", \"yellow\", \"pink\"], name= \"Fold ID\")"
   ]
  }
 ],
 "metadata": {
  "language_info": {
   "name": "python"
  },
  "orig_nbformat": 4
 },
 "nbformat": 4,
 "nbformat_minor": 2
}
