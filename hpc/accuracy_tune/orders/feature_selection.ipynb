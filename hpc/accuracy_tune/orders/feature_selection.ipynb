{
 "cells": [
  {
   "cell_type": "code",
   "execution_count": 9,
   "metadata": {},
   "outputs": [],
   "source": [
    "\n",
    "\n",
    "import pandas as pd\n",
    "import numpy as np\n",
    "import plotnine as p9\n",
    "import matplotlib.pyplot as plt\n",
    "import os\n",
    "from sklearn.model_selection import *\n",
    "from sklearn.decomposition import *\n",
    "\n",
    "# date_time = \"2023-07-30_19:34\"\n",
    "# date_time = \"2023-07-31_19:32\"\n",
    "\n",
    "# date_time = \"2023-09-08_09:59\"\n",
    "# date_time = \"2023-09-08_10:26\"\n",
    "# date_time = \"2023-09-08_12:09\"\n",
    "# date_time = \"2023-09-08_12:23\"\n",
    "date_time = \"2023-09-08_15:27\"\n",
    "# date_time = \"2023-09-08_16:06\"\n",
    "\n",
    "\n",
    "root_results_dir = \"/projects/genomic-ml/da2343/ml_project_2/hpc/accuracy_tune/orders\"\n",
    "df = pd.read_csv(f\"{root_results_dir}/{date_time}_results.csv\")\n",
    "\n",
    "y = df[\"label\"]\n",
    "# X = df[\"ADX\"]\n",
    "\n",
    "\n",
    "X = df.drop(columns=[\"index\", \"ask_price\", \"take_profit_price\",\n",
    "                     \"MACD\", \"MACD_Signal\", \"MACD_Hist\",\n",
    "            \"stop_loss_price\", \"SMA_200\", \"label\", \"year\", \"dataset_name\"])\n",
    "# X = df.drop(columns=[\"label\", \"dataset_name\"])\n",
    "# keep only \"ADX\" feature\n",
    "# X = X[[\"ADX\"]]\n",
    "\n",
    "\n",
    "# X_train, X_test, y_train, y_test = train_test_split(  X, y, test_size=0.5, random_state=0)"
   ]
  },
  {
   "cell_type": "code",
   "execution_count": 18,
   "metadata": {},
   "outputs": [
    {
     "data": {
      "text/html": [
       "<style>#sk-container-id-4 {color: black;}#sk-container-id-4 pre{padding: 0;}#sk-container-id-4 div.sk-toggleable {background-color: white;}#sk-container-id-4 label.sk-toggleable__label {cursor: pointer;display: block;width: 100%;margin-bottom: 0;padding: 0.3em;box-sizing: border-box;text-align: center;}#sk-container-id-4 label.sk-toggleable__label-arrow:before {content: \"▸\";float: left;margin-right: 0.25em;color: #696969;}#sk-container-id-4 label.sk-toggleable__label-arrow:hover:before {color: black;}#sk-container-id-4 div.sk-estimator:hover label.sk-toggleable__label-arrow:before {color: black;}#sk-container-id-4 div.sk-toggleable__content {max-height: 0;max-width: 0;overflow: hidden;text-align: left;background-color: #f0f8ff;}#sk-container-id-4 div.sk-toggleable__content pre {margin: 0.2em;color: black;border-radius: 0.25em;background-color: #f0f8ff;}#sk-container-id-4 input.sk-toggleable__control:checked~div.sk-toggleable__content {max-height: 200px;max-width: 100%;overflow: auto;}#sk-container-id-4 input.sk-toggleable__control:checked~label.sk-toggleable__label-arrow:before {content: \"▾\";}#sk-container-id-4 div.sk-estimator input.sk-toggleable__control:checked~label.sk-toggleable__label {background-color: #d4ebff;}#sk-container-id-4 div.sk-label input.sk-toggleable__control:checked~label.sk-toggleable__label {background-color: #d4ebff;}#sk-container-id-4 input.sk-hidden--visually {border: 0;clip: rect(1px 1px 1px 1px);clip: rect(1px, 1px, 1px, 1px);height: 1px;margin: -1px;overflow: hidden;padding: 0;position: absolute;width: 1px;}#sk-container-id-4 div.sk-estimator {font-family: monospace;background-color: #f0f8ff;border: 1px dotted black;border-radius: 0.25em;box-sizing: border-box;margin-bottom: 0.5em;}#sk-container-id-4 div.sk-estimator:hover {background-color: #d4ebff;}#sk-container-id-4 div.sk-parallel-item::after {content: \"\";width: 100%;border-bottom: 1px solid gray;flex-grow: 1;}#sk-container-id-4 div.sk-label:hover label.sk-toggleable__label {background-color: #d4ebff;}#sk-container-id-4 div.sk-serial::before {content: \"\";position: absolute;border-left: 1px solid gray;box-sizing: border-box;top: 0;bottom: 0;left: 50%;z-index: 0;}#sk-container-id-4 div.sk-serial {display: flex;flex-direction: column;align-items: center;background-color: white;padding-right: 0.2em;padding-left: 0.2em;position: relative;}#sk-container-id-4 div.sk-item {position: relative;z-index: 1;}#sk-container-id-4 div.sk-parallel {display: flex;align-items: stretch;justify-content: center;background-color: white;position: relative;}#sk-container-id-4 div.sk-item::before, #sk-container-id-4 div.sk-parallel-item::before {content: \"\";position: absolute;border-left: 1px solid gray;box-sizing: border-box;top: 0;bottom: 0;left: 50%;z-index: -1;}#sk-container-id-4 div.sk-parallel-item {display: flex;flex-direction: column;z-index: 1;position: relative;background-color: white;}#sk-container-id-4 div.sk-parallel-item:first-child::after {align-self: flex-end;width: 50%;}#sk-container-id-4 div.sk-parallel-item:last-child::after {align-self: flex-start;width: 50%;}#sk-container-id-4 div.sk-parallel-item:only-child::after {width: 0;}#sk-container-id-4 div.sk-dashed-wrapped {border: 1px dashed gray;margin: 0 0.4em 0.5em 0.4em;box-sizing: border-box;padding-bottom: 0.4em;background-color: white;}#sk-container-id-4 div.sk-label label {font-family: monospace;font-weight: bold;display: inline-block;line-height: 1.2em;}#sk-container-id-4 div.sk-label-container {text-align: center;}#sk-container-id-4 div.sk-container {/* jupyter's `normalize.less` sets `[hidden] { display: none; }` but bootstrap.min.css set `[hidden] { display: none !important; }` so we also need the `!important` here to be able to override the default hidden behavior on the sphinx rendered scikit-learn.org. See: https://github.com/scikit-learn/scikit-learn/issues/21755 */display: inline-block !important;position: relative;}#sk-container-id-4 div.sk-text-repr-fallback {display: none;}</style><div id=\"sk-container-id-4\" class=\"sk-top-container\"><div class=\"sk-text-repr-fallback\"><pre>PCA(n_components=3)</pre><b>In a Jupyter environment, please rerun this cell to show the HTML representation or trust the notebook. <br />On GitHub, the HTML representation is unable to render, please try loading this page with nbviewer.org.</b></div><div class=\"sk-container\" hidden><div class=\"sk-item\"><div class=\"sk-estimator sk-toggleable\"><input class=\"sk-toggleable__control sk-hidden--visually\" id=\"sk-estimator-id-4\" type=\"checkbox\" checked><label for=\"sk-estimator-id-4\" class=\"sk-toggleable__label sk-toggleable__label-arrow\">PCA</label><div class=\"sk-toggleable__content\"><pre>PCA(n_components=3)</pre></div></div></div></div></div>"
      ],
      "text/plain": [
       "PCA(n_components=3)"
      ]
     },
     "execution_count": 18,
     "metadata": {},
     "output_type": "execute_result"
    }
   ],
   "source": [
    "pca = PCA( n_components=3)\n",
    "pca.fit(X)"
   ]
  },
  {
   "cell_type": "code",
   "execution_count": 19,
   "metadata": {},
   "outputs": [
    {
     "name": "stdout",
     "output_type": "stream",
     "text": [
      "Component 0\n",
      "position 0.0\n",
      "RSI -1.5741570591476517e-07\n",
      "ATR -2.76187782610532e-10\n",
      "ADX -2.7972400134659363e-07\n",
      "AROON_Oscillator -5.065041589846967e-07\n",
      "WILLR -6.457218457574796e-07\n",
      "OBV 0.09372251991912874\n",
      "CCI -2.471434761149028e-06\n",
      "PSAR -6.582051426976479e-08\n",
      "AD -0.9955983567956618\n",
      "ADOSC -3.462490124634059e-05\n",
      "VOLUME_RSI 4.45850297538161e-08\n",
      "MFI -1.1132913398042249e-07\n",
      "\n",
      "Component 1\n",
      "position 0.0\n",
      "RSI 3.6661095179996344e-06\n",
      "ATR 1.2655983137368095e-10\n",
      "ADX 2.3402408388274684e-07\n",
      "AROON_Oscillator 1.3973692583476196e-05\n",
      "WILLR 4.6889688765698e-06\n",
      "OBV 0.9955983558543045\n",
      "CCI 2.602888699363708e-05\n",
      "PSAR 4.240365007122924e-08\n",
      "AD 0.09372252127323476\n",
      "ADOSC -4.366355714874451e-05\n",
      "VOLUME_RSI -3.8891405374779906e-07\n",
      "MFI 3.3892019385910953e-06\n",
      "\n",
      "Component 2\n",
      "position 0.0\n",
      "RSI -0.0026827685540801462\n",
      "ATR 6.014389651406102e-10\n",
      "ADX -0.00013968469307661793\n",
      "AROON_Oscillator -0.0036670774052563492\n",
      "WILLR -0.007679747720863826\n",
      "OBV -4.576695166147644e-05\n",
      "CCI -0.03202490402752106\n",
      "PSAR -2.1894349409072577e-06\n",
      "AD 3.0537339727652445e-05\n",
      "ADOSC -0.9994460530393732\n",
      "VOLUME_RSI 5.883477718630248e-05\n",
      "MFI -0.0015308010644129203\n",
      "\n"
     ]
    },
    {
     "data": {
      "image/png": "[encoded data removed]",
      "text/plain": [
       "<Figure size 640x480 with 1 Axes>"
      ]
     },
     "metadata": {},
     "output_type": "display_data"
    }
   ],
   "source": [
    "# print(pca.explained_variance_ratio_)\n",
    "# print(pca.singular_values_)\n",
    "\n",
    "# print components and their weights\n",
    "for i in range(len(pca.components_)):\n",
    "    print(\"Component\", i)\n",
    "    for j in range(len(pca.components_[i])):\n",
    "        print(X.columns[j], pca.components_[i][j])\n",
    "    print()\n",
    "\n",
    "# draw the explained variance ratio plot\n",
    "plt.title( \"PCA\")\n",
    "plt.plot(pca.explained_variance_ratio_)\n",
    "plt.legend(\"Explained variance ratio\")\n",
    "plt.xlabel(\"Number of components\")\n",
    "plt.ylabel(\"Explained variance ratio\")\n",
    "plt.show()"
   ]
  },
  {
   "cell_type": "code",
   "execution_count": null,
   "metadata": {},
   "outputs": [],
   "source": [
    "y_train"
   ]
  },
  {
   "cell_type": "code",
   "execution_count": null,
   "metadata": {},
   "outputs": [],
   "source": [
    "# Import libraries\n",
    "from sklearn.datasets import load_breast_cancer\n",
    "from sklearn.feature_selection import *\n",
    "from sklearn.linear_model import *\n",
    "from sklearn.metrics import *\n",
    "\n",
    "# Select the best 10 features based on f-test\n",
    "# selector = SelectKBest(f_classif, k=1)\n",
    "# X_new = selector.fit_transform(X_train, y_train)\n",
    "\n",
    "# Train a logistic regression model on the selected features\n",
    "clf = LogisticRegressionCV()\n",
    "clf.fit(X_train, y_train)\n",
    "\n",
    "# Predict on the test set and evaluate accuracy\n",
    "y_pred = clf.predict(X_test)\n",
    "\n",
    "acc = accuracy_score(y_test, y_pred)\n",
    "print(f\"accuracy_score: {acc:.2f}\")\n",
    "\n",
    "prec_acc = precision_score(y_test, y_pred)\n",
    "print(f\"prec_acc: {prec_acc:.3f}\")"
   ]
  },
  {
   "cell_type": "code",
   "execution_count": null,
   "metadata": {},
   "outputs": [],
   "source": [
    "y_test"
   ]
  },
  {
   "cell_type": "code",
   "execution_count": null,
   "metadata": {},
   "outputs": [],
   "source": [
    "y_pred"
   ]
  },
  {
   "cell_type": "code",
   "execution_count": null,
   "metadata": {},
   "outputs": [],
   "source": [
    "X_new_df = pd.DataFrame(X_new, columns=X.columns[selector.get_support()])\n",
    "X_new_df\n"
   ]
  },
  {
   "cell_type": "code",
   "execution_count": null,
   "metadata": {},
   "outputs": [],
   "source": [
    "y_pred"
   ]
  },
  {
   "cell_type": "code",
   "execution_count": null,
   "metadata": {},
   "outputs": [],
   "source": [
    "selector.get_support()\n"
   ]
  }
 ],
 "metadata": {
  "kernelspec": {
   "display_name": "cs685",
   "language": "python",
   "name": "python3"
  },
  "language_info": {
   "codemirror_mode": {
    "name": "ipython",
    "version": 3
   },
   "file_extension": ".py",
   "mimetype": "text/x-python",
   "name": "python",
   "nbconvert_exporter": "python",
   "pygments_lexer": "ipython3",
   "version": "3.9.16"
  },
  "orig_nbformat": 4
 },
 "nbformat": 4,
 "nbformat_minor": 2
}
