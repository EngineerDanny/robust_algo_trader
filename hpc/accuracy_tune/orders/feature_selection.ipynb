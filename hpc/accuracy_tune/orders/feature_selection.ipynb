{
 "cells": [
  {
   "cell_type": "code",
   "execution_count": 9,
   "metadata": {},
   "outputs": [],
   "source": [
    "\n",
    "\n",
    "import pandas as pd\n",
    "import numpy as np\n",
    "import plotnine as p9\n",
    "import matplotlib.pyplot as plt\n",
    "import os\n",
    "from sklearn.model_selection import *\n",
    "from sklearn.decomposition import *\n",
    "\n",
    "# date_time = \"2023-07-30_19:34\"\n",
    "# date_time = \"2023-07-31_19:32\"\n",
    "\n",
    "# date_time = \"2023-09-08_09:59\"\n",
    "# date_time = \"2023-09-08_10:26\"\n",
    "# date_time = \"2023-09-08_12:09\"\n",
    "# date_time = \"2023-09-08_12:23\"\n",
    "date_time = \"2023-09-08_15:27\"\n",
    "# date_time = \"2023-09-08_16:06\"\n",
    "\n",
    "\n",
    "root_results_dir = \"/projects/genomic-ml/da2343/ml_project_2/hpc/accuracy_tune/orders\"\n",
    "df = pd.read_csv(f\"{root_results_dir}/{date_time}_results.csv\")\n",
    "\n",
    "y = df[\"label\"]\n",
    "# X = df[\"ADX\"]\n",
    "\n",
    "\n",
    "X = df.drop(columns=[\"index\", \"ask_price\", \"take_profit_price\",\n",
    "                     \"MACD\", \"MACD_Signal\", \"MACD_Hist\",\n",
    "            \"stop_loss_price\", \"SMA_200\", \"label\", \"year\", \"dataset_name\"])\n",
    "# X = df.drop(columns=[\"label\", \"dataset_name\"])\n",
    "# keep only \"ADX\" feature\n",
    "# X = X[[\"ADX\"]]\n",
    "\n",
    "\n",
    "# X_train, X_test, y_train, y_test = train_test_split(  X, y, test_size=0.5, random_state=0)"
   ]
  },
  {
   "cell_type": "code",
   "execution_count": null,
   "metadata": {},
   "outputs": [],
   "source": [
    "y_train"
   ]
  },
  {
   "cell_type": "code",
   "execution_count": null,
   "metadata": {},
   "outputs": [],
   "source": [
    "# Import libraries\n",
    "from sklearn.datasets import load_breast_cancer\n",
    "from sklearn.feature_selection import *\n",
    "from sklearn.linear_model import *\n",
    "from sklearn.metrics import *\n",
    "\n",
    "# Select the best 10 features based on f-test\n",
    "# selector = SelectKBest(f_classif, k=1)\n",
    "# X_new = selector.fit_transform(X_train, y_train)\n",
    "\n",
    "# Train a logistic regression model on the selected features\n",
    "clf = LogisticRegressionCV()\n",
    "clf.fit(X_train, y_train)\n",
    "\n",
    "# Predict on the test set and evaluate accuracy\n",
    "y_pred = clf.predict(X_test)\n",
    "\n",
    "acc = accuracy_score(y_test, y_pred)\n",
    "print(f\"accuracy_score: {acc:.2f}\")\n",
    "\n",
    "prec_acc = precision_score(y_test, y_pred)\n",
    "print(f\"prec_acc: {prec_acc:.3f}\")"
   ]
  },
  {
   "cell_type": "code",
   "execution_count": null,
   "metadata": {},
   "outputs": [],
   "source": [
    "X_new_df = pd.DataFrame(X_new, columns=X.columns[selector.get_support()])\n",
    "X_new_df\n"
   ]
  },
  {
   "cell_type": "code",
   "execution_count": null,
   "metadata": {},
   "outputs": [],
   "source": [
    "selector.get_support()\n"
   ]
  }
 ],
 "metadata": {
  "kernelspec": {
   "display_name": "cs685",
   "language": "python",
   "name": "python3"
  },
  "language_info": {
   "codemirror_mode": {
    "name": "ipython",
    "version": 3
   },
   "file_extension": ".py",
   "mimetype": "text/x-python",
   "name": "python",
   "nbconvert_exporter": "python",
   "pygments_lexer": "ipython3",
   "version": "3.9.16"
  },
  "orig_nbformat": 4
 },
 "nbformat": 4,
 "nbformat_minor": 2
}
