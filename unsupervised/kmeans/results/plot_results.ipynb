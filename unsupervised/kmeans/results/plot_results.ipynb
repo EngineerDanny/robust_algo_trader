{
 "cells": [
  {
   "cell_type": "code",
   "execution_count": null,
   "metadata": {},
   "outputs": [],
   "source": [
    "from plotnine import *\n",
    "import pandas as pd\n",
    "import numpy as np"
   ]
  },
  {
   "cell_type": "code",
   "execution_count": null,
   "metadata": {},
   "outputs": [],
   "source": [
    "# time = \"2024-03-29_04:53\"\n",
    "time = \"2024-03-29_07:23\"\n",
    "time = \"2024-03-31_15:54\"\n",
    "time = \"2024-03-31_16:37\"\n",
    "time = \"2024-03-31_17:12\"\n",
    "time = \"2024-04-01_15:42\"\n",
    "time = \"2024-04-01_17:06\"\n",
    "time = \"2024-04-01_18:11\"\n",
    "time = \"2024-04-16_16:47\"\n",
    "time = \"2024-04-18_19:23\"\n",
    "time = \"2024-04-18_20:30\"\n",
    "time = \"2024-04-19_01:29\"\n",
    "time = \"2024-04-19_09:39\"\n",
    "time = \"2024-05-19_16:34\"\n",
    "time = \"2024-05-19_16:58\"\n",
    "time = \"2024-05-19_17:38\"\n",
    "time = \"2024-05-19_18:55\"\n",
    "time = \"2024-05-20_04:15\"\n",
    "time = \"2024-05-20_10:30\"\n",
    "time = \"2024-05-29_13:27\"\n",
    "time = \"2024-06-10_12:52\" # EUR_USD_M15\n",
    "time = \"2024-06-10_22:59\" # USD_JPY_M15\n",
    "time = \"2024-06-11_04:01\" # USD_CHF_M15\n",
    "time = \"2024-06-11_04:14\" # USD_CAD_M15\n",
    "time = \"2024-06-11_11:42\" # AUD_USD_M15\n",
    "time = \"2024-06-11_23:43\" # AUD_JPY_M15\n",
    "time = \"2024-06-11_23:48\" # AUD_CAD_M15\n",
    "time = \"2024-06-12_08:44\" # EUR_JPY_M15\n",
    "time = \"2024-06-12_08:48\" # GBP_CHF_M15\n",
    "time = \"2024-06-12_08:52\" # GBP_JPY_M15\n",
    "\n",
    "time = \"2024-06-10_19:47\" # GBP_USD_M15\n",
    "# time = \"2024-08-04_11:12\" # GBP_USD_M15\n",
    "\n",
    "\n",
    "\n",
    "df = pd.read_csv(f\"/projects/genomic-ml/da2343/ml_project_2/unsupervised/kmeans/results/{time}_results.csv\")\n",
    "\n",
    "# df['test_cumsum_annualized_return'] = df['test_cumsum_annualized_return'] * -1\n",
    "# remove where dist_measure is 2\n",
    "# remove where future_candles is 5\n",
    "# remove where n_clusters is 150 or 200\n",
    "# remove where log_return_threshold is greater than 0.01\n",
    "# remove where calmar_ratio_threshold is not 2\n",
    "\n",
    "# df = df[df[\"dist_measure\"] != 2]\n",
    "# df = df[df[\"window\"] < 5]\n",
    "# df = df[df[\"random_state\"] == 42]\n",
    "# df = df[df[\"test_size\"] == 2880]\n",
    "# df = df[df[\"algorithm\"] == \"kmeans\"]\n",
    "\n",
    "# df = df[(df[\"test_sharpe_ratio\"] >= 0.15) | (df[\"test_inverse_sharpe_ratio\"] >= 0.15)]\n",
    "\n",
    "# df = df[(df[\"algorithm\"] == 'gaussian_mixture')]\n",
    "# df = df[(df[\"max_k_labels\"] == 1)]\n",
    "# df = df[(df[\"random_state\"] == 200)]\n",
    "\n",
    "df"
   ]
  },
  {
   "cell_type": "code",
   "execution_count": null,
   "metadata": {},
   "outputs": [],
   "source": [
    "p = ggplot(df)\n",
    "p = p + geom_line(aes(x=\"window\", y=\"test_cumulative_actual_return\"), color=\"blue\")\n",
    "# p = p + geom_line(aes(x=\"window\", y=\"val_avg_calmar_ratio\"), color=\"red\")\n",
    "# p = p + facet_wrap(\"~train_period + random_seed\", scales=\"free_x\", labeller=\"label_both\")\n",
    "p = p + facet_wrap(\"~train_period + test_period + random_seed + num_clusters + clustering_algorithm + max_cluster_labels\", scales=\"free_x\", labeller=\"label_both\")\n",
    "# p = p + theme(figure_size=(35, 35))\n",
    "p = p + theme(figure_size=(15, 15))\n",
    "print(p)"
   ]
  },
  {
   "cell_type": "code",
   "execution_count": null,
   "metadata": {},
   "outputs": [],
   "source": [
    "\n",
    "time = \"2024-03-14_19:00\"\n",
    "df = pd.read_csv(f\"/projects/genomic-ml/da2343/ml_project_2/kmeans/results/{time}_results.csv\")\n",
    "\n",
    "p = ggplot(df)\n",
    "p = p + geom_line(aes(x=\"window\", y=\"test_cumsum_annualized_return\"), color=\"blue\")\n",
    "# p = p + geom_line(aes(x=\"window\", y=\"val_cumsum_annualized_return\"), color=\"red\")\n",
    "p = p + facet_wrap(\"~train_size + test_size + random_state\", scales=\"free_x\", labeller=\"label_both\")\n",
    "p = p + theme(axis_text_x=element_text(angle=90), figure_size=(30, 30))\n",
    "print(p)"
   ]
  }
 ],
 "metadata": {
  "kernelspec": {
   "display_name": "cs685",
   "language": "python",
   "name": "python3"
  },
  "language_info": {
   "codemirror_mode": {
    "name": "ipython",
    "version": 3
   },
   "file_extension": ".py",
   "mimetype": "text/x-python",
   "name": "python",
   "nbconvert_exporter": "python",
   "pygments_lexer": "ipython3",
   "version": "3.9.16"
  }
 },
 "nbformat": 4,
 "nbformat_minor": 2
}
