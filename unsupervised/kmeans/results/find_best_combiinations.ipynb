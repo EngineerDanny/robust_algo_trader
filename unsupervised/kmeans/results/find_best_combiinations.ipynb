{
 "cells": [
  {
   "cell_type": "code",
   "execution_count": 1,
   "metadata": {},
   "outputs": [],
   "source": [
    "import pandas as pd\n",
    "import numpy as np\n",
    "from plotnine import *\n",
    "import seaborn as sns\n",
    "import matplotlib.pyplot as plt"
   ]
  },
  {
   "cell_type": "code",
   "execution_count": 22,
   "metadata": {},
   "outputs": [
    {
     "data": {
      "text/plain": [
       "0     0.952464\n",
       "1     0.952464\n",
       "2     0.952464\n",
       "3     0.952464\n",
       "4     0.952464\n",
       "        ...   \n",
       "71    0.952464\n",
       "72    0.952464\n",
       "73    0.952464\n",
       "74    0.952464\n",
       "75    0.952464\n",
       "Name: test_profit_factor, Length: 76, dtype: float64"
      ]
     },
     "execution_count": 22,
     "metadata": {},
     "output_type": "execute_result"
    }
   ],
   "source": [
    "def filter_csv_pandas(input_file, instrument_column, target_instrument):\n",
    "    # Initialize an empty list to store the filtered chunks\n",
    "    filtered_chunks = []\n",
    "\n",
    "    # Iterate through the CSV file in chunks\n",
    "    for chunk in pd.read_csv(input_file, chunksize=10000):\n",
    "        # Filter rows where the instrument column has the value \"A\"\n",
    "        if instrument_column in chunk.columns:\n",
    "            filtered_chunk = chunk[chunk[instrument_column] == target_instrument]\n",
    "            \n",
    "            # If the filtered chunk is not empty, add it to our list\n",
    "            if not filtered_chunk.empty:\n",
    "                filtered_chunks.append(filtered_chunk)\n",
    "    \n",
    "    # Concatenate all filtered chunks into a single DataFrame\n",
    "    if filtered_chunks:\n",
    "        return pd.concat(filtered_chunks, ignore_index=True)\n",
    "    else:\n",
    "        return pd.DataFrame()  # Return an empty DataFrame if no matching rows found\n",
    "\n",
    "\n",
    "time = \"2024-12-12_15:48\"\n",
    "time = \"2024-12-14_04:20\"\n",
    "\n",
    "\n",
    "raw_df = filter_csv_pandas(f\"/projects/genomic-ml/da2343/ml_project_2/unsupervised/kmeans/results/{time}_results.csv\", \"instrument\", \"EUR_CAD_M15\")\n",
    "\n",
    "raw_df[\"test_profit_factor\"]"
   ]
  },
  {
   "cell_type": "code",
   "execution_count": 5,
   "metadata": {},
   "outputs": [
    {
     "name": "stdout",
     "output_type": "stream",
     "text": [
      "No combinations meet the minimum criteria. Consider adjusting thresholds.\n"
     ]
    }
   ],
   "source": [
    "def find_best_combinations(raw_df, min_profit_factor=1.2, min_sharpe=0.1, min_trades=10):\n",
    "    # Group by parameters except instrument and random_seed\n",
    "    group_cols = ['num_clusters', 'clustering_algorithm', 'train_period', \n",
    "                 'test_period', 'reverse_test']\n",
    "    \n",
    "    # Calculate mean metrics across instruments and seeds\n",
    "    param_performance = raw_df.groupby(group_cols).agg({\n",
    "        'test_profit_factor': 'mean',\n",
    "        'test_sharpe_ratio': 'mean',\n",
    "        'test_win_ratio': 'mean',\n",
    "        'test_num_trades': 'mean',\n",
    "        'test_avg_trades_per_window': 'mean'\n",
    "    }).reset_index()\n",
    "    \n",
    "    # Filter for minimum performance thresholds\n",
    "    qualified_params = param_performance[\n",
    "        (param_performance['test_profit_factor'] >= min_profit_factor) &\n",
    "        (param_performance['test_sharpe_ratio'] >= min_sharpe) &\n",
    "        (param_performance['test_avg_trades_per_window'] >= min_trades)\n",
    "    ].copy()\n",
    "    \n",
    "    if len(qualified_params) == 0:\n",
    "        print(\"No combinations meet the minimum criteria. Consider adjusting thresholds.\")\n",
    "        return None\n",
    "    \n",
    "    # Create a combined score with trade frequency consideration\n",
    "    qualified_params['combined_score'] = (\n",
    "        qualified_params['test_profit_factor'] * 0.4 +\n",
    "        qualified_params['test_sharpe_ratio'] * 0.4 +\n",
    "        (qualified_params['test_avg_trades_per_window'] / \n",
    "         qualified_params['test_avg_trades_per_window'].max()) * 0.2\n",
    "    )\n",
    "    \n",
    "    # Sort by combined score\n",
    "    best_params = qualified_params.sort_values('combined_score', ascending=False)\n",
    "    \n",
    "    # Get unique top combinations\n",
    "    top_params = best_params.head(5)\n",
    "    print(raw_df['instrument'].unique()[0])\n",
    "    print(\"Top 5 Parameter Combinations:\")\n",
    "    print(\"-\" * 50)\n",
    "    for _, row in top_params.iterrows():\n",
    "        print(f\"\\nCombination Details:\")\n",
    "        print(f\"Clusters: {row['num_clusters']}\")\n",
    "        print(f\"Algorithm: {row['clustering_algorithm']}\")\n",
    "        print(f\"Train Period: {row['train_period']} weeks\")\n",
    "        print(f\"Reverse Test: {row['reverse_test']}\")\n",
    "        \n",
    "        print(f\"Performance Metrics:\")\n",
    "        print(f\"- Profit Factor: {row['test_profit_factor']:.3f}\")\n",
    "        print(f\"- Sharpe Ratio: {row['test_sharpe_ratio']:.3f}\")\n",
    "        print(f\"- Win Ratio: {row['test_win_ratio']:.3f}\")\n",
    "        print(f\"- Avg Trades per Window: {row['test_avg_trades_per_window']:.1f}\")\n",
    "        print(f\"- Combined Score: {row['combined_score']:.3f}\")\n",
    "        \n",
    "    \n",
    "    return best_params\n",
    "\n",
    "find_best_combinations(raw_df)"
   ]
  }
 ],
 "metadata": {
  "kernelspec": {
   "display_name": "cs685",
   "language": "python",
   "name": "python3"
  },
  "language_info": {
   "codemirror_mode": {
    "name": "ipython",
    "version": 3
   },
   "file_extension": ".py",
   "mimetype": "text/x-python",
   "name": "python",
   "nbconvert_exporter": "python",
   "pygments_lexer": "ipython3",
   "version": "3.9.16"
  }
 },
 "nbformat": 4,
 "nbformat_minor": 2
}
