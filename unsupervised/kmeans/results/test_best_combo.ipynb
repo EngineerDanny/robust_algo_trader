{
 "cells": [
  {
   "cell_type": "code",
   "execution_count": null,
   "metadata": {},
   "outputs": [],
   "source": [
    "import pandas as pd\n",
    "import numpy as np\n",
    "from plotnine import *\n",
    "import seaborn as sns\n",
    "import matplotlib.pyplot as plt"
   ]
  },
  {
   "cell_type": "code",
   "execution_count": null,
   "metadata": {},
   "outputs": [],
   "source": [
    "# Filter the dataframe by some dummy columns\n",
    "# df = raw_df[(raw_df[\"clustering_algorithm\"] == 'kmeans')]\n",
    "# df = df[(df[\"num_clusters\"] == 6)]\n",
    "# df = df[(df[\"train_period\"] == 8)]\n",
    "# df = df[(df[\"price_history_length\"] == 24)]\n",
    "# df = df[(df[\"reverse_test\"] == False)]\n",
    "\n",
    "df = raw_df[(raw_df[\"clustering_algorithm\"] == 'birch')]\n",
    "df = df[(df[\"num_clusters\"] == 10)]\n",
    "df = df[(df[\"train_period\"] == 5)]\n",
    "df = df[(df[\"price_history_length\"] == 24)]\n",
    "df = df[(df[\"reverse_test\"] == False)]\n",
    "\n",
    "df[\"test_cumulative_actual_return\"] = df[\"test_actual_return\"].cumsum()\n",
    "\n",
    "df\n",
    "p = ggplot(df)\n",
    "p = p + geom_line(aes(x=\"window\", y=\"test_cumulative_actual_return\"), color=\"blue\")\n",
    "p = p + facet_wrap(\"~train_period + test_period + random_seed + num_clusters + clustering_algorithm + num_perceptually_important_points\", scales=\"free_x\", labeller=\"label_both\")\n",
    "p = p + theme(figure_size=(5, 5))\n",
    "# p = p + theme(figure_size=(35, 35))\n",
    "instrument = df['instrument'].iloc[0]\n",
    "algo = df['clustering_algorithm'].iloc[0]\n",
    "p = p + ggtitle(instrument)\n",
    "print(p)"
   ]
  },
  {
   "cell_type": "code",
   "execution_count": null,
   "metadata": {},
   "outputs": [],
   "source": [
    "p = ggplot(raw_df)\n",
    "p = p + geom_line(aes(x=\"window\", y=\"test_cumulative_actual_return\"), color=\"blue\")\n",
    "p = p + facet_wrap(\"~train_period + test_period + random_seed + num_clusters + clustering_algorithm + max_cluster_labels + num_perceptually_important_points\", scales=\"free_x\", labeller=\"label_both\")\n",
    "p = p + theme(figure_size=(5, 5))\n",
    "# p = p + theme(figure_size=(35, 35))\n",
    "instrument = df['instrument'].iloc[0]\n",
    "algo = df['clustering_algorithm'].iloc[0]\n",
    "p = p + ggtitle(instrument)\n",
    "print(p)"
   ]
  },
  {
   "cell_type": "code",
   "execution_count": null,
   "metadata": {},
   "outputs": [],
   "source": [
    "p = ggplot(df)\n",
    "p = p + geom_line(aes(x=\"window\", y=\"test_cumulative_actual_return\"), color=\"blue\")\n",
    "p = p + facet_wrap(\"~train_period + test_period + random_seed + num_clusters + clustering_algorithm + max_cluster_labels + num_perceptually_important_points\", scales=\"free_x\", labeller=\"label_both\")\n",
    "p = p + theme(figure_size=(5, 5))\n",
    "# p = p + theme(figure_size=(35, 35))\n",
    "instrument = df['instrument'].iloc[0]\n",
    "algo = df['clustering_algorithm'].iloc[0]\n",
    "p = p + ggtitle(instrument)\n",
    "print(p)"
   ]
  },
  {
   "cell_type": "code",
   "execution_count": null,
   "metadata": {},
   "outputs": [],
   "source": [
    "output_path = f\"/projects/genomic-ml/da2343/ml_project_2/unsupervised/kmeans/strategy_figures/{instrument}_{algo}.png\"\n",
    "# save the df\n",
    "df.to_csv(output_path.replace(\".png\", \".csv\"), index=False)\n",
    "p.save(output_path, dpi=300)"
   ]
  }
 ],
 "metadata": {
  "kernelspec": {
   "display_name": "cs685",
   "language": "python",
   "name": "python3"
  },
  "language_info": {
   "name": "python",
   "version": "3.9.16"
  }
 },
 "nbformat": 4,
 "nbformat_minor": 2
}
