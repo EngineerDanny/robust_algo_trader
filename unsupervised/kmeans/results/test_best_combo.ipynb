{
 "cells": [
  {
   "cell_type": "code",
   "execution_count": 6,
   "metadata": {},
   "outputs": [],
   "source": [
    "import pandas as pd\n",
    "import numpy as np\n",
    "from plotnine import *\n",
    "import seaborn as sns\n",
    "import matplotlib.pyplot as plt"
   ]
  },
  {
   "cell_type": "code",
   "execution_count": null,
   "metadata": {},
   "outputs": [],
   "source": [
    "time = \"2024-12-31_13:33\"\n",
    "time = \"2025-01-02_08:33\"\n",
    "time = \"2025-01-03_06:00\"\n",
    "time = \"2025-01-04_09:44\"\n",
    "time = \"2025-01-06_17:52\"\n",
    "time = \"2025-01-20_17:15\"\n",
    "time = \"2025-01-20_18:26\"\n",
    "# time = \"2025-01-21_11:28\"\n",
    "\n",
    "\n",
    "raw_df = pd.read_csv(f\"/projects/genomic-ml/da2343/ml_project_2/unsupervised/kmeans/results/{time}_results.csv\")\n",
    "raw_df"
   ]
  },
  {
   "cell_type": "code",
   "execution_count": null,
   "metadata": {},
   "outputs": [],
   "source": [
    "def analyze_performance(raw_df):\n",
    "    # Group by relevant parameters and calculate averages\n",
    "    group_cols = ['instrument', 'num_clusters', 'clustering_algorithm', 'train_period', \n",
    "                 'reverse_test', 'random_seed']\n",
    "    \n",
    "    # Calculate mean performance metrics for each parameter combination\n",
    "    results_df = raw_df.groupby(group_cols).agg({\n",
    "        'test_profit_factor': 'mean',\n",
    "        'test_sharpe_ratio': 'mean',\n",
    "        'test_win_ratio': 'mean',\n",
    "        'test_num_trades': 'mean'\n",
    "    }).reset_index()\n",
    "    \n",
    "    # Calculate combined score\n",
    "    results_df['combined_score'] = (\n",
    "        results_df['test_profit_factor'] * 0.4 +\n",
    "        results_df['test_sharpe_ratio'] * 0.4 +\n",
    "        (results_df['test_num_trades'] / results_df['test_num_trades'].max()) * 0.2\n",
    "    )\n",
    "    \n",
    "    # Create display DataFrame with proper formatting\n",
    "    display_df = pd.DataFrame({\n",
    "        'Instrument': results_df['instrument'],\n",
    "        'Clusters': results_df['num_clusters'],\n",
    "        'Algorithm': results_df['clustering_algorithm'],\n",
    "        'Train Period': results_df['train_period'].astype(str) + 'w',\n",
    "        'Rev.Test': results_df['reverse_test'],\n",
    "        'Seed': results_df['random_seed'],\n",
    "        'PF': results_df['test_profit_factor'].round(3),\n",
    "        'Sharpe': results_df['test_sharpe_ratio'].round(3),\n",
    "        'Win%': (results_df['test_win_ratio'] * 100).round(1),\n",
    "        'Trades': results_df['test_num_trades'].round(1),\n",
    "        'Score': results_df['combined_score'].round(3)\n",
    "    })\n",
    "    \n",
    "    # Sort by instrument name\n",
    "    display_df = display_df.sort_values('Instrument')\n",
    "    \n",
    "    # Apply styling with color gradients\n",
    "    styled_df = display_df.style\\\n",
    "        .format({\n",
    "            'PF': '{:.3f}',\n",
    "            'Sharpe': '{:.3f}',\n",
    "            'Win%': '{:.1f}%',\n",
    "            'Trades': '{:.1f}',\n",
    "            'Score': '{:.3f}'\n",
    "        })\\\n",
    "        .background_gradient(subset=['Score'], cmap='YlOrRd')\\\n",
    "        .background_gradient(subset=['PF'], cmap='YlOrRd')\\\n",
    "        .background_gradient(subset=['Sharpe'], cmap='YlOrRd')\\\n",
    "        .background_gradient(subset=['Win%'], cmap='YlOrRd')\\\n",
    "        .background_gradient(subset=['Trades'], cmap='YlOrRd')\\\n",
    "        .set_properties(**{\n",
    "            'text-align': 'right',\n",
    "            'font-family': 'monospace',\n",
    "            'padding': '5px'\n",
    "        })\\\n",
    "        .hide(axis=\"index\")\n",
    "    \n",
    "    return results_df, styled_df\n",
    "\n",
    "# Example usage:\n",
    "results_df, styled_df = analyze_performance(raw_df)\n",
    "styled_df  # Display the styled table"
   ]
  },
  {
   "cell_type": "code",
   "execution_count": null,
   "metadata": {},
   "outputs": [],
   "source": [
    "results_df"
   ]
  }
 ],
 "metadata": {
  "kernelspec": {
   "display_name": "cs685",
   "language": "python",
   "name": "python3"
  },
  "language_info": {
   "codemirror_mode": {
    "name": "ipython",
    "version": 3
   },
   "file_extension": ".py",
   "mimetype": "text/x-python",
   "name": "python",
   "nbconvert_exporter": "python",
   "pygments_lexer": "ipython3",
   "version": "3.9.16"
  }
 },
 "nbformat": 4,
 "nbformat_minor": 2
}
