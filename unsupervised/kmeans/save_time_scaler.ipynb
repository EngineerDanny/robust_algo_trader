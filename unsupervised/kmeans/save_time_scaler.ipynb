{
 "cells": [
  {
   "cell_type": "code",
   "execution_count": null,
   "metadata": {},
   "outputs": [],
   "source": [
    "import pandas as pd\n",
    "from sklearn.preprocessing import StandardScaler\n",
    "import joblib\n",
    "\n",
    "def create_and_save_time_scaler(data_path, scaler_path, year):\n",
    "    # Load data\n",
    "    ohlcv_data = pd.read_csv(data_path, parse_dates=[\"time\"])\n",
    "    ohlcv_data.set_index(\"time\", inplace=True)\n",
    "    \n",
    "    # Filter for the specified year\n",
    "    ohlcv_data = ohlcv_data[ohlcv_data.index.year == year]\n",
    "    \n",
    "    # Generate time features\n",
    "    time_features = pd.DataFrame({\n",
    "        'day_of_week': ohlcv_data.index.dayofweek,\n",
    "        'hour': ohlcv_data.index.hour,\n",
    "        'minute': ohlcv_data.index.minute\n",
    "    })\n",
    "    \n",
    "    # Fit scaler\n",
    "    ts_scaler = StandardScaler()\n",
    "    ts_scaler.fit(time_features)\n",
    "    \n",
    "    print(ts_scaler)\n",
    "    \n",
    "    # Save scaler\n",
    "    joblib.dump(ts_scaler, scaler_path)\n",
    "    \n",
    "    return ts_scaler\n",
    "\n",
    "# Usage\n",
    "data_path = \"/projects/genomic-ml/da2343/ml_project_2/data/gen_oanda_data/GBP_USD_M15_raw_data.csv\"\n",
    "scaler_path = \"time_standard_scaler_2018.joblib\"\n",
    "year = 2018  # Specify the year you want to process\n",
    "\n",
    "ts_scaler = create_and_save_time_scaler(data_path, scaler_path, year)\n",
    "\n",
    "# You can now use scaled_features in your main script\n",
    "# print(scaled_features)"
   ]
  }
 ],
 "metadata": {
  "language_info": {
   "name": "python"
  }
 },
 "nbformat": 4,
 "nbformat_minor": 2
}
