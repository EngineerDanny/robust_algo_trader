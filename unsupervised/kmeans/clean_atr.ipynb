{
 "cells": [
  {
   "cell_type": "code",
   "execution_count": null,
   "metadata": {},
   "outputs": [],
   "source": [
    "\n",
    "import talib\n",
    "from datetime import datetime\n",
    "import pandas as pd\n",
    "import numpy as np\n",
    "import os\n",
    "import shutil\n",
    "import sys\n",
    "import json"
   ]
  },
  {
   "cell_type": "code",
   "execution_count": null,
   "metadata": {},
   "outputs": [],
   "source": [
    "\n",
    "def get_atr_quantiles(instrument):\n",
    "    df = pd.read_csv(f'/projects/genomic-ml/da2343/ml_project_2/data/gen_oanda_data/{instrument}_raw_data.csv', \n",
    "                    parse_dates=[\"time\"])\n",
    "    df.set_index(\"time\", inplace=True)\n",
    "    # Add time-based features\n",
    "    df[\"year\"] = df.index.year\n",
    "    df[\"month\"] = df.index.month\n",
    "    df[\"day_of_week\"] = df.index.dayofweek\n",
    "    df[\"hour\"] = df.index.hour\n",
    "    df[\"minute\"] = df.index.minute\n",
    "    # Calculate ATR\n",
    "    df[\"atr\"] = talib.ATR(df[\"high\"], df[\"low\"], df[\"close\"], timeperiod=1)\n",
    "    # Remove NaN values\n",
    "    df = df.dropna()\n",
    "    # Extract only year 2018\n",
    "    df = df[df[\"year\"] == 2018]\n",
    "    # Calculate Q1 and Q3\n",
    "    Q1 = round(df['atr'].quantile(0.4), 6 )\n",
    "    Q3 = round(df['atr'].quantile(0.9), 6)\n",
    "    # Create the new 'atr_cleaned' column\n",
    "    # df['atr_cleaned'] = df['atr'].clip(lower=Q1, upper=Q3)\n",
    "    return Q1, Q3\n",
    "\n",
    "\n",
    "\n",
    "# Load the config file\n",
    "config_path = \"/projects/genomic-ml/da2343/ml_project_2/settings/config.json\"\n",
    "with open(config_path) as f:\n",
    "  config = json.load(f) \n",
    "traded_instruments = config[\"traded_instruments\"]\n",
    "\n",
    "for instrument in traded_instruments:\n",
    "    print(\"Loading data for instrument: \", instrument)\n",
    "    q1,q3 = get_atr_quantiles(f\"{instrument}_M15\")\n",
    "    print(f\"Q1: {q1}, Q3: {q3}\")\n",
    "\n"
   ]
  },
  {
   "cell_type": "code",
   "execution_count": null,
   "metadata": {},
   "outputs": [],
   "source": [
    "# Print some statistics\n",
    "print(f\"Original ATR range: {df['atr'].min()} to {df['atr'].max()}\")\n",
    "print(f\"Cleaned ATR range: {df['atr_cleaned'].min()} to {df['atr_cleaned'].max()}\")\n",
    "print(f\"Q1: {Q1}\")\n",
    "print(f\"Q3: {Q3}\")\n",
    "\n",
    "# Optional: Plot the results\n",
    "import matplotlib.pyplot as plt\n",
    "plt.figure(figsize=(12, 6))\n",
    "plt.plot(df.index, df['atr'], label='Original ATR', alpha=0.5)\n",
    "plt.plot(df.index, df['atr_cleaned'], label='Cleaned ATR', alpha=0.8)\n",
    "plt.title('ATR - Original vs Cleaned (Clipped to Q1-Q3 range)')\n",
    "plt.legend()\n",
    "plt.show()"
   ]
  },
  {
   "cell_type": "code",
   "execution_count": null,
   "metadata": {},
   "outputs": [],
   "source": [
    "# # Load your actual data here\n",
    "# df = pd.read_csv('/projects/genomic-ml/da2343/ml_project_2/data/gen_oanda_data/GBP_USD_M15_raw_data.csv', parse_dates=[\"time\"])\n",
    "# df.set_index(\"time\", inplace=True)\n",
    "# df = df[df[\"year\"] == 2018]\n",
    "\n",
    "\n",
    "window_splitter = OrderedSlidingWindowSplitter(train_weeks=4, test_weeks=2, step_size=1)\n",
    "\n",
    "print(f\"Total number of splits: {window_splitter.get_n_splits(df)}\")\n",
    "\n",
    "for window, (train_indices, test_indices) in enumerate(window_splitter.split(df), 1):\n",
    "    train_data = df.iloc[train_indices]\n",
    "    test_data = df.iloc[test_indices]\n",
    "    \n",
    "    print(f\"\\nWindow {window}:\")\n",
    "    print(f\"Train data: {train_data.index[0]} to {train_data.index[-1]}\")\n",
    "    print(f\"Train data shape: {train_data.shape}\")\n",
    "    print(f\"Test data: {test_data.index[0]} to {test_data.index[-1]}\")\n",
    "    print(f\"Test data shape: {test_data.shape}\")\n",
    "    print(f\"Expected train points: {4 * 5 * 24 * 4}, Actual: {len(train_indices)}\")\n",
    "    print(f\"Expected test points: {2 * 5 * 24 * 4}, Actual: {len(test_indices)}\")\n",
    "    \n",
    "    # if window == window_splitter.get_n_splits(df):\n",
    "    #     break\n",
    "\n",
    "print(\"\\nAll windows processed.\")\n"
   ]
  }
 ],
 "metadata": {
  "kernelspec": {
   "display_name": "cs685",
   "language": "python",
   "name": "python3"
  },
  "language_info": {
   "codemirror_mode": {
    "name": "ipython",
    "version": 3
   },
   "file_extension": ".py",
   "mimetype": "text/x-python",
   "name": "python",
   "nbconvert_exporter": "python",
   "pygments_lexer": "ipython3",
   "version": "3.9.16"
  }
 },
 "nbformat": 4,
 "nbformat_minor": 2
}
