{
 "cells": [
  {
   "cell_type": "code",
   "execution_count": 1,
   "metadata": {},
   "outputs": [],
   "source": [
    "import torch\n",
    "from torch import nn\n",
    "from torch.optim import Adam\n",
    "\n",
    "class ClusteringNetwork(nn.Module):\n",
    "    def __init__(self, input_dim, hidden_dim, n_clusters):\n",
    "        super(ClusteringNetwork, self).__init__()\n",
    "        self.network = nn.Sequential(\n",
    "            nn.Linear(input_dim, hidden_dim),\n",
    "            nn.ReLU(),\n",
    "            nn.Linear(hidden_dim, n_clusters)\n",
    "        )\n",
    "        self.centroids = nn.Parameter(torch.rand(n_clusters, hidden_dim))\n",
    "\n",
    "    def forward(self, x):\n",
    "        cluster_assignments = self.network(x)\n",
    "        return cluster_assignments\n",
    "\n",
    "def wcss_loss(outputs, centroids):\n",
    "    \"\"\"Calculate the Within-Cluster Sum of Squares (WCSS) loss.\"\"\"\n",
    "    norm_squared = torch.sum((outputs.unsqueeze(1) - centroids) ** 2, 2)\n",
    "    min_norm_squared = torch.min(norm_squared, 1)[0]\n",
    "    wcss = torch.sum(min_norm_squared)\n",
    "    return wcss\n",
    "\n",
    "def train_clustering_network(data_loader, model, optimizer, epochs):\n",
    "    for epoch in range(epochs):\n",
    "        total_loss = 0\n",
    "        for data in data_loader:\n",
    "            inputs = data[0]\n",
    "            optimizer.zero_grad()\n",
    "            outputs = model(inputs)\n",
    "            \n",
    "            loss = wcss_loss(outputs, model.centroids)\n",
    "            loss.backward()\n",
    "            optimizer.step()\n",
    "            total_loss += loss.item()\n",
    "        print(f'Epoch {epoch+1}/{epochs}, Loss: {total_loss / len(data_loader)}')\n",
    "\n",
    "# Example usage:\n",
    "input_dim = 784  # Number of features in the input\n",
    "hidden_dim = 64  # Size of the hidden layer\n",
    "n_clusters = 10  # Number of clusters"
   ]
  },
  {
   "cell_type": "code",
   "execution_count": 7,
   "metadata": {},
   "outputs": [
    {
     "data": {
      "text/plain": [
       "torch.Size([10, 64])"
      ]
     },
     "execution_count": 7,
     "metadata": {},
     "output_type": "execute_result"
    }
   ],
   "source": [
    "centroids = nn.Parameter(torch.rand(n_clusters, hidden_dim))\n",
    "centroids.shape"
   ]
  }
 ],
 "metadata": {
  "kernelspec": {
   "display_name": "cs499f22",
   "language": "python",
   "name": "python3"
  },
  "language_info": {
   "codemirror_mode": {
    "name": "ipython",
    "version": 3
   },
   "file_extension": ".py",
   "mimetype": "text/x-python",
   "name": "python",
   "nbconvert_exporter": "python",
   "pygments_lexer": "ipython3",
   "version": "3.9.12"
  }
 },
 "nbformat": 4,
 "nbformat_minor": 2
}
