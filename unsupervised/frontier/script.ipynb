{
 "cells": [
  {
   "cell_type": "code",
   "execution_count": null,
   "metadata": {},
   "outputs": [],
   "source": [
    "import numpy as np\n",
    "import matplotlib.pyplot as plt\n",
    "\n",
    "def feature_dropout(X, dropout_rate=0.2):\n",
    "    mask = np.random.binomial(1, 1-dropout_rate, size=X.shape)\n",
    "    return X * mask\n",
    "\n",
    "def visualize_feature_dropout(n_features=10, n_samples=5, dropout_rate=0.2):\n",
    "    fig, axs = plt.subplots(n_samples, 2, figsize=(12, 3*n_samples))\n",
    "    plt.suptitle(f\"Feature Dropout Visualization (Dropout Rate: {dropout_rate})\", fontsize=16)\n",
    "\n",
    "    for i in range(n_samples):\n",
    "        # Generate random feature values\n",
    "        features = np.random.rand(n_features)\n",
    "        \n",
    "        # Apply feature dropout\n",
    "        features_dropout = feature_dropout(features, dropout_rate)\n",
    "        \n",
    "        # Plot original features\n",
    "        axs[i, 0].bar(range(n_features), features, color='blue', alpha=0.7)\n",
    "        axs[i, 0].set_ylim(0, 1)\n",
    "        axs[i, 0].set_title(f\"Original Features (Sample {i+1})\")\n",
    "        axs[i, 0].set_xlabel(\"Feature Index\")\n",
    "        axs[i, 0].set_ylabel(\"Feature Value\")\n",
    "        \n",
    "        # Plot features after dropout\n",
    "        bars = axs[i, 1].bar(range(n_features), features_dropout, color='blue', alpha=0.7)\n",
    "        axs[i, 1].set_ylim(0, 1)\n",
    "        axs[i, 1].set_title(f\"Features After Dropout (Sample {i+1})\")\n",
    "        axs[i, 1].set_xlabel(\"Feature Index\")\n",
    "        axs[i, 1].set_ylabel(\"Feature Value\")\n",
    "        \n",
    "        # Highlight dropped out features\n",
    "        for j, bar in enumerate(bars):\n",
    "            if features_dropout[j] == 0:\n",
    "                bar.set_color('red')\n",
    "                bar.set_alpha(0.3)\n",
    "\n",
    "    plt.tight_layout()\n",
    "    plt.show()\n",
    "\n",
    "# Run the visualization\n",
    "visualize_feature_dropout(n_features=10, n_samples=5, dropout_rate=0.2)"
   ]
  }
 ],
 "metadata": {
  "kernelspec": {
   "display_name": "Python 3",
   "language": "python",
   "name": "python3"
  },
  "language_info": {
   "codemirror_mode": {
    "name": "ipython",
    "version": 3
   },
   "file_extension": ".py",
   "mimetype": "text/x-python",
   "name": "python",
   "nbconvert_exporter": "python",
   "pygments_lexer": "ipython3",
   "version": "3.9.2"
  }
 },
 "nbformat": 4,
 "nbformat_minor": 2
}
