{
 "cells": [
  {
   "cell_type": "code",
   "execution_count": 10,
   "metadata": {},
   "outputs": [
    {
     "name": "stdout",
     "output_type": "stream",
     "text": [
      "you should buy 68738 units\n"
     ]
    }
   ],
   "source": [
    "# USD_MXN_H1\n",
    "risk_amount = 10\n",
    "close_price = 17.1845\n",
    "stop_loss_price = 17.1595\n",
    "stop_loss_distance = (close_price - stop_loss_price)\n",
    "pip_value = (1 / close_price) * 0.1\n",
    "units = risk_amount / (stop_loss_distance * pip_value)\n",
    "print(f\"you should buy {units:.0f} units\")"
   ]
  },
  {
   "cell_type": "code",
   "execution_count": 2,
   "metadata": {},
   "outputs": [
    {
     "name": "stdout",
     "output_type": "stream",
     "text": [
      "The units for the trade are 4000.00\n"
     ]
    }
   ],
   "source": [
    "# EUR_USD\n",
    "risk_amount = 10\n",
    "close_price = 1.0809\n",
    "stop_loss_price = 1.0784\n",
    "stop_loss_distance = (close_price - stop_loss_price)\n",
    "units = risk_amount / (stop_loss_distance * 1)\n",
    "print(f\"The units for the trade are {units:.2f}\")"
   ]
  },
  {
   "cell_type": "code",
   "execution_count": 33,
   "metadata": {},
   "outputs": [
    {
     "name": "stdout",
     "output_type": "stream",
     "text": [
      "The units for the trade are 575.07\n"
     ]
    }
   ],
   "source": [
    "# EUR_JPY\n",
    "risk_amount = 10\n",
    "close_price = 158.55 #EUR_JPY\n",
    "stop_loss_price = 156.00 #EUR_JPY\n",
    "exchange_rate = 1.0812 # USD per EUR\n",
    "stop_loss_distance = (close_price - stop_loss_price)\n",
    "pip_value = (1 / close_price) * exchange_rate\n",
    "units = risk_amount / (stop_loss_distance * pip_value)\n",
    "print(f\"The units for the trade are {units:.2f}\")\n"
   ]
  },
  {
   "cell_type": "code",
   "execution_count": 32,
   "metadata": {},
   "outputs": [
    {
     "name": "stdout",
     "output_type": "stream",
     "text": [
      "The units for the trade are 236.15\n"
     ]
    }
   ],
   "source": [
    "# GBP_JPY\n",
    "risk_amount = 10\n",
    "close_price = 186.22 # GBP_JPY\n",
    "stop_loss_price = 180.00 # GBP_JPY\n",
    "exchange_rate = 1.2678 # GBP_USD\n",
    "stop_loss_distance = (close_price - stop_loss_price)\n",
    "pip_value = (1 / close_price) * exchange_rate\n",
    "units = risk_amount / (stop_loss_distance * pip_value)\n",
    "print(f\"The units for the trade are {units:.2f}\")"
   ]
  },
  {
   "cell_type": "code",
   "execution_count": 31,
   "metadata": {},
   "outputs": [
    {
     "name": "stdout",
     "output_type": "stream",
     "text": [
      "The units for the trade are 163.38\n"
     ]
    }
   ],
   "source": [
    "# NZD_JPY_H1\n",
    "risk_amount = 10\n",
    "close_price = 89.84 # NZD_JPY\n",
    "stop_loss_price = 80.84 # NZD_JPY\n",
    "exchange_rate = 0.611 # NZD_USD\n",
    "stop_loss_distance = (close_price - stop_loss_price)\n",
    "pip_value = (1 / close_price) * exchange_rate\n",
    "units = risk_amount / (stop_loss_distance * pip_value)\n",
    "print(f\"The units for the trade are {units:.2f}\")"
   ]
  },
  {
   "cell_type": "code",
   "execution_count": 30,
   "metadata": {},
   "outputs": [
    {
     "name": "stdout",
     "output_type": "stream",
     "text": [
      "The units for the trade are 575.95\n"
     ]
    }
   ],
   "source": [
    "#AUD_HKD_H1\n",
    "risk_amount = 10\n",
    "close_price = 5.1357 # AUD_HKD\n",
    "stop_loss_price = 5.0000 # AUD_HKD\n",
    "exchange_rate = 0.6571 # AUD_USD\n",
    "stop_loss_distance = (close_price - stop_loss_price)\n",
    "pip_value = (1 / close_price) * exchange_rate\n",
    "units = risk_amount / (stop_loss_distance * pip_value)\n",
    "print(f\"The units for the trade are {units:.2f}\")"
   ]
  },
  {
   "cell_type": "code",
   "execution_count": 29,
   "metadata": {},
   "outputs": [
    {
     "name": "stdout",
     "output_type": "stream",
     "text": [
      "The units for the trade are 3154.43\n"
     ]
    }
   ],
   "source": [
    "#EUR_GBP_H1\n",
    "risk_amount = 10\n",
    "close_price = 0.8525 # EUR_GBP\n",
    "stop_loss_price = 0.8500 # EUR_GBP\n",
    "exchange_rate = 1.08102 # EUR_USD\n",
    "stop_loss_distance = (close_price - stop_loss_price) \n",
    "pip_value = (1 / close_price) * exchange_rate\n",
    "units = risk_amount / (stop_loss_distance * pip_value)\n",
    "print(f\"The units for the trade are {units:.2f}\")"
   ]
  }
 ],
 "metadata": {
  "kernelspec": {
   "display_name": "cs685",
   "language": "python",
   "name": "python3"
  },
  "language_info": {
   "codemirror_mode": {
    "name": "ipython",
    "version": 3
   },
   "file_extension": ".py",
   "mimetype": "text/x-python",
   "name": "python",
   "nbconvert_exporter": "python",
   "pygments_lexer": "ipython3",
   "version": "3.9.12"
  }
 },
 "nbformat": 4,
 "nbformat_minor": 2
}
