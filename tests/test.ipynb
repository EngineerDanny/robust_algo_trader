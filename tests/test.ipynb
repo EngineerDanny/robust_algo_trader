{
 "cells": [
  {
   "cell_type": "code",
   "execution_count": null,
   "metadata": {},
   "outputs": [],
   "source": [
    "# Load the data from a csv file\n",
    "data = pd.read_csv(\"/projects/genomic-ml/da2343/ml_project_2/data/gen_oanda_data/AUD_CAD_H1_processed_data.csv\", index_col=0, parse_dates=True)"
   ]
  },
  {
   "cell_type": "code",
   "execution_count": null,
   "metadata": {},
   "outputs": [],
   "source": [
    "data"
   ]
  },
  {
   "cell_type": "code",
   "execution_count": null,
   "metadata": {},
   "outputs": [],
   "source": [
    "#USD_XXX\n",
    "stop_loss = 250\n",
    "close_price = 17.1845\n",
    "risk_amount = 10\n",
    "pip_value = 0.0001 / close_price\n",
    "position_size = risk_amount / (stop_loss * pip_value)\n",
    "print(f\"you should buy {position_size:.0f} units\")"
   ]
  },
  {
   "cell_type": "code",
   "execution_count": null,
   "metadata": {},
   "outputs": [],
   "source": [
    "# XXX_USD\n",
    "stop_loss = 25\n",
    "close_price = 1.0809\n",
    "risk_amount = 10\n",
    "pip_value = 0.0001 / close_price\n",
    "position_size = risk_amount / (stop_loss * pip_value)\n",
    "position_size = position_size / close_price\n",
    "print(f\"you should buy {position_size:.0f} units\")"
   ]
  },
  {
   "cell_type": "code",
   "execution_count": 13,
   "metadata": {},
   "outputs": [
    {
     "name": "stdout",
     "output_type": "stream",
     "text": [
      "The units for the trade are 575.07\n"
     ]
    }
   ],
   "source": [
    "# Define the input variables\n",
    "risk_amount = 10\n",
    "entry_price = 158.55 # in JPY per EUR\n",
    "stop_loss_price = 156.00 # in JPY per EUR\n",
    "exchange_rate = 1.0812 # USD per EUR\n",
    "\n",
    "# Calculate the stop loss distance in pips\n",
    "stop_loss_distance = (entry_price - stop_loss_price) * 100\n",
    "\n",
    "# Calculate the pip value in USD\n",
    "pip_value = 0.01 / entry_price * exchange_rate\n",
    "\n",
    "# Calculate the units\n",
    "units = risk_amount / (stop_loss_distance * pip_value)\n",
    "\n",
    "# Print the result\n",
    "print(f\"The units for the trade are {units:.2f}\")\n"
   ]
  },
  {
   "cell_type": "code",
   "execution_count": 14,
   "metadata": {},
   "outputs": [
    {
     "data": {
      "text/plain": [
       "255.00000000000114"
      ]
     },
     "execution_count": 14,
     "metadata": {},
     "output_type": "execute_result"
    }
   ],
   "source": [
    "stop_loss_distance"
   ]
  }
 ],
 "metadata": {
  "kernelspec": {
   "display_name": "cs685",
   "language": "python",
   "name": "python3"
  },
  "language_info": {
   "codemirror_mode": {
    "name": "ipython",
    "version": 3
   },
   "file_extension": ".py",
   "mimetype": "text/x-python",
   "name": "python",
   "nbconvert_exporter": "python",
   "pygments_lexer": "ipython3",
   "version": "3.9.12"
  }
 },
 "nbformat": 4,
 "nbformat_minor": 2
}
