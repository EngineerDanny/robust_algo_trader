{
 "cells": [
  {
   "cell_type": "code",
   "execution_count": null,
   "metadata": {},
   "outputs": [],
   "source": [
    "import numpy as np\n",
    "import pandas as pd\n",
    "import matplotlib.pyplot as plt\n",
    "import random\n",
    "import sys\n",
    "import os\n",
    "\n",
    "# Instead of importing, copy the SimpleOHLCGenerator class \n",
    "# that you shared earlier into your current file\n",
    "# Or use this simpler import:\n",
    "sys.path.append(\"/Users/newuser/Projects/robust_algo_trader/drl/\")\n",
    "from ohlc_generator import SimpleOHLCGenerator  # Remove 'drl.' prefix"
   ]
  },
  {
   "cell_type": "code",
   "execution_count": null,
   "metadata": {},
   "outputs": [],
   "source": [
    "if __name__ == \"__main__\":\n",
    "    df = pd.read_csv(\"/Users/newuser/Projects/robust_algo_trader/data/gen_alpaca_data/AAPL_D1_raw_data.csv\")\n",
    "    generator = SimpleOHLCGenerator(df)\n",
    "    synthetic_data = generator.generate_bootstrap_data(num_samples=10, segment_length=5)[1]\n",
    "    fig = generator.plot_comparison(synthetic_data, num_bars=130)\n",
    "    plt.show()"
   ]
  },
  {
   "cell_type": "code",
   "execution_count": null,
   "metadata": {},
   "outputs": [],
   "source": [
    "synthetic_data"
   ]
  }
 ],
 "metadata": {
  "kernelspec": {
   "display_name": "cs499f22",
   "language": "python",
   "name": "python3"
  },
  "language_info": {
   "codemirror_mode": {
    "name": "ipython",
    "version": 3
   },
   "file_extension": ".py",
   "mimetype": "text/x-python",
   "name": "python",
   "nbconvert_exporter": "python",
   "pygments_lexer": "ipython3",
   "version": "3.9.12"
  }
 },
 "nbformat": 4,
 "nbformat_minor": 2
}
