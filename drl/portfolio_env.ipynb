{
 "cells": [
  {
   "cell_type": "code",
   "execution_count": null,
   "metadata": {},
   "outputs": [],
   "source": [
    "import numpy as np\n",
    "import pandas as pd\n",
    "import matplotlib.pyplot as plt\n",
    "import random\n",
    "import sys\n",
    "import os\n",
    "\n",
    "# Instead of importing, copy the SimpleOHLCGenerator class \n",
    "# that you shared earlier into your current file\n",
    "# Or use this simpler import:\n",
    "sys.path.append(\"/Users/newuser/Projects/robust_algo_trader/drl/\")\n",
    "from ohlc_generator import SimpleOHLCGenerator  # Remove 'drl.' prefix"
   ]
  },
  {
   "cell_type": "code",
   "execution_count": null,
   "metadata": {},
   "outputs": [],
   "source": [
    "if __name__ == \"__main__\":\n",
    "    df = pd.read_csv(\"/Users/newuser/Projects/robust_algo_trader/data/gen_alpaca_data/AAPL_D1_raw_data.csv\")\n",
    "    generator = SimpleOHLCGenerator(df)\n",
    "    synthetic_data = generator.generate_bootstrap_data(num_samples=10, segment_length=5)[1]\n",
    "    fig = generator.plot_comparison(synthetic_data, num_bars=130)\n",
    "    plt.show()"
   ]
  },
  {
   "cell_type": "code",
   "execution_count": 16,
   "metadata": {},
   "outputs": [
    {
     "name": "stdout",
     "output_type": "stream",
     "text": [
      "Bullish Drift: 0.15490142459033698, Bearish Drift: -0.08704622923798616\n",
      "New Bullish Drift: 0.13585207096486449\n",
      "Upward Bias: 0.1204605971281605\n",
      "Bullish Volatility: 0.14297539875829993, Bearish Volatility: 0.24297589129152458\n",
      "Bullish Drift: 0.18737638446522176, Bearish Drift: -0.10938948771869905\n",
      "New Bullish Drift: 0.16302304187458727\n",
      "Upward Bias: 0.1008512008717193\n",
      "Bullish Volatility: 0.13609746921562613, Bearish Volatility: 0.2360281073928923\n",
      "Bullish Drift: 0.14725886814698103, Bearish Drift: -0.13449835665026066\n",
      "New Bullish Drift: 0.08260159266026608\n",
      "Upward Bias: 0.07875424941518054\n",
      "Bullish Volatility: 0.11961506638996729, Bearish Volatility: 0.25942741997785823\n",
      "Bullish Drift: 0.11275927773436369, Bearish Drift: -0.07068702462156892\n",
      "New Bullish Drift: 0.09763088895994126\n",
      "Upward Bias: 0.08548447399026929\n",
      "Bullish Volatility: 0.15202584614063772, Bearish Volatility: 0.2072575544135963\n",
      "Bullish Drift: 0.12366851826424453, Bearish Drift: -0.12301987154844606\n",
      "New Bullish Drift: 0.143327677691296\n",
      "Upward Bias: 0.09751396036691344\n",
      "Bullish Volatility: 0.13198083930243584, Bearish Volatility: 0.2412491875062017\n",
      "Bullish Drift: 0.12194880163311811, Bearish Drift: -0.10026994449475868\n",
      "New Bullish Drift: 0.19556834553526814\n",
      "Upward Bias: 0.068845781420882\n",
      "Bullish Volatility: 0.17467634736309567, Bearish Volatility: 0.21337469050086932\n",
      "Bullish Drift: 0.14626590785014268, Bearish Drift: -0.1265637209779686\n",
      "New Bullish Drift: 0.08120989628360675\n",
      "Upward Bias: 0.09393722471738247\n",
      "Bullish Volatility: 0.1721539973998623, Bearish Volatility: 0.2551410484356991\n",
      "Bullish Drift: 0.1365305515283528, Bearish Drift: -0.12957043980734856\n",
      "New Bullish Drift: 0.13096688913232135\n",
      "Upward Bias: 0.07560311583210583\n",
      "Bullish Volatility: 0.13618083687120636, Bearish Volatility: 0.28171366678656745\n",
      "Bullish Drift: 0.15030854868705384, Bearish Drift: -0.0935183206121041\n",
      "New Bullish Drift: 0.087108795339118\n",
      "Upward Bias: 0.08229835439167367\n",
      "Bullish Volatility: 0.12969233999082122, Bearish Volatility: 0.26835028866522603\n",
      "Bullish Drift: 0.17092998567487855, Bearish Drift: -0.11678435046445278\n",
      "New Bullish Drift: 0.16793840357348597\n",
      "Upward Bias: 0.08381575248297571\n",
      "Bullish Volatility: 0.1599379029421069, Bearish Volatility: 0.27926635381367076\n"
     ]
    }
   ],
   "source": [
    "import numpy as np\n",
    "import pandas as pd\n",
    "import matplotlib.pyplot as plt\n",
    "import random\n",
    "import sys\n",
    "import os\n",
    "\n",
    "# set seed\n",
    "np.random.seed(42)\n",
    "\n",
    "for i in range(10):\n",
    "    random.seed(i)\n",
    "    # Stock-specific parameters with randomization\n",
    "    bull_drift = np.random.normal(0.14, 0.03) \n",
    "    new_bull_drift = np.random.normal(0.14, 0.03) \n",
    "\n",
    "\n",
    "    bear_drift = np.random.normal(-0.10, 0.02)\n",
    "    upward_bias = np.random.normal(0.09, 0.02) \n",
    "    bull_vol = max(np.random.normal(0.15, 0.03), 0.02)\n",
    "    bear_vol = max(np.random.normal(0.25, 0.03), 0.05)\n",
    "\n",
    "\n",
    "    print(f\"Bullish Drift: {bull_drift}, Bearish Drift: {bear_drift}\")\n",
    "    print(f\"New Bullish Drift: {new_bull_drift}\")\n",
    "\n",
    "    print(f\"Upward Bias: {upward_bias}\")\n",
    "    print(f\"Bullish Volatility: {bull_vol}, Bearish Volatility: {bear_vol}\")\n",
    "\n"
   ]
  }
 ],
 "metadata": {
  "kernelspec": {
   "display_name": "cs499f22",
   "language": "python",
   "name": "python3"
  },
  "language_info": {
   "codemirror_mode": {
    "name": "ipython",
    "version": 3
   },
   "file_extension": ".py",
   "mimetype": "text/x-python",
   "name": "python",
   "nbconvert_exporter": "python",
   "pygments_lexer": "ipython3",
   "version": "3.9.12"
  }
 },
 "nbformat": 4,
 "nbformat_minor": 2
}
