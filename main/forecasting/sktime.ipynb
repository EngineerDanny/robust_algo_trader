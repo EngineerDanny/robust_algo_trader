{
 "cells": [
  {
   "attachments": {},
   "cell_type": "markdown",
   "id": "d7fb508b-45fd-4bd1-9978-2f1650d06bd0",
   "metadata": {},
   "source": [
    "## Preparation"
   ]
  },
  {
   "attachments": {},
   "cell_type": "markdown",
   "id": "09288f02-231c-4f10-8f3d-9014cc3b96d7",
   "metadata": {},
   "source": [
    "We start by installing the packages we need."
   ]
  },
  {
   "attachments": {},
   "cell_type": "markdown",
   "id": "4397dbfb-c863-4db7-bcad-c968d15f1e1c",
   "metadata": {},
   "source": [
    "Import packages."
   ]
  },
  {
   "cell_type": "code",
   "execution_count": null,
   "id": "454e3336-8b6a-47c0-b10f-01b168c1e9c5",
   "metadata": {},
   "outputs": [],
   "source": [
    "import pandas as pd\n",
    "import numpy as np\n",
    "import matplotlib.pyplot as plt"
   ]
  },
  {
   "attachments": {},
   "cell_type": "markdown",
   "id": "8c3d4f96-db9e-4f5b-bc35-2ba5e56ca277",
   "metadata": {},
   "source": [
    "## Data preparation"
   ]
  },
  {
   "attachments": {},
   "cell_type": "markdown",
   "id": "9c007c4f-9303-4100-93b6-09b2d5510238",
   "metadata": {},
   "source": [
    "## Exploratory Data Analysis"
   ]
  },
  {
   "attachments": {},
   "cell_type": "markdown",
   "id": "e999beec-d2d0-4a25-9849-2bb1d87764e8",
   "metadata": {},
   "source": [
    "We now plot our weekly data."
   ]
  },
  {
   "cell_type": "code",
   "execution_count": null,
   "id": "6e036229",
   "metadata": {},
   "outputs": [],
   "source": [
    "import pandas as pd\n",
    "import numpy as np\n",
    "import matplotlib.pyplot as plt\n",
    "import talib\n",
    "\n",
    "real_df = pd.read_table('/projects/genomic-ml/da2343/ml_project_2/robust_algo_trader/data/EURUSD_H1_200702210000_202304242100.tsv')\n",
    "# real_df = pd.read_table('/Users/newuser/Projects/robust-algo-trader/data/EURUSD_H1_202302010000_202304242100.tsv')\n",
    "\n",
    "df = real_df.copy()\n",
    "# take only last 7000 rows\n",
    "df = df.iloc[-(200+24*7*4):]\n",
    "# df = df.iloc[-(24*7*3):]\n",
    "# df = df.iloc[-(24*5):]\n",
    "# df = df.iloc[-120:]\n",
    "# remove the following columns <TICKVOL>, <VOL> and <SPREAD>\n",
    "df = df.drop(['<TICKVOL>', '<VOL>', '<SPREAD>'], axis=1)\n",
    "df = df.rename(columns={'<DATE>': 'Date', \n",
    "                                '<TIME>': 'Time', \n",
    "                                '<OPEN>': 'Open', \n",
    "                                '<HIGH>': 'High', \n",
    "                                '<LOW>': 'Low', \n",
    "                                '<CLOSE>': 'Close'\n",
    "                                })\n",
    "# combine the date and time columns\n",
    "df['Date_Time'] = df['Date'] + ' ' + df['Time']\n",
    "# remove the date and time columns\n",
    "df = df.drop(['Date', 'Time'], axis=1)\n",
    "# convert the date_time column to datetime\n",
    "df['Time'] = pd.to_datetime(df['Date_Time'])\n",
    "# Rename Date_Time to Time\n",
    "# df.index = df['Time']\n",
    "# df.set_index(\"Time\")\n",
    "# remove the Time column\n",
    "df = df.drop(['Time'], axis=1)\n",
    "\n",
    "prices = df[\"Close\"].values\n",
    "df[\"SMA\"] = talib.SMA(prices, timeperiod=200)\n",
    "df = df.dropna()"
   ]
  },
  {
   "cell_type": "code",
   "execution_count": null,
   "id": "77cfabf3",
   "metadata": {},
   "outputs": [],
   "source": [
    "df"
   ]
  },
  {
   "cell_type": "code",
   "execution_count": null,
   "id": "d5962f8d",
   "metadata": {},
   "outputs": [],
   "source": [
    "from sklearn.cluster import KMeans\n",
    "\n",
    "close_df = df[['Close']]\n",
    "\n",
    "# reshape the data into a 2D array\n",
    "X = close_df.values.reshape(-1,1)\n",
    "\n",
    "# choose the number of clusters (you can use other methods to find the optimal number)\n",
    "k = 10\n",
    "\n",
    "# create and fit the k means model\n",
    "model = KMeans(n_clusters=k, random_state=0, n_init = 100, max_iter = 1000)\n",
    "model.fit(X)\n",
    "\n",
    "# get the cluster labels and centroids\n",
    "labels = model.labels_\n",
    "centroids = model.cluster_centers_\n",
    "\n",
    "# assign the labels and centroids to the dataframe\n",
    "df['Label'] = labels\n",
    "df['Centroid'] = df['Label'].apply(lambda x: centroids[x])\n",
    "\n",
    "# plot the data with the clusters and centroids\n",
    "plt.figure(figsize=(10,6))\n",
    "plt.plot(df['Close'], label='Price')\n",
    "# plt.plot(df['Centroid'], label='Centroid')\n",
    "plt.scatter(df.index, df['Centroid'], c=df['Label'], cmap='rainbow', marker='o', s=50, alpha=0.5, label='Cluster')\n",
    "plt.title(f'Support and Resistance Levels using K-Means Clustering')\n",
    "plt.xlabel('Date')\n",
    "plt.ylabel('Price')\n",
    "plt.legend()"
   ]
  },
  {
   "cell_type": "code",
   "execution_count": null,
   "id": "82f47f6e",
   "metadata": {},
   "outputs": [],
   "source": [
    "# Import libraries\n",
    "import numpy as np\n",
    "import pandas as pd\n",
    "from sklearn.cluster import KMeans\n",
    "\n",
    "# Define MACD parameters\n",
    "short_ema = 12\n",
    "long_ema = 26\n",
    "signal_ema = 9\n",
    "\n",
    "\n",
    "# Calculate MACD and signal lines\n",
    "df[\"EMA_short\"] = df[\"Close\"].ewm(span=short_ema, adjust=False).mean()\n",
    "df[\"EMA_long\"] = df[\"Close\"].ewm(span=long_ema, adjust=False).mean()\n",
    "df[\"MACD\"] = df[\"EMA_short\"] - df[\"EMA_long\"]\n",
    "df[\"Signal\"] = df[\"MACD\"].ewm(span=signal_ema, adjust=False).mean()\n",
    "\n",
    "# Find MACD crossovers\n",
    "df[\"Crossover\"] = np.where(df[\"MACD\"] > df[\"Signal\"], 1, -1)\n",
    "df[\"Crossover_change\"] = df[\"Crossover\"].diff()\n",
    "df = df.dropna()\n",
    "df = df.reset_index(drop=True)"
   ]
  },
  {
   "cell_type": "code",
   "execution_count": null,
   "id": "8c227d33",
   "metadata": {},
   "outputs": [],
   "source": [
    "df "
   ]
  },
  {
   "cell_type": "code",
   "execution_count": null,
   "id": "e8b06434",
   "metadata": {},
   "outputs": [],
   "source": [
    "\n",
    "\n",
    "# Define K-means parameters\n",
    "n_clusters = 7 # Number of clusters for TP and SL levels\n",
    "random_state = 42 # Random seed for reproducibility\n",
    "\n",
    "# Initialize an empty numpy array of dictionaries\n",
    "orders = np.array([])\n",
    "\n",
    "# Loop through the rows of the dataframe\n",
    "for i in range(len(df)):\n",
    "    # If there is a MACD crossover\n",
    "    if df.loc[i, \"Crossover_change\"] != 0:\n",
    "        # Get the ask price\n",
    "        ask_price = df.loc[i, \"Close\"]\n",
    "        # Get the position (buy or sell)\n",
    "        position = \"Buy\" if df.loc[i, \"Crossover_change\"] == 2 else \"Sell\"\n",
    "        # Get the next n rows of price data\n",
    "        next_prices = df.loc[i+1:i+n_clusters, \"Close\"].values.reshape(-1, 1)\n",
    "        # Fit K-means on the next prices\n",
    "        kmeans = KMeans(n_clusters=n_clusters, random_state=random_state, n_init='auto').fit(next_prices)\n",
    "        # Get the cluster centers as the TP and SL levels\n",
    "        tp_sl_levels = kmeans.cluster_centers_.flatten()\n",
    "        # Sort the levels in ascending order\n",
    "        tp_sl_levels.sort()\n",
    "        # If the position is buy, the highest level is the TP and the lowest level is the SL\n",
    "        # If the position is sell, the lowest level is the TP and the highest level is the SL\n",
    "        tp_level = tp_sl_levels[-1] if position == \"Buy\" else tp_sl_levels[0]\n",
    "        sl_level = tp_sl_levels[0] if position == \"Buy\" else tp_sl_levels[-1]\n",
    "        # Calculate the TP and SL ratios\n",
    "        tp_ratio = abs(tp_level - ask_price) / ask_price\n",
    "        sl_ratio = abs(sl_level - ask_price) / ask_price\n",
    "        # Check if the TP ratio is greater than the SL ratio\n",
    "        if tp_ratio > sl_ratio:\n",
    "            # Create a dictionary with the order details\n",
    "            order = {\"ask_price\": ask_price,\n",
    "                     \"take_profit_price\": tp_level,\n",
    "                     \"stop_loss_price\": sl_level,\n",
    "                     \"position\": position,\n",
    "                     }\n",
    "            # Append the dictionary to the numpy array\n",
    "            orders = np.append(orders, order)\n",
    "\n",
    "# Print the numpy array of dictionaries\n",
    "print(orders)\n"
   ]
  },
  {
   "cell_type": "code",
   "execution_count": 45,
   "id": "7ddcdc5c",
   "metadata": {},
   "outputs": [
    {
     "data": {
      "text/plain": [
       "22"
      ]
     },
     "execution_count": 45,
     "metadata": {},
     "output_type": "execute_result"
    }
   ],
   "source": [
    "len(orders)"
   ]
  },
  {
   "cell_type": "code",
   "execution_count": 46,
   "id": "5366856a",
   "metadata": {},
   "outputs": [
    {
     "data": {
      "text/plain": [
       "22"
      ]
     },
     "execution_count": 46,
     "metadata": {},
     "output_type": "execute_result"
    }
   ],
   "source": [
    "len(outcomes)"
   ]
  },
  {
   "cell_type": "code",
   "execution_count": 47,
   "id": "ebffad45",
   "metadata": {},
   "outputs": [
    {
     "name": "stdout",
     "output_type": "stream",
     "text": [
      "[{'ask_price': 1.06337, 'take_profit_price': 1.06628, 'stop_loss_price': 1.06402, 'position': 'Buy'}\n",
      " {'ask_price': 1.0707, 'take_profit_price': 1.07269, 'stop_loss_price': 1.07052, 'position': 'Buy'}\n",
      " {'ask_price': 1.07225, 'take_profit_price': 1.07122, 'stop_loss_price': 1.07221, 'position': 'Sell'}\n",
      " {'ask_price': 1.07632, 'take_profit_price': 1.07813, 'stop_loss_price': 1.07643, 'position': 'Buy'}\n",
      " {'ask_price': 1.07972, 'take_profit_price': 1.08808, 'stop_loss_price': 1.07815, 'position': 'Buy'}\n",
      " {'ask_price': 1.07989, 'take_profit_price': 1.08808, 'stop_loss_price': 1.07935, 'position': 'Buy'}\n",
      " {'ask_price': 1.08858, 'take_profit_price': 1.08734, 'stop_loss_price': 1.08956, 'position': 'Sell'}\n",
      " {'ask_price': 1.0759, 'take_profit_price': 1.07778, 'stop_loss_price': 1.07601, 'position': 'Buy'}\n",
      " {'ask_price': 1.08412, 'take_profit_price': 1.08321, 'stop_loss_price': 1.08471, 'position': 'Sell'}\n",
      " {'ask_price': 1.0855, 'take_profit_price': 1.09171, 'stop_loss_price': 1.08606, 'position': 'Buy'}\n",
      " {'ask_price': 1.08391, 'take_profit_price': 1.08871, 'stop_loss_price': 1.08429, 'position': 'Buy'}\n",
      " {'ask_price': 1.09252, 'take_profit_price': 1.09696, 'stop_loss_price': 1.08913, 'position': 'Buy'}\n",
      " {'ask_price': 1.09574, 'take_profit_price': 1.09485, 'stop_loss_price': 1.09609, 'position': 'Sell'}\n",
      " {'ask_price': 1.09069, 'take_profit_price': 1.09232, 'stop_loss_price': 1.08922, 'position': 'Buy'}\n",
      " {'ask_price': 1.0889, 'take_profit_price': 1.08383, 'stop_loss_price': 1.08592, 'position': 'Sell'}\n",
      " {'ask_price': 1.08645, 'take_profit_price': 1.08944, 'stop_loss_price': 1.08687, 'position': 'Buy'}\n",
      " {'ask_price': 1.0964, 'take_profit_price': 1.09963, 'stop_loss_price': 1.09744, 'position': 'Buy'}\n",
      " {'ask_price': 1.10489, 'take_profit_price': 1.10646, 'stop_loss_price': 1.10467, 'position': 'Buy'}\n",
      " {'ask_price': 1.09537, 'take_profit_price': 1.09119, 'stop_loss_price': 1.09322, 'position': 'Sell'}\n",
      " {'ask_price': 1.09241, 'take_profit_price': 1.09423, 'stop_loss_price': 1.09245, 'position': 'Buy'}\n",
      " {'ask_price': 1.09686, 'take_profit_price': 1.093, 'stop_loss_price': 1.09627, 'position': 'Sell'}\n",
      " {'ask_price': 1.10086, 'take_profit_price': 1.10294, 'stop_loss_price': 1.10005, 'position': 'Buy'}]\n"
     ]
    }
   ],
   "source": [
    "print(orders)\n"
   ]
  },
  {
   "cell_type": "code",
   "execution_count": 44,
   "id": "3725ec4a",
   "metadata": {},
   "outputs": [
    {
     "name": "stdout",
     "output_type": "stream",
     "text": [
      "[0 0 0 1 0 0 1 0 0 0 0 0 0 0 1 0 0 1 0 0 0 0]\n"
     ]
    }
   ],
   "source": [
    "# Import libraries\n",
    "import numpy as np\n",
    "import pandas as pd\n",
    "from sklearn.metrics import accuracy_score\n",
    "\n",
    "# Load price data\n",
    "# Initialize an empty list to store the trade outcomes\n",
    "outcomes = []\n",
    "\n",
    "# Loop through the orders array\n",
    "for order in orders:\n",
    "    # Get the order details\n",
    "    ask_price = order[\"ask_price\"]\n",
    "    tp_price = order[\"take_profit_price\"]\n",
    "    sl_price = order[\"stop_loss_price\"]\n",
    "    position = order[\"position\"]\n",
    "    # Find the index of the row where the ask price matches the close price in the dataframe\n",
    "    index = df.index[df[\"Close\"] == ask_price][0]\n",
    "    # Get the next n rows of price data from the close column of the dataframe, where n is equal to the number of clusters\n",
    "    next_prices = df.loc[index+1:index+n_clusters, \"Close\"].values\n",
    "    # Initialize a variable to store the trade outcome\n",
    "    outcome = None\n",
    "    # Loop through the next prices\n",
    "    for price in next_prices:\n",
    "        # If the position is buy, check if the price reaches the TP or SL level\n",
    "        if position == \"Buy\":\n",
    "            # If the price is greater than or equal to the TP level, set the outcome to 1 and break the loop\n",
    "            if price >= tp_price:\n",
    "                outcome = 1\n",
    "                break\n",
    "            # If the price is less than or equal to the SL level, set the outcome to 0 and break the loop\n",
    "            elif price <= sl_price:\n",
    "                outcome = 0\n",
    "                break\n",
    "        # If the position is sell, check if the price reaches the TP or SL level\n",
    "        elif position == \"Sell\":\n",
    "            # If the price is less than or equal to the TP level, set the outcome to 1 and break the loop\n",
    "            if price <= tp_price:\n",
    "                outcome = 1\n",
    "                break\n",
    "            # If the price is greater than or equal to the SL level, set the outcome to 0 and break the loop\n",
    "            elif price >= sl_price:\n",
    "                outcome = 0\n",
    "                break\n",
    "    # If none of the prices reach the TP or SL level, set the outcome to None\n",
    "    if outcome is None:\n",
    "        outcome = None\n",
    "    # Append the outcome to the outcomes list\n",
    "    outcomes.append(outcome)\n",
    "# Convert the outcomes list to a numpy array\n",
    "outcomes = np.array(outcomes)\n",
    "# Print the outcomes array\n",
    "print(outcomes)\n",
    "\n",
    "y_pred = outcomes\n",
    "y_true = outcomes\n"
   ]
  },
  {
   "cell_type": "code",
   "execution_count": 43,
   "id": "276db4dc",
   "metadata": {},
   "outputs": [
    {
     "name": "stdout",
     "output_type": "stream",
     "text": [
      "Accuracy: 1.0\n"
     ]
    }
   ],
   "source": [
    "from sklearn.metrics import accuracy_score\n",
    "\n",
    "# Calculate accuracy score \n",
    "accuracy = accuracy_score(y_true, y_pred)\n",
    "print(\"Accuracy:\", accuracy)"
   ]
  },
  {
   "cell_type": "code",
   "execution_count": 48,
   "id": "e53045d0",
   "metadata": {},
   "outputs": [
    {
     "data": {
      "image/png": "[encoded data removed]",
      "text/plain": [
       "<Figure size 640x480 with 2 Axes>"
      ]
     },
     "metadata": {},
     "output_type": "display_data"
    }
   ],
   "source": [
    "# import libraries\n",
    "import talib\n",
    "import matplotlib.pyplot as plt\n",
    "\n",
    "# assume you have the price data in a pandas dataframe called df\n",
    "# calculate the macd, macdsignal and macdhist values\n",
    "macd, macdsignal, macdhist = talib.MACD(df['Close'])\n",
    "\n",
    "# create a figure and two subplots\n",
    "fig, (ax1, ax2) = plt.subplots(2, 1, sharex=True)\n",
    "\n",
    "# plot the price data on the first subplot\n",
    "ax1.plot(df['Close'], label='Price')\n",
    "ax1.set_title('Price and MACD')\n",
    "ax1.legend()\n",
    "\n",
    "# plot the macd, macdsignal and macdhist values on the second subplot\n",
    "ax2.plot(macd, label='MACD')\n",
    "ax2.plot(macdsignal, label='MACD Signal')\n",
    "ax2.bar(df.index, macdhist, label='MACD Histogram')\n",
    "ax2.set_xlabel('Date')\n",
    "ax2.legend()\n",
    "\n",
    "# show the figure\n",
    "plt.show()\n"
   ]
  },
  {
   "cell_type": "code",
   "execution_count": null,
   "id": "e7f9f64f",
   "metadata": {},
   "outputs": [],
   "source": [
    "import yfinance as yf\n",
    "import mplfinance as mpf\n",
    "import talib as ta\n",
    "\n",
    "ticker_name = 'MSFT'\n",
    "yticker = yf.Ticker(\"MSFT\")\n",
    "data = yticker.history(period=\"1y\") # max, 1y, 3mo\n",
    "# trim volume to avoid exponential form\n",
    "data['Volume'] = data['Volume'] / 1000\n",
    "# macd\n",
    "data[\"macd\"], data[\"macd_signal\"], data[\"macd_hist\"] = ta.MACD(data['Close'])\n",
    "# macd panel\n",
    "colors = ['g' if v >= 0 else 'r' for v in data[\"macd_hist\"]]\n",
    "macd_plot = mpf.make_addplot(data[\"macd\"], panel=1, color='fuchsia', title=\"MACD\")\n",
    "macd_hist_plot = mpf.make_addplot(data[\"macd_hist\"], type='bar', panel=1, color=colors) # color='dimgray'\n",
    "macd_signal_plot = mpf.make_addplot(data[\"macd_signal\"], panel=1, color='b')\n",
    "# plot\n",
    "plots = [macd_plot, macd_signal_plot, macd_hist_plot]\n",
    "mpf.plot(data, type='candle', style='yahoo', mav=(50,100,200), addplot=plots, title=f\"\\n{ticker_name}\", volume=True, volume_panel=2, ylabel='', ylabel_lower='')"
   ]
  },
  {
   "cell_type": "code",
   "execution_count": null,
   "id": "5f06c4e7",
   "metadata": {},
   "outputs": [],
   "source": [
    "y = df[['SMA']]"
   ]
  },
  {
   "cell_type": "code",
   "execution_count": null,
   "id": "48255a33",
   "metadata": {},
   "outputs": [],
   "source": [
    "len(y)"
   ]
  },
  {
   "cell_type": "code",
   "execution_count": null,
   "id": "9518f843",
   "metadata": {},
   "outputs": [],
   "source": [
    "from sktime.utils.plotting import plot_series\n",
    "plot_series(y)"
   ]
  },
  {
   "attachments": {},
   "cell_type": "markdown",
   "id": "86659983-f95c-4da7-8612-a6a9bd02a106",
   "metadata": {},
   "source": [
    "## Forecasting"
   ]
  },
  {
   "attachments": {},
   "cell_type": "markdown",
   "id": "c89e7636-a2d4-43e8-ad7b-2f6c9aac9a7c",
   "metadata": {},
   "source": [
    "### Multiple Linear Regression"
   ]
  },
  {
   "cell_type": "code",
   "execution_count": null,
   "id": "47ce69ea",
   "metadata": {},
   "outputs": [],
   "source": [
    "len(y)"
   ]
  },
  {
   "cell_type": "code",
   "execution_count": null,
   "id": "ba3d93e8-a020-479b-a718-d32531ab982a",
   "metadata": {},
   "outputs": [],
   "source": [
    "from sktime.forecasting.model_selection import temporal_train_test_split\n",
    "y_train, y_test = temporal_train_test_split(y, test_size=24*7) # Predict from 1st July 2019"
   ]
  },
  {
   "cell_type": "code",
   "execution_count": null,
   "id": "213e0e33",
   "metadata": {},
   "outputs": [],
   "source": [
    "type(y_train)"
   ]
  },
  {
   "cell_type": "code",
   "execution_count": null,
   "id": "78a643bd-d294-410e-8239-e877709858d7",
   "metadata": {},
   "outputs": [],
   "source": [
    "from sktime.forecasting.base import ForecastingHorizon\n",
    "from sklearn.linear_model import LinearRegression, LassoCV\n",
    "from sktime.forecasting.compose import make_reduction\n",
    "from sktime.utils.plotting import plot_series\n",
    "from sktime.performance_metrics.forecasting import mean_absolute_percentage_error\n",
    "\n",
    "regressor = LinearRegression()\n",
    "forecaster = make_reduction(regressor, window_length=120, strategy=\"recursive\")\n",
    "forecaster.fit(y_train)\n",
    "fh = ForecastingHorizon(y_test.index, is_relative=False)\n",
    "y_pred = forecaster.predict(fh)\n",
    "plot_series(y_train, y_test, y_pred, labels=[\"y_train\", \"y_test\", \"y_pred\"], x_label='Date', y_label='SMA')\n",
    "\n",
    "print('MAPE: %.6f' % mean_absolute_percentage_error(y_test, y_pred, symmetric=False))"
   ]
  },
  {
   "cell_type": "code",
   "execution_count": null,
   "id": "a97aeed4",
   "metadata": {},
   "outputs": [],
   "source": [
    "MAPE: 0.000414"
   ]
  },
  {
   "cell_type": "code",
   "execution_count": null,
   "id": "a5f9fcf4",
   "metadata": {},
   "outputs": [],
   "source": [
    "from sktime.datasets import load_airline\n",
    "from sktime.forecasting.trend import TrendForecaster\n",
    "\n",
    "forecaster = TrendForecaster()\n",
    "forecaster.fit(y_train)\n",
    "y_pred = forecaster.predict(fh)\n",
    "plot_series(y_train, y_test, y_pred, labels=[\"y_train\", \"y_test\", \"y_pred\"], x_label='Date', y_label='SMA')\n",
    "print('MAPE: %.4f' % mean_absolute_percentage_error(y_test, y_pred, symmetric=False))"
   ]
  },
  {
   "cell_type": "code",
   "execution_count": null,
   "id": "c98bc64c",
   "metadata": {},
   "outputs": [],
   "source": [
    "y_pred"
   ]
  },
  {
   "cell_type": "code",
   "execution_count": null,
   "id": "affacd49",
   "metadata": {},
   "outputs": [],
   "source": [
    "from sktime.forecasting.exp_smoothing import ExponentialSmoothing\n",
    "\n",
    "forecaster = ExponentialSmoothing(trend=\"add\", seasonal=\"additive\", sp=12)\n",
    "forecaster.fit(y_train)\n",
    "y_pred = forecaster.predict(fh)\n",
    "plot_series(y_train, y_test, y_pred, labels=[\"y_train\", \"y_test\", \"y_pred\"])\n",
    "mean_absolute_percentage_error(y_test, y_pred, symmetric=False)"
   ]
  },
  {
   "attachments": {},
   "cell_type": "markdown",
   "id": "6f700dc2-c657-4e1d-b983-6f7726d5be89",
   "metadata": {},
   "source": [
    "### XGBoost with multiple inputs"
   ]
  },
  {
   "attachments": {},
   "cell_type": "markdown",
   "id": "67f9c04a-60c9-475d-b26f-f3ef67cb9bdd",
   "metadata": {},
   "source": [
    "### Tuning the hyperparameters of our forecaster"
   ]
  },
  {
   "cell_type": "code",
   "execution_count": null,
   "id": "88854b61-3c53-40c0-bcf6-647fab591e72",
   "metadata": {},
   "outputs": [],
   "source": [
    "from sktime.forecasting.model_selection import SingleWindowSplitter, ForecastingRandomizedSearchCV\n",
    "from sklearn.ensemble import RandomForestRegressor\n",
    "\n",
    "regressor = RandomForestRegressor(random_state=1)\n",
    "forecaster = make_reduction(regressor, window_length=52, strategy=\"recursive\")\n",
    "gscv = ForecastingRandomizedSearchCV(forecaster, \n",
    "                                     cv=SlidingWindowSplitter(window_length=len(y_train)-26, fh=26), param_distributions= {\n",
    "                                        'deseasonalize__model': ['multiplicative', 'additive'],\n",
    "                                        'detrend__forecaster__degree': [1, 2, 3],\n",
    "                                        'forecast__estimator__max_depth': [3, 5, 6, 10, 15, 20],\n",
    "                                        'forecast__estimator__learning_rate': [0.01, 0.1, 0.2, 0.3],\n",
    "                                        'forecast__estimator__subsample': np.arange(0.5, 1.0, 0.1),\n",
    "                                        'forecast__estimator__colsample_bytree': np.arange(0.4, 1.0, 0.1),\n",
    "                                        'forecast__estimator__colsample_bylevel': np.arange(0.4, 1.0, 0.1),\n",
    "                                        'forecast__estimator__n_estimators': [100, 500, 1000],\n",
    "                                    }, \n",
    "                                     n_iter=1_00, \n",
    "                                     random_state=1)\n",
    "\n",
    "forecaster.fit(y_train)\n",
    "y_pred = gscv.predict(fh)\n",
    "\n",
    "plot_series(y_train, y_test, y_pred, labels=[\"y_train\", \"y_test\", \"y_pred\"])\n",
    "mean_absolute_percentage_error(y_test, y_pred, symmetric=False)"
   ]
  },
  {
   "cell_type": "code",
   "execution_count": null,
   "id": "45ecad48-831a-4f17-9b45-7f8b91152de7",
   "metadata": {},
   "outputs": [],
   "source": [
    "gscv.cv_results_"
   ]
  },
  {
   "attachments": {},
   "cell_type": "markdown",
   "id": "fc2db047-e475-4d25-a878-f6fd524f03ec",
   "metadata": {},
   "source": [
    "## Adding components to our forecasting pipeline"
   ]
  },
  {
   "cell_type": "code",
   "execution_count": null,
   "id": "a258eaed-1086-4f46-9b1a-44169a6953fb",
   "metadata": {},
   "outputs": [],
   "source": [
    "from sktime.forecasting.compose import TransformedTargetForecaster\n",
    "from sktime.transformations.series.detrend import Deseasonalizer, Detrender\n",
    "from sktime.forecasting.trend import PolynomialTrendForecaster\n",
    "from sktime.forecasting.model_selection import SingleWindowSplitter, SlidingWindowSplitter\n",
    "from sktime.forecasting.model_selection import ForecastingRandomizedSearchCV\n",
    "\n",
    "regressor = XGBRegressor(objective='reg:squarederror', random_state=1)\n",
    "\n",
    "forecaster = TransformedTargetForecaster(\n",
    "    [\n",
    "        (\"deseasonalize\", Deseasonalizer(model=\"multiplicative\", sp=52)),\n",
    "        (\"detrend\", Detrender(forecaster=PolynomialTrendForecaster(degree=1))),\n",
    "        (\"forecast\", make_reduction(regressor, window_length=52, strategy=\"recursive\")),\n",
    "    ]\n",
    ")\n",
    "\n",
    "param_grid = {\n",
    "    'deseasonalize__model': ['multiplicative', 'additive'],\n",
    "    'detrend__forecaster__degree': [1, 2, 3],\n",
    "    'forecast__estimator__max_depth': [3, 5, 6, 10, 15, 20],\n",
    "    'forecast__estimator__learning_rate': [0.01, 0.1, 0.2, 0.3],\n",
    "    'forecast__estimator__subsample': np.arange(0.5, 1.0, 0.1),\n",
    "    'forecast__estimator__colsample_bytree': np.arange(0.4, 1.0, 0.1),\n",
    "    'forecast__estimator__colsample_bylevel': np.arange(0.4, 1.0, 0.1),\n",
    "    'forecast__estimator__n_estimators': [100, 500, 1000]\n",
    "}\n",
    "\n",
    "gscv = ForecastingRandomizedSearchCV(forecaster, \n",
    "                                     cv=SlidingWindowSplitter(window_length=len(y_train)-26, fh=26), param_distributions=param_grid, \n",
    "                                     n_iter=1_00, \n",
    "                                     random_state=1)\n",
    "gscv.fit(y_train)\n",
    "y_pred = gscv.predict(fh)\n",
    "\n",
    "plot_series(y_train, y_test, y_pred, labels=[\"y_train\", \"y_test\", \"y_pred\"])\n",
    "mean_absolute_percentage_error(y_test, y_pred, symmetric=False)\n",
    "gscv.cv_results_"
   ]
  },
  {
   "cell_type": "code",
   "execution_count": null,
   "id": "b32668e4",
   "metadata": {},
   "outputs": [],
   "source": [
    "from sklearn.neighbors import KNeighborsRegressor\n",
    "from sktime.forecasting.compose import make_reduction\n",
    "\n",
    "# declarative forecaster specification - just two lines!\n",
    "regressor = KNeighborsRegressor(n_neighbors=4)\n",
    "forecaster = make_reduction(regressor, window_length=55, strategy=\"recursive\")\n",
    "\n",
    "forecaster.fit(y_train)\n",
    "y_pred = forecaster.predict(fh)\n",
    "plot_series(y_train, y_test, y_pred, labels=[\"y_train\", \"y_test\", \"y_pred\"])\n",
    "mean_absolute_percentage_error(y_test, y_pred, symmetric=False)\n"
   ]
  },
  {
   "cell_type": "code",
   "execution_count": null,
   "id": "d8f02890",
   "metadata": {},
   "outputs": [],
   "source": [
    "from sktime.datasets import load_airline\n",
    "from sktime.forecasting.fbprophet import Prophet\n",
    "# Prophet requires to have data with a pandas.DatetimeIndex\n",
    "forecaster = Prophet(  \n",
    "    seasonality_mode='multiplicative',\n",
    "    # n_changepoints=int(len(y) / 12),\n",
    "    )\n",
    "# forecaster.fit(y_train)  \n",
    "\n",
    "# y_pred = forecaster.predict(fh=[1,2,3])  "
   ]
  },
  {
   "cell_type": "code",
   "execution_count": null,
   "id": "c19b74d3",
   "metadata": {},
   "outputs": [],
   "source": [
    "forecaster"
   ]
  }
 ],
 "metadata": {
  "kernelspec": {
   "display_name": "cs685",
   "language": "python",
   "name": "python3"
  },
  "language_info": {
   "codemirror_mode": {
    "name": "ipython",
    "version": 3
   },
   "file_extension": ".py",
   "mimetype": "text/x-python",
   "name": "python",
   "nbconvert_exporter": "python",
   "pygments_lexer": "ipython3",
   "version": "3.9.16"
  }
 },
 "nbformat": 4,
 "nbformat_minor": 5
}
