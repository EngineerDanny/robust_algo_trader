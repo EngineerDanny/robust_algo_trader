{
 "cells": [
  {
   "attachments": {},
   "cell_type": "markdown",
   "id": "4a0ba759-482b-455b-b4d8-a9d10b8ced34",
   "metadata": {},
   "source": [
    "# Pedestrian Forecasting\n",
    "***"
   ]
  },
  {
   "attachments": {},
   "cell_type": "markdown",
   "id": "d7fb508b-45fd-4bd1-9978-2f1650d06bd0",
   "metadata": {},
   "source": [
    "## Preparation"
   ]
  },
  {
   "attachments": {},
   "cell_type": "markdown",
   "id": "09288f02-231c-4f10-8f3d-9014cc3b96d7",
   "metadata": {},
   "source": [
    "We start by installing the packages we need."
   ]
  },
  {
   "attachments": {},
   "cell_type": "markdown",
   "id": "4397dbfb-c863-4db7-bcad-c968d15f1e1c",
   "metadata": {},
   "source": [
    "Import packages."
   ]
  },
  {
   "cell_type": "code",
   "execution_count": null,
   "id": "454e3336-8b6a-47c0-b10f-01b168c1e9c5",
   "metadata": {},
   "outputs": [],
   "source": [
    "import pandas as pd\n",
    "import numpy as np\n",
    "\n",
    "import matplotlib.pyplot as plt"
   ]
  },
  {
   "attachments": {},
   "cell_type": "markdown",
   "id": "8c3d4f96-db9e-4f5b-bc35-2ba5e56ca277",
   "metadata": {},
   "source": [
    "## Data preparation\n",
    "This dataset contains hourly pedestrian counts since 2009 from pedestrian sensor devices located across the city of Melbourne, Australia. The data is updated on a monthly basis and can be used to determine variations in pedestrian activity throughout the day. https://data.melbourne.vic.gov.au/Transport/Pedestrian-Counting-System-Monthly-counts-per-hour/b2ak-trbp"
   ]
  },
  {
   "cell_type": "code",
   "execution_count": null,
   "id": "134d5176-0119-4536-b31f-4d251c95fa26",
   "metadata": {},
   "outputs": [],
   "source": [
    "# Read\n",
    "df = pd.read_csv('data/Pedestrian_Counting_System_-_Monthly__counts_per_hour_.csv', usecols=['Date_Time', 'Sensor_Name', 'Hourly_Counts'])\n",
    "\n",
    "df.head()"
   ]
  },
  {
   "cell_type": "code",
   "execution_count": null,
   "id": "7d144c9b-0486-488c-852d-e06836bff385",
   "metadata": {},
   "outputs": [],
   "source": [
    "# Convert date to datetime\n",
    "df['Date_Time'] = pd.to_datetime(df['Date_Time'])\n",
    "\n",
    "# Group all sensors\n",
    "df_grouped = df.groupby(['Date_Time']).agg({'Hourly_Counts': 'sum'}).rename(columns={'Hourly_Counts': 'Count_Pedestrians'})\n",
    "\n",
    "# Aggregate weekly\n",
    "df_weekly = df_grouped.resample('W').sum()\n",
    "\n",
    "# Filter from the start of 2010 to end of 2019\n",
    "df_weekly = df_weekly['2010-01-01': '2019-12-31']"
   ]
  },
  {
   "cell_type": "code",
   "execution_count": null,
   "id": "51e3ed83-f8c1-4967-8a46-4cf6ffd876ed",
   "metadata": {},
   "outputs": [],
   "source": [
    "df_weekly"
   ]
  },
  {
   "cell_type": "code",
   "execution_count": null,
   "id": "b63e31c0-b1fa-4a63-b196-99f0633a79a0",
   "metadata": {},
   "outputs": [],
   "source": [
    "y = df_weekly.squeeze() # prepare the data as a pandas Series"
   ]
  },
  {
   "cell_type": "code",
   "execution_count": null,
   "id": "8a34bf50",
   "metadata": {},
   "outputs": [],
   "source": [
    "df"
   ]
  },
  {
   "attachments": {},
   "cell_type": "markdown",
   "id": "9c007c4f-9303-4100-93b6-09b2d5510238",
   "metadata": {},
   "source": [
    "## Exploratory Data Analysis"
   ]
  },
  {
   "attachments": {},
   "cell_type": "markdown",
   "id": "e999beec-d2d0-4a25-9849-2bb1d87764e8",
   "metadata": {},
   "source": [
    "We now plot our weekly data."
   ]
  },
  {
   "cell_type": "code",
   "execution_count": null,
   "id": "e9806a3b-f6b9-4d11-924f-230aafb29dcf",
   "metadata": {},
   "outputs": [],
   "source": [
    "df_weekly.plot(figsize=(12,6), title='Count of pedestrians in Melbourne', xlabel='Date', ylabel='Count pedestrians')\n",
    "plt.show()"
   ]
  },
  {
   "attachments": {},
   "cell_type": "markdown",
   "id": "a03659d6-af73-47ce-a83c-59e1672fdeda",
   "metadata": {},
   "source": [
    "We now aggregate our weekly data to monthly and plot."
   ]
  },
  {
   "cell_type": "code",
   "execution_count": null,
   "id": "38f58525-dfc0-4b0d-864f-25eb81248db8",
   "metadata": {},
   "outputs": [],
   "source": [
    "df_weekly.resample('M').sum().plot(figsize=(12,6), title='Count of pedestrians in Melbourne', xlabel='Date', ylabel='Count pedestrians')\n",
    "plt.show()"
   ]
  },
  {
   "attachments": {},
   "cell_type": "markdown",
   "id": "ba641010-10a7-44de-80f4-97d4d51b86ca",
   "metadata": {},
   "source": [
    "We also check if our data is stationary."
   ]
  },
  {
   "cell_type": "code",
   "execution_count": null,
   "id": "33ddd409-e758-47f3-b7c5-4be8cf5df5b9",
   "metadata": {},
   "outputs": [],
   "source": [
    "from statsmodels.tsa.stattools import adfuller\n",
    "\n",
    "result = adfuller(df_weekly.values.flatten())\n",
    "\n",
    "print('ADF Statistic: %f' % result[0])\n",
    "print('p-value: %f' % result[1])"
   ]
  },
  {
   "cell_type": "code",
   "execution_count": 2,
   "id": "6e036229",
   "metadata": {},
   "outputs": [
    {
     "data": {
      "text/html": [
       "<div>\n",
       "<style scoped>\n",
       "    .dataframe tbody tr th:only-of-type {\n",
       "        vertical-align: middle;\n",
       "    }\n",
       "\n",
       "    .dataframe tbody tr th {\n",
       "        vertical-align: top;\n",
       "    }\n",
       "\n",
       "    .dataframe thead th {\n",
       "        text-align: right;\n",
       "    }\n",
       "</style>\n",
       "<table border=\"1\" class=\"dataframe\">\n",
       "  <thead>\n",
       "    <tr style=\"text-align: right;\">\n",
       "      <th></th>\n",
       "      <th>SMA</th>\n",
       "    </tr>\n",
       "  </thead>\n",
       "  <tbody>\n",
       "    <tr>\n",
       "      <th>100126</th>\n",
       "      <td>1.096765</td>\n",
       "    </tr>\n",
       "    <tr>\n",
       "      <th>100127</th>\n",
       "      <td>1.096425</td>\n",
       "    </tr>\n",
       "    <tr>\n",
       "      <th>100128</th>\n",
       "      <td>1.096665</td>\n",
       "    </tr>\n",
       "    <tr>\n",
       "      <th>100129</th>\n",
       "      <td>1.096900</td>\n",
       "    </tr>\n",
       "    <tr>\n",
       "      <th>100130</th>\n",
       "      <td>1.096825</td>\n",
       "    </tr>\n",
       "    <tr>\n",
       "      <th>100131</th>\n",
       "      <td>1.096795</td>\n",
       "    </tr>\n",
       "    <tr>\n",
       "      <th>100132</th>\n",
       "      <td>1.096890</td>\n",
       "    </tr>\n",
       "    <tr>\n",
       "      <th>100133</th>\n",
       "      <td>1.096770</td>\n",
       "    </tr>\n",
       "    <tr>\n",
       "      <th>100134</th>\n",
       "      <td>1.096520</td>\n",
       "    </tr>\n",
       "    <tr>\n",
       "      <th>100135</th>\n",
       "      <td>1.096460</td>\n",
       "    </tr>\n",
       "    <tr>\n",
       "      <th>100136</th>\n",
       "      <td>1.096225</td>\n",
       "    </tr>\n",
       "    <tr>\n",
       "      <th>100137</th>\n",
       "      <td>1.096065</td>\n",
       "    </tr>\n",
       "    <tr>\n",
       "      <th>100138</th>\n",
       "      <td>1.095135</td>\n",
       "    </tr>\n",
       "    <tr>\n",
       "      <th>100139</th>\n",
       "      <td>1.094920</td>\n",
       "    </tr>\n",
       "    <tr>\n",
       "      <th>100140</th>\n",
       "      <td>1.095805</td>\n",
       "    </tr>\n",
       "    <tr>\n",
       "      <th>100141</th>\n",
       "      <td>1.095720</td>\n",
       "    </tr>\n",
       "    <tr>\n",
       "      <th>100142</th>\n",
       "      <td>1.096000</td>\n",
       "    </tr>\n",
       "    <tr>\n",
       "      <th>100143</th>\n",
       "      <td>1.097335</td>\n",
       "    </tr>\n",
       "    <tr>\n",
       "      <th>100144</th>\n",
       "      <td>1.098485</td>\n",
       "    </tr>\n",
       "    <tr>\n",
       "      <th>100145</th>\n",
       "      <td>1.097200</td>\n",
       "    </tr>\n",
       "    <tr>\n",
       "      <th>100146</th>\n",
       "      <td>1.096395</td>\n",
       "    </tr>\n",
       "    <tr>\n",
       "      <th>100147</th>\n",
       "      <td>1.097210</td>\n",
       "    </tr>\n",
       "    <tr>\n",
       "      <th>100148</th>\n",
       "      <td>1.097565</td>\n",
       "    </tr>\n",
       "    <tr>\n",
       "      <th>100149</th>\n",
       "      <td>1.097995</td>\n",
       "    </tr>\n",
       "    <tr>\n",
       "      <th>100150</th>\n",
       "      <td>1.097870</td>\n",
       "    </tr>\n",
       "    <tr>\n",
       "      <th>100151</th>\n",
       "      <td>1.098350</td>\n",
       "    </tr>\n",
       "    <tr>\n",
       "      <th>100152</th>\n",
       "      <td>1.098985</td>\n",
       "    </tr>\n",
       "    <tr>\n",
       "      <th>100153</th>\n",
       "      <td>1.098810</td>\n",
       "    </tr>\n",
       "    <tr>\n",
       "      <th>100154</th>\n",
       "      <td>1.098970</td>\n",
       "    </tr>\n",
       "    <tr>\n",
       "      <th>100155</th>\n",
       "      <td>1.099220</td>\n",
       "    </tr>\n",
       "    <tr>\n",
       "      <th>100156</th>\n",
       "      <td>1.099330</td>\n",
       "    </tr>\n",
       "    <tr>\n",
       "      <th>100157</th>\n",
       "      <td>1.099110</td>\n",
       "    </tr>\n",
       "    <tr>\n",
       "      <th>100158</th>\n",
       "      <td>1.098425</td>\n",
       "    </tr>\n",
       "    <tr>\n",
       "      <th>100159</th>\n",
       "      <td>1.098135</td>\n",
       "    </tr>\n",
       "    <tr>\n",
       "      <th>100160</th>\n",
       "      <td>1.098105</td>\n",
       "    </tr>\n",
       "    <tr>\n",
       "      <th>100161</th>\n",
       "      <td>1.097940</td>\n",
       "    </tr>\n",
       "    <tr>\n",
       "      <th>100162</th>\n",
       "      <td>1.097660</td>\n",
       "    </tr>\n",
       "    <tr>\n",
       "      <th>100163</th>\n",
       "      <td>1.098080</td>\n",
       "    </tr>\n",
       "    <tr>\n",
       "      <th>100164</th>\n",
       "      <td>1.099765</td>\n",
       "    </tr>\n",
       "    <tr>\n",
       "      <th>100165</th>\n",
       "      <td>1.100455</td>\n",
       "    </tr>\n",
       "    <tr>\n",
       "      <th>100166</th>\n",
       "      <td>1.100850</td>\n",
       "    </tr>\n",
       "    <tr>\n",
       "      <th>100167</th>\n",
       "      <td>1.100945</td>\n",
       "    </tr>\n",
       "    <tr>\n",
       "      <th>100168</th>\n",
       "      <td>1.101280</td>\n",
       "    </tr>\n",
       "    <tr>\n",
       "      <th>100169</th>\n",
       "      <td>1.102360</td>\n",
       "    </tr>\n",
       "    <tr>\n",
       "      <th>100170</th>\n",
       "      <td>1.102670</td>\n",
       "    </tr>\n",
       "    <tr>\n",
       "      <th>100171</th>\n",
       "      <td>1.102770</td>\n",
       "    </tr>\n",
       "    <tr>\n",
       "      <th>100172</th>\n",
       "      <td>1.103000</td>\n",
       "    </tr>\n",
       "    <tr>\n",
       "      <th>100173</th>\n",
       "      <td>1.103905</td>\n",
       "    </tr>\n",
       "    <tr>\n",
       "      <th>100174</th>\n",
       "      <td>1.104535</td>\n",
       "    </tr>\n",
       "  </tbody>\n",
       "</table>\n",
       "</div>"
      ],
      "text/plain": [
       "             SMA\n",
       "100126  1.096765\n",
       "100127  1.096425\n",
       "100128  1.096665\n",
       "100129  1.096900\n",
       "100130  1.096825\n",
       "100131  1.096795\n",
       "100132  1.096890\n",
       "100133  1.096770\n",
       "100134  1.096520\n",
       "100135  1.096460\n",
       "100136  1.096225\n",
       "100137  1.096065\n",
       "100138  1.095135\n",
       "100139  1.094920\n",
       "100140  1.095805\n",
       "100141  1.095720\n",
       "100142  1.096000\n",
       "100143  1.097335\n",
       "100144  1.098485\n",
       "100145  1.097200\n",
       "100146  1.096395\n",
       "100147  1.097210\n",
       "100148  1.097565\n",
       "100149  1.097995\n",
       "100150  1.097870\n",
       "100151  1.098350\n",
       "100152  1.098985\n",
       "100153  1.098810\n",
       "100154  1.098970\n",
       "100155  1.099220\n",
       "100156  1.099330\n",
       "100157  1.099110\n",
       "100158  1.098425\n",
       "100159  1.098135\n",
       "100160  1.098105\n",
       "100161  1.097940\n",
       "100162  1.097660\n",
       "100163  1.098080\n",
       "100164  1.099765\n",
       "100165  1.100455\n",
       "100166  1.100850\n",
       "100167  1.100945\n",
       "100168  1.101280\n",
       "100169  1.102360\n",
       "100170  1.102670\n",
       "100171  1.102770\n",
       "100172  1.103000\n",
       "100173  1.103905\n",
       "100174  1.104535"
      ]
     },
     "execution_count": 2,
     "metadata": {},
     "output_type": "execute_result"
    }
   ],
   "source": [
    "import pandas as pd\n",
    "import numpy as np\n",
    "import matplotlib.pyplot as plt\n",
    "import talib\n",
    "\n",
    "real_df = pd.read_table('/projects/genomic-ml/da2343/ml_project_2/robust_algo_trader/data/EURUSD_H1_200702210000_202304242100.tsv')\n",
    "# real_df = pd.read_table('/Users/newuser/Projects/robust-algo-trader/data/EURUSD_H1_202302010000_202304242100.tsv')\n",
    "\n",
    "df = real_df.copy()\n",
    "# take only last 7000 rows\n",
    "df = df.iloc[-50:]\n",
    "# df = df.iloc[-120:]\n",
    "# remove the following columns <TICKVOL>, <VOL> and <SPREAD>\n",
    "df = df.drop(['<TICKVOL>', '<VOL>', '<SPREAD>'], axis=1)\n",
    "df = df.rename(columns={'<DATE>': 'Date', \n",
    "                                '<TIME>': 'Time', \n",
    "                                '<OPEN>': 'Open', \n",
    "                                '<HIGH>': 'High', \n",
    "                                '<LOW>': 'Low', \n",
    "                                '<CLOSE>': 'Close'\n",
    "                                })\n",
    "# combine the date and time columns\n",
    "df['Date_Time'] = df['Date'] + ' ' + df['Time']\n",
    "# remove the date and time columns\n",
    "df = df.drop(['Date', 'Time'], axis=1)\n",
    "# convert the date_time column to datetime\n",
    "df['Time'] = pd.to_datetime(df['Date_Time'])\n",
    "# Rename Date_Time to Time\n",
    "# df.index = df['Time']\n",
    "# df.set_index(\"Time\")\n",
    "# remove the Time column\n",
    "df = df.drop(['Time'], axis=1)\n",
    "\n",
    "\n",
    "prices = df[\"Close\"].values\n",
    "df[\"SMA\"] = talib.SMA(prices, timeperiod=2)\n",
    "# df[\"EMA\"] = talib.EMA(prices, timeperiod=200)\n",
    "# df['TEMA'] = talib.TRIMA(prices, timeperiod=200*2)\n",
    "\n",
    "# df['ATR'] = talib.NATR(df['High'], df['Low'], df['Close'], timeperiod=200)\n",
    "# df[\"EMA\"] = ema\n",
    "df = df.dropna()\n",
    "df = df[['SMA']]\n",
    "df"
   ]
  },
  {
   "cell_type": "code",
   "execution_count": null,
   "id": "a855c6d0",
   "metadata": {},
   "outputs": [],
   "source": [
    "import datetime as dt\n",
    "# freq = pd.offsets.BusinessHour(start=\"00:00\", end=\"23:00\")\n",
    "freq = pd.offsets.Hour()\n",
    "freq"
   ]
  },
  {
   "cell_type": "code",
   "execution_count": null,
   "id": "8fbbd286",
   "metadata": {},
   "outputs": [],
   "source": [
    "df = df.asfreq(freq)\n",
    "\n",
    "df"
   ]
  },
  {
   "cell_type": "code",
   "execution_count": 5,
   "id": "9518f843",
   "metadata": {},
   "outputs": [
    {
     "data": {
      "text/plain": [
       "(<Figure size 1600x400 with 1 Axes>, <Axes: >)"
      ]
     },
     "execution_count": 5,
     "metadata": {},
     "output_type": "execute_result"
    },
    {
     "data": {
      "image/png": "[encoded data removed]",
      "text/plain": [
       "<Figure size 1600x400 with 1 Axes>"
      ]
     },
     "metadata": {},
     "output_type": "display_data"
    }
   ],
   "source": [
    "from sktime.utils.plotting import plot_series\n",
    "plot_series(df)"
   ]
  },
  {
   "attachments": {},
   "cell_type": "markdown",
   "id": "86659983-f95c-4da7-8612-a6a9bd02a106",
   "metadata": {},
   "source": [
    "## Forecasting"
   ]
  },
  {
   "attachments": {},
   "cell_type": "markdown",
   "id": "c89e7636-a2d4-43e8-ad7b-2f6c9aac9a7c",
   "metadata": {},
   "source": [
    "### Multiple Linear Regression"
   ]
  },
  {
   "cell_type": "code",
   "execution_count": null,
   "id": "b6830006",
   "metadata": {},
   "outputs": [],
   "source": [
    "# df = df.interpolate().asfreq('CBH')\n",
    "# df = df.interpolate().asfreq(freq)"
   ]
  },
  {
   "cell_type": "code",
   "execution_count": null,
   "id": "db356b86",
   "metadata": {},
   "outputs": [],
   "source": [
    "df"
   ]
  },
  {
   "cell_type": "code",
   "execution_count": 3,
   "id": "ba3d93e8-a020-479b-a718-d32531ab982a",
   "metadata": {},
   "outputs": [],
   "source": [
    "from sktime.forecasting.model_selection import temporal_train_test_split\n",
    "y = df\n",
    "y_train, y_test = temporal_train_test_split(y, test_size=10) # Predict from 1st July 2019"
   ]
  },
  {
   "cell_type": "code",
   "execution_count": 6,
   "id": "22f75b35",
   "metadata": {},
   "outputs": [
    {
     "data": {
      "text/plain": [
       "(<Figure size 1600x400 with 1 Axes>, <Axes: >)"
      ]
     },
     "execution_count": 6,
     "metadata": {},
     "output_type": "execute_result"
    },
    {
     "data": {
      "image/png": "[encoded data removed]",
      "text/plain": [
       "<Figure size 1600x400 with 1 Axes>"
      ]
     },
     "metadata": {},
     "output_type": "display_data"
    },
    {
     "data": {
      "image/png": "[encoded data removed]",
      "text/plain": [
       "<Figure size 1600x400 with 1 Axes>"
      ]
     },
     "metadata": {},
     "output_type": "display_data"
    }
   ],
   "source": [
    "plot_series(y_train)\n",
    "plot_series(y_test)\n"
   ]
  },
  {
   "cell_type": "code",
   "execution_count": null,
   "id": "4318ff18",
   "metadata": {},
   "outputs": [],
   "source": [
    "# remove fi\n",
    "y_train.index"
   ]
  },
  {
   "cell_type": "code",
   "execution_count": null,
   "id": "721c79b3",
   "metadata": {},
   "outputs": [],
   "source": [
    "y_test.index"
   ]
  },
  {
   "cell_type": "code",
   "execution_count": null,
   "id": "fea3f4ab",
   "metadata": {},
   "outputs": [],
   "source": [
    "y_train.index"
   ]
  },
  {
   "cell_type": "code",
   "execution_count": 8,
   "id": "78a643bd-d294-410e-8239-e877709858d7",
   "metadata": {},
   "outputs": [
    {
     "data": {
      "text/html": [
       "<style>#sk-8c3af3e5-e823-4640-b2a7-3ab497b10603 {color: black;background-color: white;}#sk-8c3af3e5-e823-4640-b2a7-3ab497b10603 pre{padding: 0;}#sk-8c3af3e5-e823-4640-b2a7-3ab497b10603 div.sk-toggleable {background-color: white;}#sk-8c3af3e5-e823-4640-b2a7-3ab497b10603 label.sk-toggleable__label {cursor: pointer;display: block;width: 100%;margin-bottom: 0;padding: 0.3em;box-sizing: border-box;text-align: center;}#sk-8c3af3e5-e823-4640-b2a7-3ab497b10603 label.sk-toggleable__label-arrow:before {content: \"▸\";float: left;margin-right: 0.25em;color: #696969;}#sk-8c3af3e5-e823-4640-b2a7-3ab497b10603 label.sk-toggleable__label-arrow:hover:before {color: black;}#sk-8c3af3e5-e823-4640-b2a7-3ab497b10603 div.sk-estimator:hover label.sk-toggleable__label-arrow:before {color: black;}#sk-8c3af3e5-e823-4640-b2a7-3ab497b10603 div.sk-toggleable__content {max-height: 0;max-width: 0;overflow: hidden;text-align: left;background-color: #f0f8ff;}#sk-8c3af3e5-e823-4640-b2a7-3ab497b10603 div.sk-toggleable__content pre {margin: 0.2em;color: black;border-radius: 0.25em;background-color: #f0f8ff;}#sk-8c3af3e5-e823-4640-b2a7-3ab497b10603 input.sk-toggleable__control:checked~div.sk-toggleable__content {max-height: 200px;max-width: 100%;overflow: auto;}#sk-8c3af3e5-e823-4640-b2a7-3ab497b10603 input.sk-toggleable__control:checked~label.sk-toggleable__label-arrow:before {content: \"▾\";}#sk-8c3af3e5-e823-4640-b2a7-3ab497b10603 div.sk-estimator input.sk-toggleable__control:checked~label.sk-toggleable__label {background-color: #d4ebff;}#sk-8c3af3e5-e823-4640-b2a7-3ab497b10603 div.sk-label input.sk-toggleable__control:checked~label.sk-toggleable__label {background-color: #d4ebff;}#sk-8c3af3e5-e823-4640-b2a7-3ab497b10603 input.sk-hidden--visually {border: 0;clip: rect(1px 1px 1px 1px);clip: rect(1px, 1px, 1px, 1px);height: 1px;margin: -1px;overflow: hidden;padding: 0;position: absolute;width: 1px;}#sk-8c3af3e5-e823-4640-b2a7-3ab497b10603 div.sk-estimator {font-family: monospace;background-color: #f0f8ff;border: 1px dotted black;border-radius: 0.25em;box-sizing: border-box;margin-bottom: 0.5em;}#sk-8c3af3e5-e823-4640-b2a7-3ab497b10603 div.sk-estimator:hover {background-color: #d4ebff;}#sk-8c3af3e5-e823-4640-b2a7-3ab497b10603 div.sk-parallel-item::after {content: \"\";width: 100%;border-bottom: 1px solid gray;flex-grow: 1;}#sk-8c3af3e5-e823-4640-b2a7-3ab497b10603 div.sk-label:hover label.sk-toggleable__label {background-color: #d4ebff;}#sk-8c3af3e5-e823-4640-b2a7-3ab497b10603 div.sk-serial::before {content: \"\";position: absolute;border-left: 1px solid gray;box-sizing: border-box;top: 2em;bottom: 0;left: 50%;}#sk-8c3af3e5-e823-4640-b2a7-3ab497b10603 div.sk-serial {display: flex;flex-direction: column;align-items: center;background-color: white;padding-right: 0.2em;padding-left: 0.2em;}#sk-8c3af3e5-e823-4640-b2a7-3ab497b10603 div.sk-item {z-index: 1;}#sk-8c3af3e5-e823-4640-b2a7-3ab497b10603 div.sk-parallel {display: flex;align-items: stretch;justify-content: center;background-color: white;}#sk-8c3af3e5-e823-4640-b2a7-3ab497b10603 div.sk-parallel::before {content: \"\";position: absolute;border-left: 1px solid gray;box-sizing: border-box;top: 2em;bottom: 0;left: 50%;}#sk-8c3af3e5-e823-4640-b2a7-3ab497b10603 div.sk-parallel-item {display: flex;flex-direction: column;position: relative;background-color: white;}#sk-8c3af3e5-e823-4640-b2a7-3ab497b10603 div.sk-parallel-item:first-child::after {align-self: flex-end;width: 50%;}#sk-8c3af3e5-e823-4640-b2a7-3ab497b10603 div.sk-parallel-item:last-child::after {align-self: flex-start;width: 50%;}#sk-8c3af3e5-e823-4640-b2a7-3ab497b10603 div.sk-parallel-item:only-child::after {width: 0;}#sk-8c3af3e5-e823-4640-b2a7-3ab497b10603 div.sk-dashed-wrapped {border: 1px dashed gray;margin: 0 0.4em 0.5em 0.4em;box-sizing: border-box;padding-bottom: 0.4em;background-color: white;position: relative;}#sk-8c3af3e5-e823-4640-b2a7-3ab497b10603 div.sk-label label {font-family: monospace;font-weight: bold;background-color: white;display: inline-block;line-height: 1.2em;}#sk-8c3af3e5-e823-4640-b2a7-3ab497b10603 div.sk-label-container {position: relative;z-index: 2;text-align: center;}#sk-8c3af3e5-e823-4640-b2a7-3ab497b10603 div.sk-container {/* jupyter's `normalize.less` sets `[hidden] { display: none; }` but bootstrap.min.css set `[hidden] { display: none !important; }` so we also need the `!important` here to be able to override the default hidden behavior on the sphinx rendered scikit-learn.org. See: https://github.com/scikit-learn/scikit-learn/issues/21755 */display: inline-block !important;position: relative;}#sk-8c3af3e5-e823-4640-b2a7-3ab497b10603 div.sk-text-repr-fallback {display: none;}</style><div id='sk-8c3af3e5-e823-4640-b2a7-3ab497b10603' class=\"sk-top-container\"><div class=\"sk-text-repr-fallback\"><pre>RecursiveTabularRegressionForecaster(estimator=LinearRegression(),\n",
       "                                     window_length=5)</pre><b>Please rerun this cell to show the HTML repr or trust the notebook.</b></div><div class=\"sk-container\" hidden><div class=\"sk-item sk-dashed-wrapped\"><div class='sk-label-container'><div class=\"sk-label sk-toggleable\"><input class=\"sk-toggleable__control sk-hidden--visually\" id=UUID('8d7c46d3-2b49-4e6d-b1ea-ceb8b6b9f1db') type=\"checkbox\" ><label for=UUID('8d7c46d3-2b49-4e6d-b1ea-ceb8b6b9f1db') class='sk-toggleable__label sk-toggleable__label-arrow'>RecursiveTabularRegressionForecaster</label><div class=\"sk-toggleable__content\"><pre>RecursiveTabularRegressionForecaster(estimator=LinearRegression(),\n",
       "                                     window_length=5)</pre></div></div></div><div class=\"sk-parallel\"><div class=\"sk-parallel-item\"><div class=\"sk-item\"><div class=\"sk-serial\"><div class='sk-item'><div class=\"sk-estimator sk-toggleable\"><input class=\"sk-toggleable__control sk-hidden--visually\" id=UUID('97bdf5fd-7121-42ae-b98f-822e1905e7ec') type=\"checkbox\" ><label for=UUID('97bdf5fd-7121-42ae-b98f-822e1905e7ec') class='sk-toggleable__label sk-toggleable__label-arrow'>LinearRegression</label><div class=\"sk-toggleable__content\"><pre>LinearRegression()</pre></div></div></div></div></div></div></div></div></div></div>"
      ],
      "text/plain": [
       "RecursiveTabularRegressionForecaster(estimator=LinearRegression(),\n",
       "                                     window_length=5)"
      ]
     },
     "execution_count": 8,
     "metadata": {},
     "output_type": "execute_result"
    }
   ],
   "source": [
    "from sktime.forecasting.base import ForecastingHorizon\n",
    "from sklearn.linear_model import LinearRegression\n",
    "from sktime.forecasting.compose import make_reduction\n",
    "\n",
    "regressor = LinearRegression()\n",
    "forecaster = make_reduction(regressor, window_length=5, strategy=\"recursive\")\n",
    "forecaster.fit(y_train)\n",
    "\n"
   ]
  },
  {
   "cell_type": "code",
   "execution_count": 9,
   "id": "c1a09234",
   "metadata": {},
   "outputs": [],
   "source": [
    "fh = ForecastingHorizon(y_test.index, is_relative=False)\n",
    "y_pred = forecaster.predict(fh)"
   ]
  },
  {
   "cell_type": "code",
   "execution_count": 10,
   "id": "09a94335-780a-4564-a3cc-51643ae79599",
   "metadata": {},
   "outputs": [
    {
     "data": {
      "text/plain": [
       "(<Figure size 1600x400 with 1 Axes>,\n",
       " <Axes: xlabel='Date', ylabel='Count pedestrians'>)"
      ]
     },
     "execution_count": 10,
     "metadata": {},
     "output_type": "execute_result"
    },
    {
     "data": {
      "image/png": "[encoded data removed]",
      "text/plain": [
       "<Figure size 1600x400 with 1 Axes>"
      ]
     },
     "metadata": {},
     "output_type": "display_data"
    }
   ],
   "source": [
    "from sktime.utils.plotting import plot_series\n",
    "\n",
    "plot_series(y_train, y_test, y_pred, labels=[\"y_train\", \"y_test\", \"y_pred\"], x_label='Date', y_label='Count pedestrians')"
   ]
  },
  {
   "cell_type": "code",
   "execution_count": null,
   "id": "b7e46dca-6d15-4ab2-9a32-c782e80b04d0",
   "metadata": {},
   "outputs": [],
   "source": [
    "from sktime.performance_metrics.forecasting import mean_absolute_percentage_error\n",
    "\n",
    "print('MAPE: %.4f' % mean_absolute_percentage_error(y_test, y_pred, symmetric=False))"
   ]
  },
  {
   "cell_type": "code",
   "execution_count": null,
   "id": "a5f9fcf4",
   "metadata": {},
   "outputs": [],
   "source": [
    "from sktime.datasets import load_airline\n",
    "from sktime.forecasting.trend import TrendForecaster\n",
    "y = load_airline()\n",
    "forecaster = TrendForecaster()\n",
    "forecaster.fit(  y)\n",
    "\n",
    "y_pred = forecaster.predict(fh=[1,2,3])"
   ]
  },
  {
   "cell_type": "code",
   "execution_count": null,
   "id": "c98bc64c",
   "metadata": {},
   "outputs": [],
   "source": [
    "y_pred"
   ]
  },
  {
   "attachments": {},
   "cell_type": "markdown",
   "id": "6f700dc2-c657-4e1d-b983-6f7726d5be89",
   "metadata": {},
   "source": [
    "### XGBoost with multiple inputs"
   ]
  },
  {
   "cell_type": "code",
   "execution_count": null,
   "id": "7e3fec3c-fb65-4ff0-b3ab-ad8d88e94e58",
   "metadata": {},
   "outputs": [],
   "source": [
    "from xgboost import XGBRegressor\n",
    "\n",
    "regressor = XGBRegressor(objective='reg:squarederror', random_state=42)\n",
    "forecaster = make_reduction(regressor, window_length=52, strategy=\"recursive\")"
   ]
  },
  {
   "cell_type": "code",
   "execution_count": null,
   "id": "12362461-4fce-4c80-8046-1ce771393e8b",
   "metadata": {},
   "outputs": [],
   "source": [
    "# Create an exogenous dataframe indicating the month\n",
    "X = pd.DataFrame({'month': y.index.month}, index=y.index)\n",
    "X = pd.get_dummies(X.astype(str), drop_first=True)\n",
    "\n",
    "# Split into train and test\n",
    "X_train, X_test = temporal_train_test_split(X, test_size=26) # Predict from 1st July 2019"
   ]
  },
  {
   "cell_type": "code",
   "execution_count": null,
   "id": "66ddebeb-b7f8-481b-a372-c4496b3227e1",
   "metadata": {},
   "outputs": [],
   "source": [
    "# Fit\n",
    "forecaster.fit(y=y_train, X=X_train)\n",
    "\n",
    "# Predict\n",
    "y_pred = forecaster.predict(fh=fh, X=X_test)"
   ]
  },
  {
   "cell_type": "code",
   "execution_count": null,
   "id": "35d593c8-fc17-424f-862c-c0824d4cdff1",
   "metadata": {},
   "outputs": [],
   "source": [
    "plot_series(y_train['2018-07-01':], y_test, y_pred, labels=[\"y_train\", \"y_test\", \"y_pred\"], x_label='Date', y_label='Count pedestrians');"
   ]
  },
  {
   "cell_type": "code",
   "execution_count": null,
   "id": "2f1e66f3-81d2-41be-9b96-69df36493ff0",
   "metadata": {},
   "outputs": [],
   "source": [
    "print('MAPE: %.4f' % mean_absolute_percentage_error(y_test, y_pred, symmetric=False))"
   ]
  },
  {
   "attachments": {},
   "cell_type": "markdown",
   "id": "67f9c04a-60c9-475d-b26f-f3ef67cb9bdd",
   "metadata": {},
   "source": [
    "### Tuning the hyperparameters of our forecaster\n",
    "https://towardsdatascience.com/xgboost-fine-tune-and-optimize-your-model-23d996fab663"
   ]
  },
  {
   "cell_type": "code",
   "execution_count": null,
   "id": "88854b61-3c53-40c0-bcf6-647fab591e72",
   "metadata": {},
   "outputs": [],
   "source": [
    "from sktime.forecasting.model_selection import SingleWindowSplitter\n",
    "\n",
    "validation_size = 26\n",
    "cv = SingleWindowSplitter(window_length=len(y)-validation_size, fh=validation_size)"
   ]
  },
  {
   "cell_type": "code",
   "execution_count": null,
   "id": "3a70d4d3-310b-47f6-a914-651271b46ff7",
   "metadata": {},
   "outputs": [],
   "source": [
    "from sktime.forecasting.model_selection import ForecastingRandomizedSearchCV\n",
    "\n",
    "param_grid = {\n",
    "    'estimator__max_depth': [3, 5, 6, 10, 15, 20],\n",
    "    'estimator__learning_rate': [0.01, 0.1, 0.2, 0.3],\n",
    "    'estimator__subsample': np.arange(0.5, 1.0, 0.1),\n",
    "    'estimator__colsample_bytree': np.arange(0.4, 1.0, 0.1),\n",
    "    'estimator__colsample_bylevel': np.arange(0.4, 1.0, 0.1),\n",
    "    'estimator__n_estimators': [100, 500, 1000]\n",
    "}\n",
    "\n",
    "regressor = XGBRegressor(objective='reg:squarederror', random_state=42)\n",
    "forecaster = make_reduction(regressor, window_length=52, strategy=\"recursive\")\n",
    "\n",
    "gscv = ForecastingRandomizedSearchCV(forecaster, cv=cv, param_distributions=param_grid, n_iter=100, random_state=42)"
   ]
  },
  {
   "cell_type": "code",
   "execution_count": null,
   "id": "6be575b1-f3e9-4af9-9fda-22fdc5bb23cb",
   "metadata": {
    "scrolled": true,
    "tags": []
   },
   "outputs": [],
   "source": [
    "# Fit\n",
    "gscv.fit(y=y_train, X=X_train)\n",
    "\n",
    "# Predict\n",
    "y_pred = gscv.predict(fh=fh, X=X_test)"
   ]
  },
  {
   "cell_type": "code",
   "execution_count": null,
   "id": "45ecad48-831a-4f17-9b45-7f8b91152de7",
   "metadata": {},
   "outputs": [],
   "source": [
    "gscv.cv_results_"
   ]
  },
  {
   "cell_type": "code",
   "execution_count": null,
   "id": "684336df-4ee0-4222-b88f-7f9915d19f42",
   "metadata": {},
   "outputs": [],
   "source": [
    "plot_series(y_train['2018-07-01':], y_test, y_pred, labels=[\"y_train\", \"y_test\", \"y_pred\"], x_label='Date', y_label='Count pedestrians');"
   ]
  },
  {
   "cell_type": "code",
   "execution_count": null,
   "id": "c66d0f4a-d22a-4e32-858c-7a7a998bf741",
   "metadata": {},
   "outputs": [],
   "source": [
    "print('MAPE: %.4f' % mean_absolute_percentage_error(y_test, y_pred, symmetric=False))"
   ]
  },
  {
   "attachments": {},
   "cell_type": "markdown",
   "id": "fc2db047-e475-4d25-a878-f6fd524f03ec",
   "metadata": {},
   "source": [
    "## Adding components to our forecasting pipeline"
   ]
  },
  {
   "cell_type": "code",
   "execution_count": null,
   "id": "bb062fd1-a743-4b83-8b9a-c8f0d21e126f",
   "metadata": {},
   "outputs": [],
   "source": [
    "from statsmodels.tsa.seasonal import seasonal_decompose\n",
    "plt.rcParams[\"figure.figsize\"] = (8,10)\n",
    "\n",
    "result = seasonal_decompose(y_train, model='multiplicative')\n",
    "result.plot()\n",
    "plt.show()"
   ]
  },
  {
   "cell_type": "code",
   "execution_count": null,
   "id": "a258eaed-1086-4f46-9b1a-44169a6953fb",
   "metadata": {},
   "outputs": [],
   "source": [
    "from sktime.forecasting.compose import TransformedTargetForecaster\n",
    "from sktime.transformations.series.detrend import Deseasonalizer, Detrender\n",
    "from sktime.forecasting.trend import PolynomialTrendForecaster\n",
    "\n",
    "regressor = XGBRegressor(objective='reg:squarederror', random_state=42)\n",
    "\n",
    "forecaster = TransformedTargetForecaster(\n",
    "    [\n",
    "        (\"deseasonalize\", Deseasonalizer(model=\"multiplicative\", sp=52)),\n",
    "        (\"detrend\", Detrender(forecaster=PolynomialTrendForecaster(degree=1))),\n",
    "        (\"forecast\", make_reduction(regressor, window_length=52, strategy=\"recursive\"),\n",
    "        ),\n",
    "    ]\n",
    ")"
   ]
  },
  {
   "cell_type": "code",
   "execution_count": null,
   "id": "6e2ce848-a063-47c4-bdee-ae4663c999d3",
   "metadata": {},
   "outputs": [],
   "source": [
    "param_grid = {\n",
    "    'deseasonalize__model': ['multiplicative', 'additive'],\n",
    "    'detrend__forecaster__degree': [1, 2, 3],\n",
    "    'forecast__estimator__max_depth': [3, 5, 6, 10, 15, 20],\n",
    "    'forecast__estimator__learning_rate': [0.01, 0.1, 0.2, 0.3],\n",
    "    'forecast__estimator__subsample': np.arange(0.5, 1.0, 0.1),\n",
    "    'forecast__estimator__colsample_bytree': np.arange(0.4, 1.0, 0.1),\n",
    "    'forecast__estimator__colsample_bylevel': np.arange(0.4, 1.0, 0.1),\n",
    "    'forecast__estimator__n_estimators': [100, 500, 1000]\n",
    "}\n",
    "\n",
    "gscv = ForecastingRandomizedSearchCV(forecaster, cv=cv, param_distributions=param_grid, n_iter=100, random_state=42)"
   ]
  },
  {
   "cell_type": "code",
   "execution_count": null,
   "id": "1f1c122c-a24f-4912-b9ea-c73611b77f6c",
   "metadata": {
    "scrolled": true,
    "tags": []
   },
   "outputs": [],
   "source": [
    "# Fit\n",
    "gscv.fit(y=y_train, X=X_train)\n",
    "\n",
    "# Predict\n",
    "y_pred = gscv.predict(fh=fh, X=X_test)"
   ]
  },
  {
   "cell_type": "code",
   "execution_count": null,
   "id": "8fe8845f-05e7-40bf-a498-f633eb67fd4b",
   "metadata": {},
   "outputs": [],
   "source": [
    "gscv.cv_results_"
   ]
  },
  {
   "cell_type": "code",
   "execution_count": null,
   "id": "47d78f37-9207-4c2c-bd6d-8b224fdef7d1",
   "metadata": {},
   "outputs": [],
   "source": [
    "gscv.cv_results_.iloc[0, 3]"
   ]
  },
  {
   "cell_type": "code",
   "execution_count": null,
   "id": "95f415bc-3928-48b1-a10e-f098e9107c1d",
   "metadata": {},
   "outputs": [],
   "source": [
    "plot_series(y_train['2018-07-01':], y_test, y_pred, labels=[\"y_train\", \"y_test\", \"y_pred\"], x_label='Date', y_label='Count pedestrians');"
   ]
  },
  {
   "cell_type": "code",
   "execution_count": null,
   "id": "4d022f6b-48bc-4f34-8599-dafa969f65f7",
   "metadata": {},
   "outputs": [],
   "source": [
    "print('MAPE: %.4f' % mean_absolute_percentage_error(y_test, y_pred, symmetric=False))"
   ]
  }
 ],
 "metadata": {
  "kernelspec": {
   "display_name": "cs685",
   "language": "python",
   "name": "python3"
  },
  "language_info": {
   "codemirror_mode": {
    "name": "ipython",
    "version": 3
   },
   "file_extension": ".py",
   "mimetype": "text/x-python",
   "name": "python",
   "nbconvert_exporter": "python",
   "pygments_lexer": "ipython3",
   "version": "3.9.16"
  }
 },
 "nbformat": 4,
 "nbformat_minor": 5
}
