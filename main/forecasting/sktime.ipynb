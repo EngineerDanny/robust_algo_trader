{
 "cells": [
  {
   "attachments": {},
   "cell_type": "markdown",
   "id": "4397dbfb-c863-4db7-bcad-c968d15f1e1c",
   "metadata": {},
   "source": [
    "## Import packages"
   ]
  },
  {
   "cell_type": "code",
   "execution_count": null,
   "id": "454e3336-8b6a-47c0-b10f-01b168c1e9c5",
   "metadata": {},
   "outputs": [],
   "source": [
    "import pandas as pd\n",
    "import numpy as np\n",
    "import matplotlib.pyplot as plt"
   ]
  },
  {
   "attachments": {},
   "cell_type": "markdown",
   "id": "8c3d4f96-db9e-4f5b-bc35-2ba5e56ca277",
   "metadata": {},
   "source": [
    "## Data preparation"
   ]
  },
  {
   "cell_type": "code",
   "execution_count": null,
   "id": "6e036229",
   "metadata": {},
   "outputs": [],
   "source": [
    "import pandas as pd\n",
    "import numpy as np\n",
    "import matplotlib.pyplot as plt\n",
    "import talib\n",
    "\n",
    "real_df = pd.read_table('/projects/genomic-ml/da2343/ml_project_2/robust_algo_trader/data/EURUSD_H1_200702210000_202304242100.tsv')\n",
    "# real_df = pd.read_table('/Users/newuser/Projects/robust-algo-trader/data/EURUSD_H1_202302010000_202304242100.tsv')\n",
    "\n",
    "df = real_df.copy()\n",
    "# take only last 7000 rows\n",
    "df = df.iloc[-(200+24*7*4):]\n",
    "# df = df.iloc[-(24*7*3):]\n",
    "# df = df.iloc[-(24*5):]\n",
    "# df = df.iloc[-120:]\n",
    "# remove the following columns <TICKVOL>, <VOL> and <SPREAD>\n",
    "df = df.drop(['<TICKVOL>', '<VOL>', '<SPREAD>'], axis=1)\n",
    "df = df.rename(columns={'<DATE>': 'Date', \n",
    "                                '<TIME>': 'Time', \n",
    "                                '<OPEN>': 'Open', \n",
    "                                '<HIGH>': 'High', \n",
    "                                '<LOW>': 'Low', \n",
    "                                '<CLOSE>': 'Close'\n",
    "                                })\n",
    "# combine the date and time columns\n",
    "df['Date_Time'] = df['Date'] + ' ' + df['Time']\n",
    "# remove the date and time columns\n",
    "df = df.drop(['Date', 'Time'], axis=1)\n",
    "# convert the date_time column to datetime\n",
    "df['Time'] = pd.to_datetime(df['Date_Time'])\n",
    "# Rename Date_Time to Time\n",
    "# df.index = df['Time']\n",
    "# df.set_index(\"Time\")\n",
    "# remove the Time column\n",
    "df = df.drop(['Time'], axis=1)\n",
    "\n",
    "prices = df[\"Close\"].values\n",
    "df[\"SMA\"] = talib.SMA(prices, timeperiod=200)\n",
    "df = df.dropna()"
   ]
  },
  {
   "cell_type": "code",
   "execution_count": null,
   "id": "9518f843",
   "metadata": {},
   "outputs": [],
   "source": [
    "from sktime.utils.plotting import plot_series\n",
    "plot_series(y)"
   ]
  },
  {
   "attachments": {},
   "cell_type": "markdown",
   "id": "86659983-f95c-4da7-8612-a6a9bd02a106",
   "metadata": {},
   "source": [
    "## Forecasting with Linear Regression"
   ]
  },
  {
   "cell_type": "code",
   "execution_count": null,
   "id": "ba3d93e8-a020-479b-a718-d32531ab982a",
   "metadata": {},
   "outputs": [],
   "source": [
    "from sktime.forecasting.model_selection import temporal_train_test_split\n",
    "y_train, y_test = temporal_train_test_split(y, test_size=24*7) # Predict from 1st July 2019"
   ]
  },
  {
   "cell_type": "code",
   "execution_count": null,
   "id": "78a643bd-d294-410e-8239-e877709858d7",
   "metadata": {},
   "outputs": [],
   "source": [
    "from sktime.forecasting.base import ForecastingHorizon\n",
    "from sklearn.linear_model import LinearRegression, LassoCV\n",
    "from sktime.forecasting.compose import make_reduction\n",
    "from sktime.utils.plotting import plot_series\n",
    "from sktime.performance_metrics.forecasting import mean_absolute_percentage_error\n",
    "\n",
    "regressor = LinearRegression()\n",
    "forecaster = make_reduction(regressor, window_length=120, strategy=\"recursive\")\n",
    "forecaster.fit(y_train)\n",
    "fh = ForecastingHorizon(y_test.index, is_relative=False)\n",
    "y_pred = forecaster.predict(fh)\n",
    "plot_series(y_train, y_test, y_pred, labels=[\"y_train\", \"y_test\", \"y_pred\"], x_label='Date', y_label='SMA')\n",
    "\n",
    "print('MAPE: %.6f' % mean_absolute_percentage_error(y_test, y_pred, symmetric=False))"
   ]
  },
  {
   "cell_type": "code",
   "execution_count": null,
   "id": "a5f9fcf4",
   "metadata": {},
   "outputs": [],
   "source": [
    "from sktime.datasets import load_airline\n",
    "from sktime.forecasting.trend import TrendForecaster\n",
    "\n",
    "forecaster = TrendForecaster()\n",
    "forecaster.fit(y_train)\n",
    "y_pred = forecaster.predict(fh)\n",
    "plot_series(y_train, y_test, y_pred, labels=[\"y_train\", \"y_test\", \"y_pred\"], x_label='Date', y_label='SMA')\n",
    "print('MAPE: %.4f' % mean_absolute_percentage_error(y_test, y_pred, symmetric=False))"
   ]
  },
  {
   "cell_type": "code",
   "execution_count": null,
   "id": "affacd49",
   "metadata": {},
   "outputs": [],
   "source": [
    "from sktime.forecasting.exp_smoothing import ExponentialSmoothing\n",
    "\n",
    "forecaster = ExponentialSmoothing(trend=\"add\", seasonal=\"additive\", sp=12)\n",
    "forecaster.fit(y_train)\n",
    "y_pred = forecaster.predict(fh)\n",
    "plot_series(y_train, y_test, y_pred, labels=[\"y_train\", \"y_test\", \"y_pred\"])\n",
    "mean_absolute_percentage_error(y_test, y_pred, symmetric=False)"
   ]
  },
  {
   "attachments": {},
   "cell_type": "markdown",
   "id": "6f700dc2-c657-4e1d-b983-6f7726d5be89",
   "metadata": {},
   "source": [
    "### XGBoost with multiple inputs"
   ]
  },
  {
   "attachments": {},
   "cell_type": "markdown",
   "id": "67f9c04a-60c9-475d-b26f-f3ef67cb9bdd",
   "metadata": {},
   "source": [
    "### Tuning the hyperparameters of our forecaster"
   ]
  },
  {
   "cell_type": "code",
   "execution_count": null,
   "id": "88854b61-3c53-40c0-bcf6-647fab591e72",
   "metadata": {},
   "outputs": [],
   "source": [
    "from sktime.forecasting.model_selection import SingleWindowSplitter, ForecastingRandomizedSearchCV\n",
    "from sklearn.ensemble import RandomForestRegressor\n",
    "\n",
    "regressor = RandomForestRegressor(random_state=1)\n",
    "forecaster = make_reduction(regressor, window_length=52, strategy=\"recursive\")\n",
    "gscv = ForecastingRandomizedSearchCV(forecaster, \n",
    "                                     cv=SlidingWindowSplitter(window_length=len(y_train)-26, fh=26), param_distributions= {\n",
    "                                        'deseasonalize__model': ['multiplicative', 'additive'],\n",
    "                                        'detrend__forecaster__degree': [1, 2, 3],\n",
    "                                        'forecast__estimator__max_depth': [3, 5, 6, 10, 15, 20],\n",
    "                                        'forecast__estimator__learning_rate': [0.01, 0.1, 0.2, 0.3],\n",
    "                                        'forecast__estimator__subsample': np.arange(0.5, 1.0, 0.1),\n",
    "                                        'forecast__estimator__colsample_bytree': np.arange(0.4, 1.0, 0.1),\n",
    "                                        'forecast__estimator__colsample_bylevel': np.arange(0.4, 1.0, 0.1),\n",
    "                                        'forecast__estimator__n_estimators': [100, 500, 1000],\n",
    "                                    }, \n",
    "                                     n_iter=1_00, \n",
    "                                     random_state=1)\n",
    "\n",
    "forecaster.fit(y_train)\n",
    "y_pred = gscv.predict(fh)\n",
    "\n",
    "plot_series(y_train, y_test, y_pred, labels=[\"y_train\", \"y_test\", \"y_pred\"])\n",
    "mean_absolute_percentage_error(y_test, y_pred, symmetric=False)"
   ]
  },
  {
   "cell_type": "code",
   "execution_count": null,
   "id": "45ecad48-831a-4f17-9b45-7f8b91152de7",
   "metadata": {},
   "outputs": [],
   "source": [
    "gscv.cv_results_"
   ]
  },
  {
   "attachments": {},
   "cell_type": "markdown",
   "id": "fc2db047-e475-4d25-a878-f6fd524f03ec",
   "metadata": {},
   "source": [
    "## Adding components to our forecasting pipeline"
   ]
  },
  {
   "cell_type": "code",
   "execution_count": null,
   "id": "a258eaed-1086-4f46-9b1a-44169a6953fb",
   "metadata": {},
   "outputs": [],
   "source": [
    "from sktime.forecasting.compose import TransformedTargetForecaster\n",
    "from sktime.transformations.series.detrend import Deseasonalizer, Detrender\n",
    "from sktime.forecasting.trend import PolynomialTrendForecaster\n",
    "from sktime.forecasting.model_selection import SingleWindowSplitter, SlidingWindowSplitter\n",
    "from sktime.forecasting.model_selection import ForecastingRandomizedSearchCV\n",
    "\n",
    "regressor = XGBRegressor(objective='reg:squarederror', random_state=1)\n",
    "\n",
    "forecaster = TransformedTargetForecaster(\n",
    "    [\n",
    "        (\"deseasonalize\", Deseasonalizer(model=\"multiplicative\", sp=52)),\n",
    "        (\"detrend\", Detrender(forecaster=PolynomialTrendForecaster(degree=1))),\n",
    "        (\"forecast\", make_reduction(regressor, window_length=52, strategy=\"recursive\")),\n",
    "    ]\n",
    ")\n",
    "\n",
    "param_grid = {\n",
    "    'deseasonalize__model': ['multiplicative', 'additive'],\n",
    "    'detrend__forecaster__degree': [1, 2, 3],\n",
    "    'forecast__estimator__max_depth': [3, 5, 6, 10, 15, 20],\n",
    "    'forecast__estimator__learning_rate': [0.01, 0.1, 0.2, 0.3],\n",
    "    'forecast__estimator__subsample': np.arange(0.5, 1.0, 0.1),\n",
    "    'forecast__estimator__colsample_bytree': np.arange(0.4, 1.0, 0.1),\n",
    "    'forecast__estimator__colsample_bylevel': np.arange(0.4, 1.0, 0.1),\n",
    "    'forecast__estimator__n_estimators': [100, 500, 1000]\n",
    "}\n",
    "\n",
    "gscv = ForecastingRandomizedSearchCV(forecaster, \n",
    "                                     cv=SlidingWindowSplitter(window_length=len(y_train)-26, fh=26), param_distributions=param_grid, \n",
    "                                     n_iter=1_00, \n",
    "                                     random_state=1)\n",
    "gscv.fit(y_train)\n",
    "y_pred = gscv.predict(fh)\n",
    "\n",
    "plot_series(y_train, y_test, y_pred, labels=[\"y_train\", \"y_test\", \"y_pred\"])\n",
    "mean_absolute_percentage_error(y_test, y_pred, symmetric=False)\n",
    "gscv.cv_results_"
   ]
  },
  {
   "cell_type": "code",
   "execution_count": null,
   "id": "b32668e4",
   "metadata": {},
   "outputs": [],
   "source": [
    "from sklearn.neighbors import KNeighborsRegressor\n",
    "from sktime.forecasting.compose import make_reduction\n",
    "\n",
    "# declarative forecaster specification - just two lines!\n",
    "regressor = KNeighborsRegressor(n_neighbors=4)\n",
    "forecaster = make_reduction(regressor, window_length=55, strategy=\"recursive\")\n",
    "\n",
    "forecaster.fit(y_train)\n",
    "y_pred = forecaster.predict(fh)\n",
    "plot_series(y_train, y_test, y_pred, labels=[\"y_train\", \"y_test\", \"y_pred\"])\n",
    "mean_absolute_percentage_error(y_test, y_pred, symmetric=False)\n"
   ]
  },
  {
   "cell_type": "code",
   "execution_count": null,
   "id": "d8f02890",
   "metadata": {},
   "outputs": [],
   "source": [
    "from sktime.datasets import load_airline\n",
    "from sktime.forecasting.fbprophet import Prophet\n",
    "# Prophet requires to have data with a pandas.DatetimeIndex\n",
    "forecaster = Prophet(  \n",
    "    seasonality_mode='multiplicative',\n",
    "    # n_changepoints=int(len(y) / 12),\n",
    "    )\n",
    "# forecaster.fit(y_train)  \n",
    "\n",
    "# y_pred = forecaster.predict(fh=[1,2,3])  "
   ]
  }
 ],
 "metadata": {
  "kernelspec": {
   "display_name": "cs685",
   "language": "python",
   "name": "python3"
  },
  "language_info": {
   "codemirror_mode": {
    "name": "ipython",
    "version": 3
   },
   "file_extension": ".py",
   "mimetype": "text/x-python",
   "name": "python",
   "nbconvert_exporter": "python",
   "pygments_lexer": "ipython3",
   "version": "3.9.16"
  }
 },
 "nbformat": 4,
 "nbformat_minor": 5
}
