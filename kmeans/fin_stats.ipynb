{
 "cells": [
  {
   "cell_type": "code",
   "execution_count": 6,
   "metadata": {},
   "outputs": [
    {
     "name": "stdout",
     "output_type": "stream",
     "text": [
      "Max drawdown:  0.0\n"
     ]
    }
   ],
   "source": [
    "import numpy as np\n",
    "from empyrical import max_drawdown, alpha_beta\n",
    "\n",
    "returns = np.array([1, 2, 3, 1, 4, 6, 2])\n",
    "\n",
    "\n",
    "# calculate the max drawdown\n",
    "mdd = max_drawdown(returns)\n",
    "\n",
    "print(\"Max drawdown: \", mdd)\n"
   ]
  },
  {
   "cell_type": "code",
   "execution_count": 8,
   "metadata": {},
   "outputs": [
    {
     "data": {
      "text/plain": [
       "-0.6666666666666667"
      ]
     },
     "execution_count": 8,
     "metadata": {},
     "output_type": "execute_result"
    }
   ],
   "source": [
    "# Import libraries\n",
    "import pandas as pd\n",
    "import numpy as np\n",
    "import empyrical as ep\n",
    "import ffn as ffn\n",
    "\n",
    "returns_pd = pd.Series(returns)\n",
    "mdd = ffn.calc_max_drawdown(returns_pd)\n",
    "\n",
    "mdd"
   ]
  }
 ],
 "metadata": {
  "kernelspec": {
   "display_name": "cs499f22",
   "language": "python",
   "name": "python3"
  },
  "language_info": {
   "codemirror_mode": {
    "name": "ipython",
    "version": 3
   },
   "file_extension": ".py",
   "mimetype": "text/x-python",
   "name": "python",
   "nbconvert_exporter": "python",
   "pygments_lexer": "ipython3",
   "version": "3.9.12"
  }
 },
 "nbformat": 4,
 "nbformat_minor": 2
}
