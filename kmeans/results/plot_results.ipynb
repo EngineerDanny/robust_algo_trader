{
 "cells": [
  {
   "cell_type": "code",
   "execution_count": null,
   "metadata": {},
   "outputs": [],
   "source": [
    "from plotnine import *\n",
    "import pandas as pd\n",
    "import numpy as np"
   ]
  },
  {
   "cell_type": "code",
   "execution_count": null,
   "metadata": {},
   "outputs": [],
   "source": [
    "time = \"2024-02-28_09:51\" # classifier_reg\n",
    "\n",
    "df = pd.read_csv(f\"/projects/genomic-ml/da2343/ml_project_1/reproduce/results/{time}_results.csv\")"
   ]
  },
  {
   "cell_type": "code",
   "execution_count": null,
   "metadata": {},
   "outputs": [],
   "source": [
    "p = ggplot(df)\n",
    "p = p + geom_point(aes(x=\"Actual\", y=\"Predicted\", color=\"Algorithm\"))\n",
    "p = p + facet_wrap(\"~Dataset + FoldID + Algorithm\", scales=\"free_x\", labeller=\"label_both\")\n",
    "p = p + theme(axis_text_x=element_text(angle=90), figure_size=(30, 20))\n",
    "p = p + scale_x_log10()\n",
    "p = p + scale_y_log10()\n",
    "print(p)"
   ]
  }
 ],
 "metadata": {
  "language_info": {
   "name": "python"
  }
 },
 "nbformat": 4,
 "nbformat_minor": 2
}
