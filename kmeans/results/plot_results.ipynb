{
 "cells": [
  {
   "cell_type": "code",
   "execution_count": null,
   "metadata": {},
   "outputs": [],
   "source": [
    "from plotnine import *\n",
    "import pandas as pd\n",
    "import numpy as np"
   ]
  },
  {
   "cell_type": "code",
   "execution_count": null,
   "metadata": {},
   "outputs": [],
   "source": [
    "time = \"2024-03-14_14:51\"\n",
    "time = \"2024-03-14_15:32\"\n",
    "time = \"2024-03-14_17:26\"\n",
    "time = \"2024-03-14_18:18\"\n",
    "time = \"2024-03-14_19:00\"\n",
    "# time = \"2024-03-14_20:08\"\n",
    "time = \"2024-03-15_10:31\"\n",
    "time = \"2024-03-15_13:27\"\n",
    "time = \"2024-03-15_15:44\"\n",
    "time = \"2024-03-15_16:27\"\n",
    "time = \"2024-03-16_13:35\"\n",
    "time = \"2024-03-18_09:34\"\n",
    "# time = \"2024-03-18_16:10\"\n",
    "# time = \"2024-03-19_00:56\"\n",
    "# time = \"2024-03-20_04:35\"\n",
    "time = \"2024-03-20_08:28\"\n",
    "time = \"2024-03-20_13:00\"\n",
    "time = \"2024-03-21_07:59\"\n",
    "# time = \"2024-03-21_10:50\"\n",
    "time = \"2024-03-21_20:28\"\n",
    "time = \"2024-03-21_21:59\"\n",
    "time = \"2024-03-22_19:23\"\n",
    "# time = \"2024-03-23_02:14\"\n",
    "time = \"2024-03-23_07:49\"\n",
    "time = \"2024-03-25_01:47\"\n",
    "\n",
    "# time = \"2024-03-29_04:53\"\n",
    "time = \"2024-03-29_07:23\"\n",
    "time = \"2024-03-31_15:54\"\n",
    "time = \"2024-03-31_16:37\"\n",
    "time = \"2024-03-31_17:12\"\n",
    "time = \"2024-04-01_15:42\"\n",
    "time = \"2024-04-01_17:06\"\n",
    "time = \"2024-04-01_18:11\"\n",
    "\n",
    "\n",
    "\n",
    "df = pd.read_csv(f\"/projects/genomic-ml/da2343/ml_project_2/kmeans/results/{time}_results.csv\")\n",
    "\n",
    "# df['test_cumsum_annualized_return'] = df['test_cumsum_annualized_return'] * -1\n",
    "# remove where dist_measure is 2\n",
    "# remove where future_candles is 5\n",
    "# remove where n_clusters is 150 or 200\n",
    "# remove where log_return_threshold is greater than 0.01\n",
    "# remove where calmar_ratio_threshold is not 2\n",
    "\n",
    "# df = df[df[\"dist_measure\"] != 2]\n",
    "# df = df[df[\"window\"] < 5]\n",
    "# df = df[df[\"random_state\"] == 42]\n",
    "# df = df[df[\"test_size\"] == 2880]\n",
    "# df = df[df[\"n_clusters\"] == 100]\n",
    "# df = df[df[\"log_return_threshold\"] <= 0.01]\n",
    "df = df[(df[\"test_negative_sharpe_ratio\"] >= 0) | (df[\"test_sharpe_ratio\"] >= 0)]\n",
    "\n",
    "df"
   ]
  },
  {
   "cell_type": "code",
   "execution_count": null,
   "metadata": {},
   "outputs": [],
   "source": [
    "p = ggplot(df)\n",
    "# p = p + geom_line(aes(x=\"window\", y=\"train_cumsum_annualized_return\"), color=\"red\")\n",
    "p = p + geom_line(aes(x=\"window\", y=\"test_cumsum_actual_return\"), color=\"blue\")\n",
    "# p = p + geom_line(aes(x=\"window\", y=\"val_avg_calmar_ratio\"), color=\"red\")\n",
    "# p = p + facet_wrap(\"~train_size + random_state\", scales=\"free_x\", labeller=\"label_both\")\n",
    "p = p + facet_wrap(\"~train_size + test_size + random_state + n_clusters\", scales=\"free_x\", labeller=\"label_both\")\n",
    "p = p + theme(figure_size=(30, 30))\n",
    "# p = p + theme(figure_size=(10, 10))\n",
    "print(p)"
   ]
  },
  {
   "cell_type": "code",
   "execution_count": null,
   "metadata": {},
   "outputs": [],
   "source": [
    "\n",
    "time = \"2024-03-14_19:00\"\n",
    "df = pd.read_csv(f\"/projects/genomic-ml/da2343/ml_project_2/kmeans/results/{time}_results.csv\")\n",
    "\n",
    "p = ggplot(df)\n",
    "p = p + geom_line(aes(x=\"window\", y=\"test_cumsum_annualized_return\"), color=\"blue\")\n",
    "# p = p + geom_line(aes(x=\"window\", y=\"val_cumsum_annualized_return\"), color=\"red\")\n",
    "p = p + facet_wrap(\"~train_size + test_size + random_state\", scales=\"free_x\", labeller=\"label_both\")\n",
    "p = p + theme(axis_text_x=element_text(angle=90), figure_size=(30, 30))\n",
    "print(p)"
   ]
  },
  {
   "cell_type": "code",
   "execution_count": null,
   "metadata": {},
   "outputs": [],
   "source": [
    "4 * 24 * 20"
   ]
  }
 ],
 "metadata": {
  "kernelspec": {
   "display_name": "cs685",
   "language": "python",
   "name": "python3"
  },
  "language_info": {
   "codemirror_mode": {
    "name": "ipython",
    "version": 3
   },
   "file_extension": ".py",
   "mimetype": "text/x-python",
   "name": "python",
   "nbconvert_exporter": "python",
   "pygments_lexer": "ipython3",
   "version": "3.9.16"
  }
 },
 "nbformat": 4,
 "nbformat_minor": 2
}
