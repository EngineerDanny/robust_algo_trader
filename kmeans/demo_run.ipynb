{
 "cells": [
  {
   "cell_type": "code",
   "execution_count": null,
   "metadata": {},
   "outputs": [],
   "source": [
    "import pandas as pd\n",
    "\n",
    "ohlcv_data = pd.read_csv(\"/Users/newuser/Projects/robust_algo_trader/data/gen_oanda_data/GBP_USD_M15_raw_data.csv\", parse_dates=['time'])\n",
    "ohlcv_data = ohlcv_data.set_index('time')\n",
    "ohlcv_data['year'] = ohlcv_data.index.year\n",
    "ohlcv_data['month'] = ohlcv_data.index.month\n",
    "ohlcv_data['day_of_week'] = ohlcv_data.index.dayofweek\n",
    "ohlcv_data['hour'] = ohlcv_data.index.hour\n",
    "ohlcv_data['minute'] = ohlcv_data.index.minute\n",
    "start_date = '2007-01-01'\n",
    "end_date = '2015-01-01'\n",
    "ohlcv_data = ohlcv_data[start_date:end_date]\n",
    "df = ohlcv_data.copy()\n",
    "df"
   ]
  },
  {
   "cell_type": "code",
   "execution_count": null,
   "metadata": {},
   "outputs": [],
   "source": [
    "# Convert the 'Date' column to datetime\n",
    "ohlcv_data['Date'] = pd.to_datetime(ohlcv_data['Date'])\n",
    "\n",
    "# Set the 'Date' column as the index\n",
    "ohlcv_data.set_index('Date', inplace=True)\n",
    "\n",
    "# Define the start date and the duration for the data extraction\n",
    "start_date = '2007-01-01'\n",
    "duration_months = 6\n",
    "\n",
    "# Calculate the end date by adding the duration to the start date\n",
    "end_date = pd.to_datetime(start_date) + pd.DateOffset(months=duration_months)\n",
    "\n",
    "# Extract the data between the start date and the end date\n",
    "six_months_data = ohlcv_data.loc[start_date:end_date]\n",
    "\n",
    "# Display the extracted data\n",
    "print(six_months_data)"
   ]
  },
  {
   "cell_type": "code",
   "execution_count": null,
   "metadata": {},
   "outputs": [],
   "source": [
    "df"
   ]
  },
  {
   "cell_type": "code",
   "execution_count": null,
   "metadata": {},
   "outputs": [],
   "source": [
    "from sktime.forecasting.model_selection import SlidingWindowSplitter\n",
    "\n",
    "ONE_DAY = 4*24   \n",
    "train_size = 80 * ONE_DAY # 80 days \n",
    "test_size = 10 * ONE_DAY # 10 days\n",
    "val_test_horizon = test_size * 2\n",
    "splitter = SlidingWindowSplitter(window_length=train_size, \n",
    "                                 fh=np.arange(1, val_test_horizon + 1),\n",
    "                                 step_length=test_size)\n",
    "\n",
    "for i, (train_idx, val_test_idx) in enumerate(splitter.split(df)):\n",
    "    val_idx = val_test_idx[:test_size]\n",
    "    test_idx = val_test_idx[test_size:]\n",
    "    \n",
    "    df_train = df.iloc[train_idx, :].to_numpy()\n",
    "    df_val = df.iloc[val_idx, :].to_numpy()\n",
    "    df_test = df.iloc[test_idx, :].to_numpy()\n",
    "    \n",
    "    print(f\"Window: {i}\")\n",
    "    print(f\"Train: {df_train.shape[0]}\")\n",
    "    print(f\"Val: {df_val.shape[0]}\")\n",
    "    print(f\"Test: {df_test.shape[0]}\")\n",
    "    print()"
   ]
  }
 ],
 "metadata": {
  "kernelspec": {
   "display_name": "cs499f22",
   "language": "python",
   "name": "python3"
  },
  "language_info": {
   "codemirror_mode": {
    "name": "ipython",
    "version": 3
   },
   "file_extension": ".py",
   "mimetype": "text/x-python",
   "name": "python",
   "nbconvert_exporter": "python",
   "pygments_lexer": "ipython3",
   "version": "3.9.12"
  }
 },
 "nbformat": 4,
 "nbformat_minor": 2
}
