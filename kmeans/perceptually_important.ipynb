{
 "cells": [
  {
   "cell_type": "markdown",
   "metadata": {},
   "source": [
    "## IMPORT LIBRARIES"
   ]
  },
  {
   "cell_type": "code",
   "execution_count": null,
   "metadata": {},
   "outputs": [],
   "source": [
    "import pandas as pd\n",
    "import numpy as np\n",
    "import matplotlib.pyplot as plt\n",
    "import bisect\n",
    "from sklearn.preprocessing import *\n",
    "import mpl_toolkits.mplot3d \n",
    "from sklearn import datasets\n",
    "from sklearn.cluster import KMeans"
   ]
  },
  {
   "cell_type": "code",
   "execution_count": null,
   "metadata": {},
   "outputs": [],
   "source": [
    "# dist_measure\n",
    "# 1 = Euclidean Distance\n",
    "# 2 = Perpendicular Distance\n",
    "# 3 = Vertical Distance\n",
    "def find_pips(data: np.array, n_pips: int, dist_measure: int):\n",
    "    pips_x = [0, len(data) - 1]  # Index\n",
    "    pips_y = [data[0], data[-1]] # Price\n",
    "\n",
    "    for curr_point in range(2, n_pips):\n",
    "        md = 0.0 # Max distance\n",
    "        md_i = -1 # Max distance index\n",
    "        insert_index = -1\n",
    "        # Use a single loop to iterate over all the points\n",
    "        for i in range(1, len(data) - 1):\n",
    "            left_adj = bisect.bisect_right(pips_x, i) - 1\n",
    "            right_adj = left_adj + 1\n",
    "            # Calculate the distance from the point to the line segment\n",
    "            d = distance(data, pips_x, pips_y, i, left_adj, right_adj, dist_measure)\n",
    "            # Update the maximum distance and the insert index\n",
    "            if d > md:\n",
    "                md = d\n",
    "                md_i = i\n",
    "                insert_index = right_adj\n",
    "        # Insert the new pip\n",
    "        pips_x.insert(insert_index, md_i)\n",
    "        pips_y.insert(insert_index, data[md_i])\n",
    "    return pips_x, pips_y\n",
    "\n",
    "# Define a helper function to calculate the distance\n",
    "def distance(data, pips_x, pips_y, i, left_adj, right_adj, dist_measure):\n",
    "    time_diff = pips_x[right_adj] - pips_x[left_adj]\n",
    "    price_diff = pips_y[right_adj] - pips_y[left_adj]\n",
    "    slope = price_diff / time_diff\n",
    "    intercept = pips_y[left_adj] - pips_x[left_adj] * slope\n",
    "    dist_funcs = {\n",
    "        1: lambda x, y: ( (pips_x[left_adj] - x) ** 2 + (pips_y[left_adj] - y) ** 2 ) ** 0.5 + ( (pips_x[right_adj] - x) ** 2 + (pips_y[right_adj] - y) ** 2 ) ** 0.5, # Euclidean distance\n",
    "        2: lambda x, y: abs( (slope * x + intercept) - y ) / (slope ** 2 + 1) ** 0.5, # Perpendicular distance\n",
    "        3: lambda x, y: abs( (slope * x + intercept) - y ) # Vertical distance\n",
    "    }\n",
    "    return dist_funcs[dist_measure](i, data[i])"
   ]
  },
  {
   "cell_type": "code",
   "execution_count": null,
   "metadata": {},
   "outputs": [],
   "source": [
    "\n",
    "data = pd.read_csv(\"/Users/newuser/Projects/robust_algo_trader/data/gen_oanda_data/GBP_USD_M15_raw_data.csv\", parse_dates=['time'])\n",
    "data = data.set_index('time')\n",
    "# take data from 2007 to 2014\n",
    "data = data['2007-01-01':'2008-01-01']\n",
    "\n",
    "# add new columns from the time column, year, month, day, hour, minute\n",
    "data['year'] = data.index.year\n",
    "data['month'] = data.index.month\n",
    "data['day'] = data.index.day\n",
    "data['hour'] = data.index.hour\n",
    "data['minute'] = data.index.minute\n",
    "data"
   ]
  },
  {
   "cell_type": "code",
   "execution_count": null,
   "metadata": {},
   "outputs": [],
   "source": [
    "n_close_points = 24\n",
    "n_perc_points = 4\n",
    "dist_measure = 1\n",
    "pips_y_list = []\n",
    "future_candles = 10\n",
    "# loop through the data\n",
    "# start from the 24th point\n",
    "for index in range(n_close_points, len(data)):\n",
    "    try:\n",
    "        x_close = data['close'].iloc[index-n_close_points:index].to_numpy()\n",
    "        pips_x, pips_y = find_pips(x_close, n_perc_points, dist_measure)\n",
    "        scaled_pips_y = StandardScaler().fit_transform(np.array(pips_y).reshape(-1, 1)).reshape(-1)\n",
    "        pips_y_dict = {f'pip_{i}': scaled_pips_y[i] for i in range(n_perc_points)}\n",
    "        j = index - 1\n",
    "        pips_y_dict['year'] = data['year'].iloc[j]\n",
    "        pips_y_dict['month'] = data['month'].iloc[j]\n",
    "        pips_y_dict['day'] = data['day'].iloc[j]\n",
    "        pips_y_dict['hour'] = data['hour'].iloc[j]\n",
    "        pips_y_dict['minute'] = data['minute'].iloc[j]\n",
    "        pips_y_dict['close'] = data['close'].iloc[j]\n",
    "        pips_y_dict['current_log_ratio'] = 2500 * np.log(pips_y_dict['close'] / data['close'].iloc[j-1])\n",
    "        # future features\n",
    "        pips_y_dict['future_close'] = data['close'].iloc[j+future_candles]\n",
    "        pips_y_dict['future_return'] = pips_y_dict['future_close'] - pips_y_dict['close']\n",
    "        pips_y_dict['future_log_ratio'] = 2500 * np.log(pips_y_dict['future_close'] / pips_y_dict['close'])\n",
    "        pips_y_list.append(pips_y_dict)\n",
    "    except:\n",
    "        print('An exception occurred')\n",
    "        break\n",
    "\n",
    "pips_y_df = pd.DataFrame(pips_y_list)\n",
    "pips_y_df_np = pips_y_df.to_numpy()"
   ]
  },
  {
   "cell_type": "code",
   "execution_count": null,
   "metadata": {},
   "outputs": [],
   "source": [
    "np.random.seed(5)\n",
    "\n",
    "# standard scale the 'hour', 'minute', 'current_log_ratio' columns\n",
    "pips_y_df[['hour', 'minute', 'current_log_ratio']] = StandardScaler().fit_transform(pips_y_df[['hour', 'minute', 'current_log_ratio']])\n",
    "pips_y_df_np = pips_y_df[['pip_0', 'pip_1', 'pip_2', 'pip_3', 'hour', 'minute', 'current_log_ratio']].to_numpy()\n",
    "kmeans = KMeans(n_clusters=36)\n",
    "kmeans.fit(pips_y_df_np)\n",
    "labels = kmeans.labels_"
   ]
  },
  {
   "cell_type": "code",
   "execution_count": null,
   "metadata": {},
   "outputs": [],
   "source": [
    "# add a new column namely k_label using labels to pips_y_df\n",
    "pips_y_df['k_label'] = labels\n",
    "test_pips_y_df = pips_y_df.copy()\n",
    "test_pips_y_df['k_label_1'] = test_pips_y_df['k_label'].shift(1)\n",
    "test_pips_y_df = test_pips_y_df.dropna()"
   ]
  },
  {
   "cell_type": "code",
   "execution_count": null,
   "metadata": {},
   "outputs": [],
   "source": [
    "k_label_log_ratio_df = test_pips_y_df[(test_pips_y_df['future_log_ratio'] < 6) & (test_pips_y_df['future_log_ratio'] > -6)]\n",
    "k_label_log_ratio_df = k_label_log_ratio_df.groupby('k_label')['future_log_ratio'].sum().sort_values(ascending=False)\n",
    "k_label_log_ratio_df"
   ]
  },
  {
   "cell_type": "markdown",
   "metadata": {},
   "source": [
    "## GRAPHS AND ILLUSTRATIONS"
   ]
  },
  {
   "cell_type": "code",
   "execution_count": null,
   "metadata": {},
   "outputs": [],
   "source": [
    "pips_y_df"
   ]
  },
  {
   "cell_type": "code",
   "execution_count": null,
   "metadata": {},
   "outputs": [],
   "source": [
    "# plot the histogram\n",
    "pips_y_df.hist(bins=100)"
   ]
  },
  {
   "cell_type": "code",
   "execution_count": 540,
   "metadata": {},
   "outputs": [
    {
     "name": "stdout",
     "output_type": "stream",
     "text": [
      "Calmar ratio: 14.133067466680231\n",
      "Annualized return: 2.4807433095678246\n",
      "Annualized standard deviation: 66.66541145174904\n",
      "Ulcer index: 0.05553329363593615\n",
      "Martin ratio: 4466.947928265101\n",
      "Max drawdown: -0.17552759267698703\n",
      "Sharp ratio: 3.72103502483182\n"
     ]
    },
    {
     "data": {
      "image/png": "[encoded data removed]",
      "text/plain": [
       "<Figure size 640x480 with 1 Axes>"
      ]
     },
     "metadata": {},
     "output_type": "display_data"
    }
   ],
   "source": [
    "import ffn as ffn\n",
    "import empyrical as ep\n",
    "\n",
    "test_k_label = 24\n",
    "test_pips_y_copy_df = test_pips_y_df[(test_pips_y_df['k_label'] == test_k_label)]\n",
    "test_k_label_cumsum = test_pips_y_copy_df['future_log_ratio'].cumsum()\n",
    "test_k_label_cumsum = test_k_label_cumsum.reset_index(drop=True)\n",
    "test_k_label_cumsum.plot()\n",
    "\n",
    "# Add a constant value to the series\n",
    "test_k_label_cumsum = test_k_label_cumsum + 100\n",
    "n_period = 252\n",
    "# n_period = len(test_k_label_cumsum)\n",
    "rf = 0.01\n",
    "\n",
    "first_return = test_k_label_cumsum.iloc[0]\n",
    "last_return = test_k_label_cumsum.iloc[-1]\n",
    "annualized_return = (last_return/first_return) ** (1 / 1) - 1\n",
    "annualized_std = test_k_label_cumsum.std()\n",
    "ulcer_index = m_ulcer_index(test_k_label_cumsum)\n",
    "max_drawdown = ffn.calc_max_drawdown(test_k_label_cumsum)\n",
    "martin_ratio = (annualized_return*100 - rf) / ulcer_index\n",
    "sharp_ratio = (annualized_return*100 - rf) / annualized_std\n",
    "\n",
    "# Print the results\n",
    "calmar_ratio = percent_return / abs(max_drawdown)\n",
    "print(\"Calmar ratio:\", calmar_ratio)\n",
    "\n",
    "\n",
    "print(\"Annualized return:\", annualized_return)\n",
    "print(\"Annualized standard deviation:\", annualized_std)\n",
    "print(\"Ulcer index:\", ulcer_index)\n",
    "print(\"Martin ratio:\", martin_ratio)\n",
    "print(\"Max drawdown:\", max_drawdown)\n",
    "print(\"Sharp ratio:\", sharp_ratio)"
   ]
  },
  {
   "cell_type": "code",
   "execution_count": 517,
   "metadata": {},
   "outputs": [],
   "source": [
    "# Define a function to calculate the ulcer index\n",
    "def m_ulcer_index(series):\n",
    "    drawdown = (series - series.cummax()) / series.cummax()\n",
    "    squared_average = (drawdown ** 2).mean()\n",
    "    return squared_average ** 0.5"
   ]
  },
  {
   "cell_type": "code",
   "execution_count": 539,
   "metadata": {},
   "outputs": [
    {
     "data": {
      "text/plain": [
       "250.96628503359835"
      ]
     },
     "execution_count": 539,
     "metadata": {},
     "output_type": "execute_result"
    }
   ],
   "source": [
    "last_return - first_return"
   ]
  },
  {
   "cell_type": "code",
   "execution_count": null,
   "metadata": {},
   "outputs": [],
   "source": [
    "test_k_label = 24\n",
    "k_label_sub_df = test_pips_y_df[test_pips_y_df['k_label'] == m_k_label]\n",
    "for i in range(50):\n",
    "    k_label_sub_df.iloc[i][['pip_0', 'pip_1', 'pip_2', 'pip_3']].plot()\n",
    "plt.show()"
   ]
  },
  {
   "cell_type": "code",
   "execution_count": null,
   "metadata": {},
   "outputs": [],
   "source": [
    "test_k_label_cumsum"
   ]
  },
  {
   "cell_type": "code",
   "execution_count": null,
   "metadata": {},
   "outputs": [],
   "source": [
    "np.random.seed(5)\n",
    "# X = pips_y_df_np\n",
    "X = pips_y_df_np[:700]\n",
    "\n",
    "estimators = [\n",
    "    (\"k_means_24\", KMeans(n_clusters=24)),\n",
    "    (\"k_means_3\", KMeans(n_clusters=3)),\n",
    "    (\"k_means_bad_init\", KMeans(n_clusters=3, n_init=1, init=\"random\")),\n",
    "]\n",
    "\n",
    "fig = plt.figure(figsize=(13, 10))\n",
    "titles = [\"24 clusters\", \"3 clusters\", \"3 clusters, bad init\"]\n",
    "for idx, ((name, est), title) in enumerate(zip(estimators, titles)):\n",
    "    ax = fig.add_subplot(2, 2, idx + 1, projection=\"3d\", elev=48, azim=134)\n",
    "    est.fit(X)\n",
    "    labels = est.labels_\n",
    "    ax.scatter(X[:, 3], X[:, 0], X[:, 2], c=labels.astype(float), edgecolor=\"k\")\n",
    "    ax.xaxis.set_ticklabels([])\n",
    "    ax.yaxis.set_ticklabels([])\n",
    "    ax.zaxis.set_ticklabels([])\n",
    "    ax.set_xlabel(\"p0\")\n",
    "    ax.set_ylabel(\"p1\")\n",
    "    ax.set_zlabel(\"p2\")\n",
    "    ax.set_title(title)\n",
    "\n",
    "plt.show()"
   ]
  }
 ],
 "metadata": {
  "kernelspec": {
   "display_name": "cs499f22",
   "language": "python",
   "name": "python3"
  },
  "language_info": {
   "codemirror_mode": {
    "name": "ipython",
    "version": 3
   },
   "file_extension": ".py",
   "mimetype": "text/x-python",
   "name": "python",
   "nbconvert_exporter": "python",
   "pygments_lexer": "ipython3",
   "version": "3.9.12"
  }
 },
 "nbformat": 4,
 "nbformat_minor": 2
}
