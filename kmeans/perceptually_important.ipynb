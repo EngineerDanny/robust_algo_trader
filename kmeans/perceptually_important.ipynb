{
 "cells": [
  {
   "cell_type": "code",
   "execution_count": null,
   "metadata": {},
   "outputs": [],
   "source": [
    "import pandas as pd\n",
    "import numpy as np\n",
    "import matplotlib.pyplot as plt\n",
    "import bisect\n",
    "from sklearn.preprocessing import *\n",
    "\n",
    "# dist_measure\n",
    "# 1 = Euclidean Distance\n",
    "# 2 = Perpendicular Distance\n",
    "# 3 = Vertical Distance\n",
    "def find_pips(data: np.array, n_pips: int, dist_measure: int):\n",
    "    pips_x = [0, len(data) - 1]  # Index\n",
    "    pips_y = [data[0], data[-1]] # Price\n",
    "\n",
    "    for curr_point in range(2, n_pips):\n",
    "        md = 0.0 # Max distance\n",
    "        md_i = -1 # Max distance index\n",
    "        insert_index = -1\n",
    "        # Use a single loop to iterate over all the points\n",
    "        for i in range(1, len(data) - 1):\n",
    "            left_adj = bisect.bisect_right(pips_x, i) - 1\n",
    "            right_adj = left_adj + 1\n",
    "            # Calculate the distance from the point to the line segment\n",
    "            d = distance(data, pips_x, pips_y, i, left_adj, right_adj, dist_measure)\n",
    "            # Update the maximum distance and the insert index\n",
    "            if d > md:\n",
    "                md = d\n",
    "                md_i = i\n",
    "                insert_index = right_adj\n",
    "        # Insert the new pip\n",
    "        pips_x.insert(insert_index, md_i)\n",
    "        pips_y.insert(insert_index, data[md_i])\n",
    "    return pips_x, pips_y\n",
    "\n",
    "# Define a helper function to calculate the distance\n",
    "def distance(data, pips_x, pips_y, i, left_adj, right_adj, dist_measure):\n",
    "    time_diff = pips_x[right_adj] - pips_x[left_adj]\n",
    "    price_diff = pips_y[right_adj] - pips_y[left_adj]\n",
    "    slope = price_diff / time_diff\n",
    "    intercept = pips_y[left_adj] - pips_x[left_adj] * slope\n",
    "    dist_funcs = {\n",
    "        1: lambda x, y: ( (pips_x[left_adj] - x) ** 2 + (pips_y[left_adj] - y) ** 2 ) ** 0.5 + ( (pips_x[right_adj] - x) ** 2 + (pips_y[right_adj] - y) ** 2 ) ** 0.5, # Euclidean distance\n",
    "        2: lambda x, y: abs( (slope * x + intercept) - y ) / (slope ** 2 + 1) ** 0.5, # Perpendicular distance\n",
    "        3: lambda x, y: abs( (slope * x + intercept) - y ) # Vertical distance\n",
    "    }\n",
    "    return dist_funcs[dist_measure](i, data[i])"
   ]
  },
  {
   "cell_type": "code",
   "execution_count": null,
   "metadata": {},
   "outputs": [],
   "source": [
    "\n",
    "data = pd.read_csv(\"/Users/newuser/Projects/robust_algo_trader/data/gen_oanda_data/GBP_USD_M15_raw_data.csv\", parse_dates=['time'])\n",
    "data = data.set_index('time')\n",
    "\n",
    "# take data from 2007 to 2014\n",
    "data = data['2007-01-01':'2008-01-01']\n",
    "\n",
    "# add new columns from the time column, year, month, day, hour, minute\n",
    "data['year'] = data.index.year\n",
    "data['month'] = data.index.month\n",
    "data['day'] = data.index.day\n",
    "data['hour'] = data.index.hour\n",
    "data['minute'] = data.index.minute\n",
    "data"
   ]
  },
  {
   "cell_type": "code",
   "execution_count": 197,
   "metadata": {},
   "outputs": [
    {
     "name": "stdout",
     "output_type": "stream",
     "text": [
      "An exception occurred\n",
      "An exception occurred\n",
      "An exception occurred\n",
      "An exception occurred\n",
      "An exception occurred\n"
     ]
    }
   ],
   "source": [
    "n_close_points = 24\n",
    "n_perc_points = 4\n",
    "dist_measure = 1\n",
    "pips_y_list = []\n",
    "future_candles = 5\n",
    "# loop through the data\n",
    "# start from the 24th point\n",
    "for index in range(n_close_points, len(data)):\n",
    "    try:\n",
    "        x = data['close'].iloc[index-n_close_points:index].to_numpy()\n",
    "        pips_x, pips_y = find_pips(x, n_perc_points, dist_measure)\n",
    "        scaled_pips_y = StandardScaler().fit_transform(np.array(pips_y).reshape(-1, 1)).reshape(-1)\n",
    "        pips_y_dict = {f'pip_{i}': scaled_pips_y[i] for i in range(n_perc_points)}\n",
    "        pips_y_dict['close'] = x[-1]\n",
    "        pips_y_dict['future_close'] = data['close'].iloc[index+future_candles]\n",
    "        pips_y_dict['future_return'] = pips_y_dict['future_close'] - pips_y_dict['close']\n",
    "        pips_y_dict['year'] = data['year'].iloc[index]\n",
    "        pips_y_dict['month'] = data['month'].iloc[index]\n",
    "        pips_y_dict['day'] = data['day'].iloc[index]\n",
    "        pips_y_dict['hour'] = data['hour'].iloc[index]\n",
    "        pips_y_dict['minute'] = data['minute'].iloc[index]\n",
    "        # calculate the future drawdown from close to future_close\n",
    "        # pips_y_dict['future_drawdown'] = pips_y_dict['close'] - pips_y_dict['future_close']\n",
    "        \n",
    "        pips_y_list.append(pips_y_dict)\n",
    "    except:\n",
    "        print('An exception occurred')\n",
    "        break\n",
    "    # print(scaled_pips_y)\n",
    "    # pd.Series(x).plot()\n",
    "    # for i in range(n_perc_points):\n",
    "    #     plt.plot(pips_x[i], pips_y[i], marker='o', color='red')\n",
    "    # plt.plot(pips_x, pips_y, color='black')\n",
    "    # plt.show()\n",
    "# pips_y_df = pd.DataFrame(pips_y_list, columns=[f'pip_{i}' for i in range(n_perc_points)])\n",
    "# pips_y_df_np = pips_y_df.to_numpy()"
   ]
  },
  {
   "cell_type": "code",
   "execution_count": null,
   "metadata": {},
   "outputs": [],
   "source": [
    "pips_y_list"
   ]
  },
  {
   "cell_type": "code",
   "execution_count": 198,
   "metadata": {},
   "outputs": [
    {
     "name": "stdout",
     "output_type": "stream",
     "text": [
      "          pip_0     pip_1     pip_2     pip_3    close  future_close  \\\n",
      "0     -1.669675  0.134062  0.680754  0.854860  1.96565       1.96575   \n",
      "1     -1.660483  0.094141  0.723081  0.843261  1.96545       1.96570   \n",
      "2     -1.327838 -0.600032  0.867848  1.060022  1.96562       1.96575   \n",
      "3     -1.684634  0.652694  0.196948  0.834992  1.96543       1.96563   \n",
      "4     -1.481763 -0.314121  0.682182  1.113702  1.96583       1.96585   \n",
      "...         ...       ...       ...       ...      ...           ...   \n",
      "25337 -1.341657 -0.566947  1.123330  0.785275  1.98596       1.98670   \n",
      "25338 -1.644852  0.123410  1.007541  0.513901  1.98601       1.98905   \n",
      "25339 -1.389463  0.274353 -0.270813  1.385923  1.98650       1.98940   \n",
      "25340 -1.357206  0.263901 -0.316681  1.409986  1.98645       1.98876   \n",
      "25341 -1.370108  0.223041 -0.267649  1.414716  1.98680       1.98690   \n",
      "\n",
      "       future_return  \n",
      "0            0.00010  \n",
      "1            0.00025  \n",
      "2            0.00013  \n",
      "3            0.00020  \n",
      "4            0.00002  \n",
      "...              ...  \n",
      "25337        0.00074  \n",
      "25338        0.00304  \n",
      "25339        0.00290  \n",
      "25340        0.00231  \n",
      "25341        0.00010  \n",
      "\n",
      "[25342 rows x 7 columns]\n"
     ]
    }
   ],
   "source": [
    "import pandas as pd\n",
    "df = pd.DataFrame(pips_y_list)\n",
    "print(df)"
   ]
  },
  {
   "cell_type": "code",
   "execution_count": null,
   "metadata": {},
   "outputs": [],
   "source": [
    "pips_y_df = pd.DataFrame(pips_y_list)\n",
    "pips_y_df"
   ]
  },
  {
   "cell_type": "code",
   "execution_count": null,
   "metadata": {},
   "outputs": [],
   "source": [
    "# plot the histogram\n",
    "pips_y_df.hist(bins=100)"
   ]
  },
  {
   "cell_type": "code",
   "execution_count": null,
   "metadata": {},
   "outputs": [],
   "source": [
    "pips_y_df"
   ]
  },
  {
   "cell_type": "code",
   "execution_count": null,
   "metadata": {},
   "outputs": [],
   "source": [
    "import matplotlib.pyplot as plt\n",
    "import mpl_toolkits.mplot3d \n",
    "import numpy as np\n",
    "from sklearn import datasets\n",
    "from sklearn.cluster import KMeans\n",
    "\n",
    "np.random.seed(5)\n",
    "\n",
    "# X = pips_y_df_np\n",
    "X = pips_y_df_np[:700]\n",
    "\n",
    "estimators = [\n",
    "    (\"k_means_24\", KMeans(n_clusters=24)),\n",
    "    (\"k_means_3\", KMeans(n_clusters=3)),\n",
    "    (\"k_means_bad_init\", KMeans(n_clusters=3, n_init=1, init=\"random\")),\n",
    "]\n",
    "\n",
    "fig = plt.figure(figsize=(13, 10))\n",
    "titles = [\"24 clusters\", \"3 clusters\", \"3 clusters, bad init\"]\n",
    "for idx, ((name, est), title) in enumerate(zip(estimators, titles)):\n",
    "    ax = fig.add_subplot(2, 2, idx + 1, projection=\"3d\", elev=48, azim=134)\n",
    "    est.fit(X)\n",
    "    labels = est.labels_\n",
    "    ax.scatter(X[:, 3], X[:, 0], X[:, 2], c=labels.astype(float), edgecolor=\"k\")\n",
    "    ax.xaxis.set_ticklabels([])\n",
    "    ax.yaxis.set_ticklabels([])\n",
    "    ax.zaxis.set_ticklabels([])\n",
    "    ax.set_xlabel(\"p0\")\n",
    "    ax.set_ylabel(\"p1\")\n",
    "    ax.set_zlabel(\"p2\")\n",
    "    ax.set_title(title)\n",
    "\n",
    "# plt.subplots_adjust(wspace=0.25, hspace=0.25)\n",
    "plt.show()"
   ]
  },
  {
   "cell_type": "code",
   "execution_count": null,
   "metadata": {},
   "outputs": [],
   "source": [
    "np.random.seed(5)\n",
    "\n",
    "est = KMeans(n_clusters=24)\n",
    "est.fit(pips_y_df_np)\n",
    "labels = est.labels_\n"
   ]
  },
  {
   "cell_type": "code",
   "execution_count": null,
   "metadata": {},
   "outputs": [],
   "source": [
    "len(pips_y_df)"
   ]
  },
  {
   "cell_type": "code",
   "execution_count": null,
   "metadata": {},
   "outputs": [],
   "source": [
    "# add a new column namely k_label using labels to pips_y_df\n",
    "\n",
    "pips_y_df['k_label'] = labels\n",
    "pips_y_df"
   ]
  }
 ],
 "metadata": {
  "kernelspec": {
   "display_name": "cs499f22",
   "language": "python",
   "name": "python3"
  },
  "language_info": {
   "codemirror_mode": {
    "name": "ipython",
    "version": 3
   },
   "file_extension": ".py",
   "mimetype": "text/x-python",
   "name": "python",
   "nbconvert_exporter": "python",
   "pygments_lexer": "ipython3",
   "version": "3.9.12"
  }
 },
 "nbformat": 4,
 "nbformat_minor": 2
}
