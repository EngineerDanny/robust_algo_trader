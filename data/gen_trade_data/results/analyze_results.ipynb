{
 "cells": [
  {
   "cell_type": "code",
   "execution_count": 1,
   "metadata": {},
   "outputs": [
    {
     "name": "stdout",
     "output_type": "stream",
     "text": [
      "copied files from /projects/genomic-ml/da2343/ml_project_2/data/saved_data/AUD_CAD_H1/0 to /projects/genomic-ml/da2343/ml_project_2/data/saved_data/0\n"
     ]
    }
   ],
   "source": [
    "import os\n",
    "import json \n",
    "\n",
    "config_path = \"/projects/genomic-ml/da2343/ml_project_2/settings/config.json\"\n",
    "# config_path = \"/Users/newuser/Projects/robust-algo-trader/settings/config.json\"\n",
    "saved_data_dir = \"/projects/genomic-ml/da2343/ml_project_2/data/saved_data\"\n",
    "results_dir = \"/projects/genomic-ml/da2343/ml_project_2/data/gen_trade_data/results\"\n",
    "with open(config_path) as f:\n",
    "  config = json.load(f) \n",
    "config_settings = config[\"trading_settings\"]\n",
    "\n",
    "# create train_zero and train_one directories\n",
    "train_zero_dir = os.path.join(results_dir, \"0\")\n",
    "train_one_dir = os.path.join(results_dir, \"1\")\n",
    "if not os.path.exists(train_zero_dir):\n",
    "    os.makedirs(train_zero_dir)\n",
    "if not os.path.exists(train_one_dir):\n",
    "    os.makedirs(train_one_dir)\n",
    "\n",
    "for key, value in config_settings.items():\n",
    "    label_zero_dir = f\"{saved_data_dir}/{key}/0\"\n",
    "    label_one_dir = f\"{saved_data_dir}/{key}/1\"\n",
    "    os.system(f\"cp {label_zero_dir}/* {train_zero_dir}\")\n",
    "    os.system(f\"cp {label_one_dir}/* {train_one_dir}\")\n",
    "    print(f\"copied files from {label_zero_dir} to {train_zero_dir}\")\n",
    "    break"
   ]
  },
  {
   "cell_type": "code",
   "execution_count": null,
   "metadata": {},
   "outputs": [],
   "source": [
    "# I have images in the following directories:\n",
    "# /projects/genomic-ml/da2343/ml_project_2/data/gen_trade_data/results/0\n",
    "# /projects/genomic-ml/da2343/ml_project_2/data/gen_trade_data/results/0\n",
    "\n",
    "# split the data into train and test\n",
    "\n",
    "train_dir = \"/projects/genomic-ml/da2343/ml_project_2/data/gen_trade_data/train\"\n",
    "test_dir = \"/projects/genomic-ml/da2343/ml_project_2/data/gen_trade_data/test\"\n",
    "if not os.path.exists(train_dir):\n",
    "    os.makedirs(train_dir)\n",
    "if not os.path.exists(test_dir):\n",
    "    os.makedirs(test_dir)\n",
    "    \n",
    "# create train_zero and train_one directories\n",
    "train_zero_dir = os.path.join(train_dir, \"0\")\n",
    "train_one_dir = os.path.join(train_dir, \"1\")\n",
    "if not os.path.exists(train_zero_dir):\n",
    "    os.makedirs(train_zero_dir)\n",
    "if not os.path.exists(train_one_dir):\n",
    "    os.makedirs(train_one_dir)\n",
    "    \n",
    "# create test_zero and test_one directories\n",
    "test_zero_dir = os.path.join(test_dir, \"0\")\n",
    "test_one_dir = os.path.join(test_dir, \"1\")\n",
    "if not os.path.exists(test_zero_dir):\n",
    "    os.makedirs(test_zero_dir)\n",
    "if not os.path.exists(test_one_dir):\n",
    "    os.makedirs(test_one_dir)\n",
    "    \n",
    "# copy files from results/0 to train/0\n",
    "os.system(f\"cp {results_dir}/0/* {train_zero_dir}\")\n",
    "os.system(f\"cp {results_dir}/1/* {train_one_dir}\")"
   ]
  }
 ],
 "metadata": {
  "kernelspec": {
   "display_name": "cs685",
   "language": "python",
   "name": "python3"
  },
  "language_info": {
   "codemirror_mode": {
    "name": "ipython",
    "version": 3
   },
   "file_extension": ".py",
   "mimetype": "text/x-python",
   "name": "python",
   "nbconvert_exporter": "python",
   "pygments_lexer": "ipython3",
   "version": "3.9.16"
  }
 },
 "nbformat": 4,
 "nbformat_minor": 2
}
