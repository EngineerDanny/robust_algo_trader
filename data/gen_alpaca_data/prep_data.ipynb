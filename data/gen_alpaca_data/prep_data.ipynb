{
 "cells": [
  {
   "cell_type": "code",
   "execution_count": 1,
   "metadata": {},
   "outputs": [],
   "source": [
    "\n",
    "# Alpaca API credentials\n",
    "ALPACA_API_KEY\n",
    "ALPACA_SECRET_KEY"
   ]
  },
  {
   "cell_type": "code",
   "execution_count": 2,
   "metadata": {},
   "outputs": [],
   "source": [
    "from alpaca.data.historical import StockHistoricalDataClient\n",
    "from alpaca.data.requests import StockBarsRequest\n",
    "from alpaca.data.timeframe import TimeFrame, TimeFrameUnit\n",
    "from datetime import datetime\n",
    "import time\n",
    "\n",
    "\n",
    "client = StockHistoricalDataClient(api_key=ALPACA_API_KEY, secret_key=ALPACA_SECRET_KEY)\n",
    "\n",
    "symbol_list = [\"MSFT\", \"AMZN\", \"NVDA\", \"TSLA\", \"GOOGL\", \"META\"]\n",
    "\n",
    "symbol_list = [\n",
    "    \"NFLX\", \"AMD\", \"SQ\", \n",
    "    \"SHOP\", \"CRM\", \"PYPL\", \"BABA\", \"TSM\", \"LULU\", \"ISRG\", \"ROKU\", \"ZM\", \"DOCU\",\n",
    "    \"SNOW\", \"UBER\", \"SPOT\", \"TWLO\", \"SQM\", \"NIO\", \"PLTR\", \"CRWD\", \"SE\", \"MELI\"\n",
    "]\n",
    "\n",
    "\n",
    "symbol_list = [\n",
    " \"SWKS\", \"WDAY\"\n",
    "]\n",
    "\n",
    "\n",
    "\n",
    "for symbol in symbol_list:\n",
    "    request_params = StockBarsRequest(\n",
    "                    symbol_or_symbols=symbol,\n",
    "                    timeframe=TimeFrame(amount=15, unit=TimeFrameUnit.Minute),\n",
    "                    start=datetime(2015, 1, 1),\n",
    "                )\n",
    "    bars = client.get_stock_bars(request_params)\n",
    "    # Reset index to make timestamp a column\n",
    "    stock_data = bars.df.reset_index()\n",
    "\n",
    "    # Add symbol column\n",
    "    stock_data['symbol'] = symbol\n",
    "\n",
    "    # Convert timestamp to desired format\n",
    "    stock_data['time'] = stock_data['timestamp'].dt.strftime('%Y-%m-%dT%H:%M:%S.000000000Z')\n",
    "\n",
    "    # Reorder columns and drop the original timestamp column\n",
    "    stock_data = stock_data[['symbol', 'time', 'open', 'high', 'low', 'close', 'volume', 'trade_count', 'vwap']]\n",
    "\n",
    "    output_filename = f\"{symbol}_M15_raw_data.csv\"\n",
    "    stock_data.to_csv(output_filename, index=False)\n",
    "    # wait for 1 second to avoid rate limiting\n",
    "    time.sleep(2)"
   ]
  }
 ],
 "metadata": {
  "kernelspec": {
   "display_name": "cs685",
   "language": "python",
   "name": "python3"
  },
  "language_info": {
   "codemirror_mode": {
    "name": "ipython",
    "version": 3
   },
   "file_extension": ".py",
   "mimetype": "text/x-python",
   "name": "python",
   "nbconvert_exporter": "python",
   "pygments_lexer": "ipython3",
   "version": "3.9.16"
  }
 },
 "nbformat": 4,
 "nbformat_minor": 2
}
