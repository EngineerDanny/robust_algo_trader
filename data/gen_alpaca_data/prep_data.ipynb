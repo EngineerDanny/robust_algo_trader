{
 "cells": [
  {
   "cell_type": "code",
   "execution_count": 13,
   "metadata": {},
   "outputs": [],
   "source": [
    "from alpaca.data.historical import StockHistoricalDataClient\n",
    "from alpaca.data.requests import StockBarsRequest\n",
    "from alpaca.data.timeframe import TimeFrame, TimeFrameUnit\n",
    "from datetime import datetime\n",
    "import time"
   ]
  },
  {
   "cell_type": "code",
   "execution_count": null,
   "metadata": {},
   "outputs": [],
   "source": [
    "\n",
    "# Alpaca API credentials\n",
    "ALPACA_API_KEY\n",
    "ALPACA_SECRET_KEY"
   ]
  },
  {
   "cell_type": "code",
   "execution_count": 15,
   "metadata": {},
   "outputs": [],
   "source": [
    "\n",
    "client = StockHistoricalDataClient(api_key=ALPACA_API_KEY, secret_key=ALPACA_SECRET_KEY)\n",
    "\n",
    "symbol_list = [\n",
    "    # Large-Cap Blue Chips (Stable)\n",
    "    \"AAPL\", \"MSFT\", \"JNJ\", \"PG\", \"JPM\",\n",
    "    \n",
    "    # Growth Stocks (Higher Volatility)\n",
    "    \"NVDA\", \"AMD\", \"TSLA\", \"CRM\", \"AMZN\",\n",
    "    \n",
    "    # Value/Cyclical Stocks\n",
    "    \"CAT\", \"CVX\", \"BA\", \"FCX\", \"GS\",\n",
    "    \n",
    "    # Defensive Stocks\n",
    "    \"KO\", \"WMT\", \"PFE\", \"VZ\", \"NEE\",\n",
    "    \n",
    "    # Market ETFs (Benchmarks)\n",
    "    \"SPY\", \"QQQ\", \"IWM\", \"XLF\", \"XLE\"\n",
    "]\n",
    "\n",
    "\n",
    "for symbol in symbol_list:\n",
    "    request_params = StockBarsRequest(\n",
    "                    symbol_or_symbols=symbol,\n",
    "                    timeframe=TimeFrame(amount=1, unit=TimeFrameUnit.Day),\n",
    "                    start=datetime(2015, 1, 1),\n",
    "                    adjustment=\"all\"\n",
    "                )\n",
    "    bars = client.get_stock_bars(request_params)\n",
    "    # Reset index to make timestamp a column\n",
    "    stock_data = bars.df.reset_index()\n",
    "    # Add symbol column\n",
    "    stock_data['symbol'] = symbol\n",
    "    # Convert timestamp to desired format\n",
    "    stock_data['time'] = stock_data['timestamp'].dt.strftime('%Y-%m-%d')\n",
    "    # Reorder columns and drop the original timestamp column\n",
    "    stock_data = stock_data[['symbol', 'time', 'open', 'high', 'low', 'close', 'volume', 'trade_count', 'vwap']]\n",
    "    # make all the columns start with uppercase\n",
    "    stock_data.columns = [col.capitalize() for col in stock_data.columns]\n",
    "    output_filename = f\"{symbol}_D1_raw_data.csv\"\n",
    "    stock_data.to_csv(output_filename, index=False)\n",
    "    # wait for 1 second to avoid rate limiting\n",
    "    time.sleep(2)"
   ]
  }
 ],
 "metadata": {
  "kernelspec": {
   "display_name": "cs499f22",
   "language": "python",
   "name": "python3"
  },
  "language_info": {
   "codemirror_mode": {
    "name": "ipython",
    "version": 3
   },
   "file_extension": ".py",
   "mimetype": "text/x-python",
   "name": "python",
   "nbconvert_exporter": "python",
   "pygments_lexer": "ipython3",
   "version": "3.9.12"
  }
 },
 "nbformat": 4,
 "nbformat_minor": 2
}
