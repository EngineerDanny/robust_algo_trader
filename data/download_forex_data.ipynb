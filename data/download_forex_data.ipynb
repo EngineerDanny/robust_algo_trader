{
 "cells": [
  {
   "cell_type": "code",
   "execution_count": 19,
   "metadata": {},
   "outputs": [
    {
     "name": "stdout",
     "output_type": "stream",
     "text": [
      "Number of candles: 0\n"
     ]
    }
   ],
   "source": [
    "import requests\n",
    "import pandas as pd\n",
    "import time\n",
    "\n",
    "\n",
    "# OANDA_TEST_ACCOUNT_ID\n",
    "# OANDA_TEST_TOKEN\n",
    "\n",
    "# instrument_list = [\n",
    "#   \"HKD_JPY\",\n",
    "#   \"NZD_CAD\",\n",
    "#   \"NZD_CHF\",\n",
    "#   \"NZD_HKD\",  \n",
    "#   \"NZD_JPY\",\n",
    "#   \"NZD_SGD\",\n",
    "#   \"NZD_USD\",\n",
    "#   \"SGD_CHF\",\n",
    "#   \"SGD_JPY\",\n",
    "#   \"TRY_JPY\"\n",
    "# ]\n",
    "instrument_list = [\"USD_CAD\", \"USD_CHF\", \"USD_CNH\", \n",
    "                   \"USD_CZK\", \"USD_DKK\", \"USD_HKD\",\n",
    "                   \"USD_HUF\", \"USD_JPY\", \"USD_MXN\", \n",
    "                   \"USD_NOK\", \"USD_PLN\", \"USD_SEK\", \"USD_SGD\", \"USD_THB\", \n",
    "                   \"USD_TRY\"]\n",
    "instrument_list = [\"ZAR_JPY\"]\n",
    "\n",
    "for instrument in instrument_list: \n",
    "    start_date = \"1990-08-14T20:00:00.000000000Z\"\n",
    "    candle_length = 500\n",
    "    forex_data_list = []\n",
    "    while candle_length > 0:\n",
    "        url = f\"https://api-fxpractice.oanda.com/v3/accounts/{OANDA_TEST_ACCOUNT_ID}/instruments/{instrument}/candles?granularity=H1&from={start_date}&includeFirst=False\"\n",
    "        headers = {\"Authorization\": f\"Bearer {OANDA_TEST_TOKEN}\"}\n",
    "        response = requests.get(url, headers=headers)\n",
    "        if response.status_code == 200:\n",
    "            data = response.json()\n",
    "            candles = data[\"candles\"]\n",
    "            candle_length = len(candles)\n",
    "            \n",
    "            if candle_length == 0:\n",
    "                print(f\"Number of candles: {candle_length}\")\n",
    "                break\n",
    "            \n",
    "            start_date = candles[-1][\"time\"]\n",
    "            for candle in candles:\n",
    "                local_candle = {\n",
    "                    \"time\": candle[\"time\"],\n",
    "                    \"open\": candle[\"mid\"][\"o\"],\n",
    "                    \"high\": candle[\"mid\"][\"h\"],\n",
    "                    \"low\": candle[\"mid\"][\"l\"],\n",
    "                    \"close\": candle[\"mid\"][\"c\"],\n",
    "                    \"volume\": candle[\"volume\"]\n",
    "                }\n",
    "                forex_data_list.append(local_candle)\n",
    "            # print(f\"Start Date: {start_date}\")\n",
    "            # break\n",
    "        else:\n",
    "            print(f\"Error: {response.status_code}\")\n",
    "            break\n",
    "        \n",
    "    forex_data = pd.DataFrame(forex_data_list)\n",
    "    forex_data.to_csv(f\"{instrument}_H1_raw_data.csv\", index=False)\n",
    "    \n",
    "    time.sleep(20)"
   ]
  }
 ],
 "metadata": {
  "kernelspec": {
   "display_name": "cs499f22",
   "language": "python",
   "name": "python3"
  },
  "language_info": {
   "codemirror_mode": {
    "name": "ipython",
    "version": 3
   },
   "file_extension": ".py",
   "mimetype": "text/x-python",
   "name": "python",
   "nbconvert_exporter": "python",
   "pygments_lexer": "ipython3",
   "version": "3.9.12"
  }
 },
 "nbformat": 4,
 "nbformat_minor": 2
}
