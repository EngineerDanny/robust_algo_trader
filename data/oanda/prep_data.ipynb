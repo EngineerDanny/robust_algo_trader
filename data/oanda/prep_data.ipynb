{
 "cells": [
  {
   "cell_type": "markdown",
   "metadata": {},
   "source": [
    "## Add Indicators to Raw Data"
   ]
  },
  {
   "cell_type": "code",
   "execution_count": 13,
   "metadata": {},
   "outputs": [],
   "source": [
    "import pandas as pd\n",
    "import numpy as np\n",
    "import matplotlib.pyplot as plt\n",
    "import talib\n",
    "import os"
   ]
  },
  {
   "cell_type": "code",
   "execution_count": 14,
   "metadata": {},
   "outputs": [],
   "source": [
    "def extract_df(real_df):\n",
    "    df = real_df.copy()\n",
    "    # make OHLCV capitals letters\n",
    "    prices = df[\"Close\"].values\n",
    "    df[\"SMA_20\"] = talib.SMA(prices, timeperiod=20)\n",
    "    df[\"SMA_30\"] = talib.SMA(prices, timeperiod=30)\n",
    "    df[\"SMA_50\"] = talib.SMA(prices, timeperiod=50)\n",
    "    df[\"SMA_100\"] = talib.SMA(prices, timeperiod=100)\n",
    "    df[\"SMA_200\"] = talib.SMA(prices, timeperiod=200)\n",
    "    df[\"MACD\"], df[\"MACD_Signal\"], df[\"MACD_Hist\"] = talib.MACD(df[\"Close\"])\n",
    "    df[\"MACD_Crossover\"] = np.where(df[\"MACD\"] > df[\"MACD_Signal\"], 1, -1)\n",
    "    df[\"MACD_Crossover_Change\"] = df[\"MACD_Crossover\"].diff()\n",
    "    df[\"RSI\"] = talib.RSI(prices)\n",
    "    df[\"MACD\"], df[\"MACD_Signal\"], df[\"MACD_Hist\"] = talib.MACD(df[\"Close\"])\n",
    "    df[\"ATR\"] = talib.ATR(df[\"High\"], df[\"Low\"], df[\"Close\"])\n",
    "    df[\"ADX\"] = talib.ADX(df[\"High\"], df[\"Low\"], df[\"Close\"])\n",
    "    df[\"AROON_Oscillator\"] = talib.AROONOSC(df[\"High\"], df[\"Low\"])\n",
    "    df[\"OBV\"] = talib.OBV(df[\"Close\"], df[\"Volume\"])\n",
    "    df[\"CCI\"] = talib.CCI(df[\"High\"], df[\"Low\"], df[\"Close\"])\n",
    "    df[\"PSAR\"] = talib.SAR(df[\"High\"], df[\"Low\"])\n",
    "    df[\"STOCH_K\"], df[\"STOCH_D\"] = talib.STOCH(df[\"High\"], df[\"Low\"], df[\"Close\"])\n",
    "    df[\"WILLR\"] = talib.WILLR(df[\"High\"], df[\"Low\"], df[\"Close\"])\n",
    "    df[\"BBANDS_Upper\"], df[\"BBANDS_Middle\"], df[\"BBANDS_Lower\"] = talib.BBANDS(df[\"Close\"])\n",
    "    df[\"AD\"] = talib.AD(df[\"High\"], df[\"Low\"], df[\"Close\"], df[\"Volume\"])\n",
    "    df[\"ADOSC\"] = talib.ADOSC(df[\"High\"], df[\"Low\"], df[\"Close\"], df[\"Volume\"])\n",
    "    df[\"VOLUME_RSI\"] = talib.RSI(df[\"Volume\"])\n",
    "    df[\"MFI\"] = talib.MFI(df[\"High\"], df[\"Low\"], df[\"Close\"], df[\"Volume\"])\n",
    "    df = df.dropna()\n",
    "    return df"
   ]
  },
  {
   "cell_type": "code",
   "execution_count": 15,
   "metadata": {},
   "outputs": [],
   "source": [
    "\n",
    "# folders_path = \"/projects/genomic-ml/da2343/ml_project_2/data\"\n",
    "file_path = \"/Users/newuser/Projects/robust-algo-trader/data/oanda\"\n",
    "data_file_paths = []\n",
    "\n",
    "for csv_file in os.listdir(file_path):\n",
    "    if csv_file.endswith(\".csv\"):\n",
    "        data_file_path = os.path.join(file_path, csv_file)\n",
    "        real_df = pd.read_csv(data_file_path, index_col=0, parse_dates=True)\n",
    "        real_df = real_df.rename(columns={ 'time': 'Time', \n",
    "                                    'open': 'Open', \n",
    "                                    'high': 'High', \n",
    "                                    'low': 'Low', \n",
    "                                    'close': 'Close',\n",
    "                                    'volume': 'Volume',\n",
    "                                    })\n",
    "        df = extract_df(real_df)\n",
    "        # file_name = os.path.basename(data_file_path)\n",
    "        new_file_name = data_file_path.replace('raw_data', 'processed_data')\n",
    "        \n",
    "        # save the df\n",
    "        df.to_csv(new_file_name)"
   ]
  },
  {
   "cell_type": "code",
   "execution_count": 17,
   "metadata": {},
   "outputs": [
    {
     "data": {
      "text/plain": [
       "['/Users/newuser/Projects/robust-algo-trader/data/oanda/GBP_ZAR_H1_raw_data.csv',\n",
       " '/Users/newuser/Projects/robust-algo-trader/data/oanda/AUD_USD_H1_raw_data.csv',\n",
       " '/Users/newuser/Projects/robust-algo-trader/data/oanda/EUR_DKK_H1_raw_data.csv',\n",
       " '/Users/newuser/Projects/robust-algo-trader/data/oanda/USD_CHF_H1_raw_data.csv',\n",
       " '/Users/newuser/Projects/robust-algo-trader/data/oanda/EUR_SGD_H1_raw_data.csv',\n",
       " '/Users/newuser/Projects/robust-algo-trader/data/oanda/GBP_HKD_H1_raw_data.csv',\n",
       " '/Users/newuser/Projects/robust-algo-trader/data/oanda/GBP_NZD_H1_raw_data.csv',\n",
       " '/Users/newuser/Projects/robust-algo-trader/data/oanda/EUR_CAD_H1_raw_data.csv',\n",
       " '/Users/newuser/Projects/robust-algo-trader/data/oanda/CHF_JPY_H1_raw_data.csv',\n",
       " '/Users/newuser/Projects/robust-algo-trader/data/oanda/EUR_TRY_H1_raw_data.csv',\n",
       " '/Users/newuser/Projects/robust-algo-trader/data/oanda/EUR_CZK_H1_raw_data.csv',\n",
       " '/Users/newuser/Projects/robust-algo-trader/data/oanda/AUD_CHF_H1_raw_data.csv',\n",
       " '/Users/newuser/Projects/robust-algo-trader/data/oanda/CAD_CHF_H1_raw_data.csv',\n",
       " '/Users/newuser/Projects/robust-algo-trader/data/oanda/USD_HUF_H1_raw_data.csv',\n",
       " '/Users/newuser/Projects/robust-algo-trader/data/oanda/NZD_JPY_H1_raw_data.csv',\n",
       " '/Users/newuser/Projects/robust-algo-trader/data/oanda/USD_SGD_H1_raw_data.csv',\n",
       " '/Users/newuser/Projects/robust-algo-trader/data/oanda/USD_CAD_H1_raw_data.csv',\n",
       " '/Users/newuser/Projects/robust-algo-trader/data/oanda/GBP_JPY_H1_raw_data.csv',\n",
       " '/Users/newuser/Projects/robust-algo-trader/data/oanda/TRY_JPY_H1_raw_data.csv',\n",
       " '/Users/newuser/Projects/robust-algo-trader/data/oanda/EUR_AUD_H1_raw_data.csv',\n",
       " '/Users/newuser/Projects/robust-algo-trader/data/oanda/SGD_CHF_H1_raw_data.csv',\n",
       " '/Users/newuser/Projects/robust-algo-trader/data/oanda/USD_DKK_H1_raw_data.csv',\n",
       " '/Users/newuser/Projects/robust-algo-trader/data/oanda/EUR_CHF_H1_raw_data.csv',\n",
       " '/Users/newuser/Projects/robust-algo-trader/data/oanda/CHF_HKD_H1_raw_data.csv',\n",
       " '/Users/newuser/Projects/robust-algo-trader/data/oanda/GBP_PLN_H1_raw_data.csv',\n",
       " '/Users/newuser/Projects/robust-algo-trader/data/oanda/EUR_USD_H1_raw_data.csv',\n",
       " '/Users/newuser/Projects/robust-algo-trader/data/oanda/HKD_JPY_H1_raw_data.csv',\n",
       " '/Users/newuser/Projects/robust-algo-trader/data/oanda/USD_THB_H1_raw_data.csv',\n",
       " '/Users/newuser/Projects/robust-algo-trader/data/oanda/EUR_HUF_H1_raw_data.csv',\n",
       " '/Users/newuser/Projects/robust-algo-trader/data/oanda/USD_TRY_H1_raw_data.csv',\n",
       " '/Users/newuser/Projects/robust-algo-trader/data/oanda/AUD_CAD_H1_raw_data.csv',\n",
       " '/Users/newuser/Projects/robust-algo-trader/data/oanda/CHF_ZAR_H1_raw_data.csv',\n",
       " '/Users/newuser/Projects/robust-algo-trader/data/oanda/CAD_SGD_H1_raw_data.csv',\n",
       " '/Users/newuser/Projects/robust-algo-trader/data/oanda/NZD_HKD_H1_raw_data.csv',\n",
       " '/Users/newuser/Projects/robust-algo-trader/data/oanda/AUD_SGD_H1_raw_data.csv',\n",
       " '/Users/newuser/Projects/robust-algo-trader/data/oanda/USD_CZK_H1_raw_data.csv',\n",
       " '/Users/newuser/Projects/robust-algo-trader/data/oanda/EUR_PLN_H1_raw_data.csv',\n",
       " '/Users/newuser/Projects/robust-algo-trader/data/oanda/GBP_USD_H1_raw_data.csv',\n",
       " '/Users/newuser/Projects/robust-algo-trader/data/oanda/NZD_CAD_H1_raw_data.csv',\n",
       " '/Users/newuser/Projects/robust-algo-trader/data/oanda/EUR_SEK_H1_raw_data.csv',\n",
       " '/Users/newuser/Projects/robust-algo-trader/data/oanda/EUR_GBP_H1_raw_data.csv',\n",
       " '/Users/newuser/Projects/robust-algo-trader/data/oanda/CAD_HKD_H1_raw_data.csv',\n",
       " '/Users/newuser/Projects/robust-algo-trader/data/oanda/NZD_SGD_H1_raw_data.csv',\n",
       " '/Users/newuser/Projects/robust-algo-trader/data/oanda/AUD_NZD_H1_raw_data.csv',\n",
       " '/Users/newuser/Projects/robust-algo-trader/data/oanda/AUD_HKD_H1_raw_data.csv',\n",
       " '/Users/newuser/Projects/robust-algo-trader/data/oanda/USD_HKD_H1_raw_data.csv',\n",
       " '/Users/newuser/Projects/robust-algo-trader/data/oanda/EUR_NOK_H1_raw_data.csv',\n",
       " '/Users/newuser/Projects/robust-algo-trader/data/oanda/EUR_JPY_H1_raw_data.csv',\n",
       " '/Users/newuser/Projects/robust-algo-trader/data/oanda/USD_ZAR_H1_raw_data.csv',\n",
       " '/Users/newuser/Projects/robust-algo-trader/data/oanda/GBP_AUD_H1_raw_data.csv',\n",
       " '/Users/newuser/Projects/robust-algo-trader/data/oanda/USD_MXN_H1_raw_data.csv',\n",
       " '/Users/newuser/Projects/robust-algo-trader/data/oanda/SGD_JPY_H1_raw_data.csv',\n",
       " '/Users/newuser/Projects/robust-algo-trader/data/oanda/GBP_CHF_H1_raw_data.csv',\n",
       " '/Users/newuser/Projects/robust-algo-trader/data/oanda/USD_SEK_H1_raw_data.csv',\n",
       " '/Users/newuser/Projects/robust-algo-trader/data/oanda/NZD_CHF_H1_raw_data.csv',\n",
       " '/Users/newuser/Projects/robust-algo-trader/data/oanda/USD_CNH_H1_raw_data.csv',\n",
       " '/Users/newuser/Projects/robust-algo-trader/data/oanda/CAD_JPY_H1_raw_data.csv',\n",
       " '/Users/newuser/Projects/robust-algo-trader/data/oanda/USD_PLN_H1_raw_data.csv',\n",
       " '/Users/newuser/Projects/robust-algo-trader/data/oanda/AUD_JPY_H1_raw_data.csv',\n",
       " '/Users/newuser/Projects/robust-algo-trader/data/oanda/USD_JPY_H1_raw_data.csv',\n",
       " '/Users/newuser/Projects/robust-algo-trader/data/oanda/EUR_ZAR_H1_raw_data.csv',\n",
       " '/Users/newuser/Projects/robust-algo-trader/data/oanda/NZD_USD_H1_raw_data.csv',\n",
       " '/Users/newuser/Projects/robust-algo-trader/data/oanda/EUR_HKD_H1_raw_data.csv',\n",
       " '/Users/newuser/Projects/robust-algo-trader/data/oanda/USD_NOK_H1_raw_data.csv',\n",
       " '/Users/newuser/Projects/robust-algo-trader/data/oanda/EUR_NZD_H1_raw_data.csv',\n",
       " '/Users/newuser/Projects/robust-algo-trader/data/oanda/GBP_CAD_H1_raw_data.csv',\n",
       " '/Users/newuser/Projects/robust-algo-trader/data/oanda/ZAR_JPY_H1_raw_data.csv',\n",
       " '/Users/newuser/Projects/robust-algo-trader/data/oanda/GBP_SGD_H1_raw_data.csv']"
      ]
     },
     "execution_count": 17,
     "metadata": {},
     "output_type": "execute_result"
    }
   ],
   "source": [
    "data_file_paths"
   ]
  },
  {
   "cell_type": "code",
   "execution_count": null,
   "metadata": {},
   "outputs": [],
   "source": [
    "real_df = pd.read_csv(data_file_path, index_col=0, parse_dates=True)\n",
    "real_df"
   ]
  },
  {
   "cell_type": "code",
   "execution_count": null,
   "metadata": {},
   "outputs": [],
   "source": []
  },
  {
   "cell_type": "code",
   "execution_count": null,
   "metadata": {},
   "outputs": [],
   "source": [
    "df_name = 'USDJPY_H1_200705290000_202307282300'\n",
    "df_path = '/projects/genomic-ml/da2343/ml_project_2/data/USDJPY'\n",
    "\n",
    "df = extract_df(f\"{df_path}/{df_name}.tsv\")\n",
    "# save the df to a csv file\n",
    "df.to_csv(f'{df_path}/{df_name}_Update.csv', index=True)\n",
    "print(df.head())"
   ]
  },
  {
   "cell_type": "code",
   "execution_count": null,
   "metadata": {},
   "outputs": [],
   "source": [
    "\n",
    "for data_path in data_file_paths:\n",
    "    df = extract_df(data_path)\n",
    "    # remove extension from data_path\n",
    "    data_path_raw = data_path.split('.')[0]\n",
    "    # data_path_raw = data_path.split('/')[-1]\n",
    "    new_path = data_path_raw + f'_Update.csv'\n",
    "    # save the df to a csv file\n",
    "    df.to_csv(new_path, index=True)"
   ]
  },
  {
   "cell_type": "code",
   "execution_count": null,
   "metadata": {},
   "outputs": [],
   "source": [
    "data_file_paths"
   ]
  },
  {
   "cell_type": "markdown",
   "metadata": {},
   "source": [
    "## Download Forex Data from OANDA"
   ]
  },
  {
   "cell_type": "code",
   "execution_count": null,
   "metadata": {},
   "outputs": [],
   "source": [
    "import requests\n",
    "import pandas as pd\n",
    "import time\n",
    "\n",
    "\n",
    "# OANDA_TEST_ACCOUNT_ID\n",
    "# OANDA_TEST_TOKEN\n",
    "\n",
    "# instrument_list = [\n",
    "#   \"HKD_JPY\",\n",
    "#   \"NZD_CAD\",\n",
    "#   \"NZD_CHF\",\n",
    "#   \"NZD_HKD\",  \n",
    "#   \"NZD_JPY\",\n",
    "#   \"NZD_SGD\",\n",
    "#   \"NZD_USD\",\n",
    "#   \"SGD_CHF\",\n",
    "#   \"SGD_JPY\",\n",
    "#   \"TRY_JPY\"\n",
    "# ]\n",
    "instrument_list = [\"USD_CAD\", \"USD_CHF\", \"USD_CNH\", \n",
    "                   \"USD_CZK\", \"USD_DKK\", \"USD_HKD\",\n",
    "                   \"USD_HUF\", \"USD_JPY\", \"USD_MXN\", \n",
    "                   \"USD_NOK\", \"USD_PLN\", \"USD_SEK\", \"USD_SGD\", \"USD_THB\", \n",
    "                   \"USD_TRY\"]\n",
    "instrument_list = [\"ZAR_JPY\"]\n",
    "\n",
    "for instrument in instrument_list: \n",
    "    start_date = \"1990-08-14T20:00:00.000000000Z\"\n",
    "    candle_length = 500\n",
    "    forex_data_list = []\n",
    "    while candle_length > 0:\n",
    "        url = f\"https://api-fxpractice.oanda.com/v3/accounts/{OANDA_TEST_ACCOUNT_ID}/instruments/{instrument}/candles?granularity=H1&from={start_date}&includeFirst=False\"\n",
    "        headers = {\"Authorization\": f\"Bearer {OANDA_TEST_TOKEN}\"}\n",
    "        response = requests.get(url, headers=headers)\n",
    "        if response.status_code == 200:\n",
    "            data = response.json()\n",
    "            candles = data[\"candles\"]\n",
    "            candle_length = len(candles)\n",
    "            \n",
    "            if candle_length == 0:\n",
    "                print(f\"Number of candles: {candle_length}\")\n",
    "                break\n",
    "            \n",
    "            start_date = candles[-1][\"time\"]\n",
    "            for candle in candles:\n",
    "                local_candle = {\n",
    "                    \"time\": candle[\"time\"],\n",
    "                    \"open\": candle[\"mid\"][\"o\"],\n",
    "                    \"high\": candle[\"mid\"][\"h\"],\n",
    "                    \"low\": candle[\"mid\"][\"l\"],\n",
    "                    \"close\": candle[\"mid\"][\"c\"],\n",
    "                    \"volume\": candle[\"volume\"]\n",
    "                }\n",
    "                forex_data_list.append(local_candle)\n",
    "            # print(f\"Start Date: {start_date}\")\n",
    "            # break\n",
    "        else:\n",
    "            print(f\"Error: {response.status_code}\")\n",
    "            break\n",
    "        \n",
    "    forex_data = pd.DataFrame(forex_data_list)\n",
    "    forex_data.to_csv(f\"{instrument}_H1_raw_data.csv\", index=False)\n",
    "    \n",
    "    time.sleep(20)"
   ]
  }
 ],
 "metadata": {
  "kernelspec": {
   "display_name": "cs685",
   "language": "python",
   "name": "python3"
  },
  "language_info": {
   "codemirror_mode": {
    "name": "ipython",
    "version": 3
   },
   "file_extension": ".py",
   "mimetype": "text/x-python",
   "name": "python",
   "nbconvert_exporter": "python",
   "pygments_lexer": "ipython3",
   "version": "3.9.12"
  },
  "orig_nbformat": 4
 },
 "nbformat": 4,
 "nbformat_minor": 2
}
