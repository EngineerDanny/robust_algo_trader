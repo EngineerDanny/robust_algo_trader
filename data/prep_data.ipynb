{
 "cells": [
  {
   "cell_type": "code",
   "execution_count": 2,
   "metadata": {},
   "outputs": [],
   "source": [
    "import pandas as pd\n",
    "import numpy as np\n",
    "import matplotlib.pyplot as plt\n",
    "import talib\n",
    "import pandas_ta as ta\n",
    "import os"
   ]
  },
  {
   "cell_type": "code",
   "execution_count": 3,
   "metadata": {},
   "outputs": [],
   "source": [
    "\n",
    "folders_path = \"/projects/genomic-ml/da2343/ml_project_2/data\"\n",
    "data_file_paths = []\n",
    "\n",
    "# loop through all folders in the path\n",
    "for folder in os.listdir(folders_path):\n",
    "    # check if the folder is a directory\n",
    "    if os.path.isdir(os.path.join(folders_path, folder)) and folder != \"EURUSD\":\n",
    "        current_folder_path = os.path.join(folders_path, folder)\n",
    "        data_file_path = os.path.join(current_folder_path, os.listdir(current_folder_path)[0])\n",
    "        data_file_paths.append(data_file_path)"
   ]
  },
  {
   "cell_type": "code",
   "execution_count": 4,
   "metadata": {},
   "outputs": [],
   "source": [
    "def extract_df(path):\n",
    "    real_df = pd.read_table(path)\n",
    "    df = real_df.copy()\n",
    "    # remove the following columns <TICKVOL>, <VOL> and <SPREAD>\n",
    "    df = df.drop(['<SPREAD>', '<VOL>'], axis=1)\n",
    "    df = df.rename(columns={'<DATE>': 'Date', \n",
    "                                    '<TIME>': 'Time', \n",
    "                                    '<OPEN>': 'Open', \n",
    "                                    '<HIGH>': 'High', \n",
    "                                    '<LOW>': 'Low', \n",
    "                                    '<CLOSE>': 'Close',\n",
    "                                    '<TICKVOL>': 'Volume',\n",
    "                                    })\n",
    "    # combine the date and time columns\n",
    "    df['Date_Time'] = df['Date'] + ' ' + df['Time']\n",
    "    df = df.drop(['Date', 'Time'], axis=1)\n",
    "    df['Time'] = pd.to_datetime(df['Date_Time'])\n",
    "    df = df.drop(['Time'], axis=1)\n",
    "    prices = df[\"Close\"].values\n",
    "    \n",
    "    df[\"SMA_20\"] = talib.SMA(prices, timeperiod=20)\n",
    "    df[\"SMA_30\"] = talib.SMA(prices, timeperiod=30)\n",
    "    df[\"SMA_50\"] = talib.SMA(prices, timeperiod=50)\n",
    "    df[\"SMA_100\"] = talib.SMA(prices, timeperiod=100)\n",
    "    df[\"SMA_200\"] = talib.SMA(prices, timeperiod=200)\n",
    "    \n",
    "    df[\"MACD\"], df[\"MACD_Signal\"], df[\"MACD_Hist\"] = talib.MACD(df[\"Close\"])\n",
    "    df[\"MACD_Crossover\"] = np.where(df[\"MACD\"] > df[\"MACD_Signal\"], 1, -1)\n",
    "    df[\"MACD_Crossover_Change\"] = df[\"MACD_Crossover\"].diff()\n",
    "    \n",
    "    # RSI (Relative Strength Index)\n",
    "    df[\"RSI\"] = talib.RSI(prices)\n",
    "    \n",
    "    # MACD (Moving Average Convergence Divergence)\n",
    "    df[\"MACD\"], df[\"MACD_Signal\"], df[\"MACD_Hist\"] = talib.MACD(df[\"Close\"])\n",
    "    \n",
    "    # ATR (Average True Range)\n",
    "    df[\"ATR\"] = talib.ATR(df[\"High\"], df[\"Low\"], df[\"Close\"])\n",
    "    \n",
    "    # ADX (Average Directional Index)\n",
    "    df[\"ADX\"] = talib.ADX(df[\"High\"], df[\"Low\"], df[\"Close\"])\n",
    "    \n",
    "    # Aroon Oscillator\n",
    "    df[\"AROON_Oscillator\"] = talib.AROONOSC(df[\"High\"], df[\"Low\"])\n",
    "    \n",
    "    # OBV (On-Balance Volume)\n",
    "    df[\"OBV\"] = talib.OBV(df[\"Close\"], df[\"Volume\"])\n",
    "    \n",
    "    # CCI (Commodity Channel Index)\n",
    "    df[\"CCI\"] = talib.CCI(df[\"High\"], df[\"Low\"], df[\"Close\"])\n",
    "    \n",
    "    # Parabolic SAR\n",
    "    df[\"PSAR\"] = talib.SAR(df[\"High\"], df[\"Low\"])\n",
    "    \n",
    "    # Stochastic Oscillator\n",
    "    df[\"STOCH_K\"], df[\"STOCH_D\"] = talib.STOCH(df[\"High\"], df[\"Low\"], df[\"Close\"])\n",
    "    \n",
    "    # Williams %R\n",
    "    df[\"WILLR\"] = talib.WILLR(df[\"High\"], df[\"Low\"], df[\"Close\"])\n",
    "    \n",
    "    # Bollinger Bands\n",
    "    df[\"BBANDS_Upper\"], df[\"BBANDS_Middle\"], df[\"BBANDS_Lower\"] = talib.BBANDS(df[\"Close\"])\n",
    "    \n",
    "    # AD (Chaikin A/D Line)\n",
    "    df[\"AD\"] = talib.AD(df[\"High\"], df[\"Low\"], df[\"Close\"], df[\"Volume\"])\n",
    "    \n",
    "    # ADOSC (Chaikin A/D Oscillator)\n",
    "    df[\"ADOSC\"] = talib.ADOSC(df[\"High\"], df[\"Low\"], df[\"Close\"], df[\"Volume\"])\n",
    "    \n",
    "    # TODO: VWAP (Volume Weighted Average Price)\n",
    "    # df[\"VWAP\"] =  ta.vwap()\n",
    "    \n",
    "    # VOLUME RSI\n",
    "    df[\"VOLUME_RSI\"] = talib.RSI(df[\"Volume\"])\n",
    "    \n",
    "    # MFI (Money Flow Index)\n",
    "    df[\"MFI\"] = talib.MFI(df[\"High\"], df[\"Low\"], df[\"Close\"], df[\"Volume\"])\n",
    "    \n",
    "    df = df.dropna()\n",
    "    return df\n",
    "\n",
    "eur_usd_h1_path = '/projects/genomic-ml/da2343/ml_project_2/data/EURUSD/EURUSD_H1_200702210000_202304242100.tsv'\n",
    "\n",
    "df = extract_df(eur_usd_h1_path)\n",
    "# save the df to a csv file\n",
    "df.to_csv(f'/projects/genomic-ml/da2343/ml_project_2/data/EURUSD/EURUSD_H1_200702210000_202304242100_Update.csv', index=True)"
   ]
  },
  {
   "cell_type": "code",
   "execution_count": 5,
   "metadata": {},
   "outputs": [
    {
     "ename": "KeyError",
     "evalue": "\"['<SPREAD>', '<VOL>'] not found in axis\"",
     "output_type": "error",
     "traceback": [
      "\u001b[0;31m---------------------------------------------------------------------------\u001b[0m",
      "\u001b[0;31mKeyError\u001b[0m                                  Traceback (most recent call last)",
      "Cell \u001b[0;32mIn[5], line 2\u001b[0m\n\u001b[1;32m      1\u001b[0m \u001b[39mfor\u001b[39;00m data_path \u001b[39min\u001b[39;00m data_file_paths:\n\u001b[0;32m----> 2\u001b[0m     df \u001b[39m=\u001b[39m extract_df(data_path)\n\u001b[1;32m      3\u001b[0m     \u001b[39m# remove extension from data_path\u001b[39;00m\n\u001b[1;32m      4\u001b[0m     data_path_raw \u001b[39m=\u001b[39m data_path\u001b[39m.\u001b[39msplit(\u001b[39m'\u001b[39m\u001b[39m.\u001b[39m\u001b[39m'\u001b[39m)[\u001b[39m0\u001b[39m]\n",
      "Cell \u001b[0;32mIn[4], line 5\u001b[0m, in \u001b[0;36mextract_df\u001b[0;34m(path)\u001b[0m\n\u001b[1;32m      3\u001b[0m df \u001b[39m=\u001b[39m real_df\u001b[39m.\u001b[39mcopy()\n\u001b[1;32m      4\u001b[0m \u001b[39m# remove the following columns <TICKVOL>, <VOL> and <SPREAD>\u001b[39;00m\n\u001b[0;32m----> 5\u001b[0m df \u001b[39m=\u001b[39m df\u001b[39m.\u001b[39;49mdrop([\u001b[39m'\u001b[39;49m\u001b[39m<SPREAD>\u001b[39;49m\u001b[39m'\u001b[39;49m, \u001b[39m'\u001b[39;49m\u001b[39m<VOL>\u001b[39;49m\u001b[39m'\u001b[39;49m], axis\u001b[39m=\u001b[39;49m\u001b[39m1\u001b[39;49m)\n\u001b[1;32m      6\u001b[0m df \u001b[39m=\u001b[39m df\u001b[39m.\u001b[39mrename(columns\u001b[39m=\u001b[39m{\u001b[39m'\u001b[39m\u001b[39m<DATE>\u001b[39m\u001b[39m'\u001b[39m: \u001b[39m'\u001b[39m\u001b[39mDate\u001b[39m\u001b[39m'\u001b[39m, \n\u001b[1;32m      7\u001b[0m                                 \u001b[39m'\u001b[39m\u001b[39m<TIME>\u001b[39m\u001b[39m'\u001b[39m: \u001b[39m'\u001b[39m\u001b[39mTime\u001b[39m\u001b[39m'\u001b[39m, \n\u001b[1;32m      8\u001b[0m                                 \u001b[39m'\u001b[39m\u001b[39m<OPEN>\u001b[39m\u001b[39m'\u001b[39m: \u001b[39m'\u001b[39m\u001b[39mOpen\u001b[39m\u001b[39m'\u001b[39m, \n\u001b[0;32m   (...)\u001b[0m\n\u001b[1;32m     12\u001b[0m                                 \u001b[39m'\u001b[39m\u001b[39m<TICKVOL>\u001b[39m\u001b[39m'\u001b[39m: \u001b[39m'\u001b[39m\u001b[39mVolume\u001b[39m\u001b[39m'\u001b[39m,\n\u001b[1;32m     13\u001b[0m                                 })\n\u001b[1;32m     14\u001b[0m \u001b[39m# combine the date and time columns\u001b[39;00m\n",
      "File \u001b[0;32m/projects/genomic-ml/da2343/cs685/lib/python3.9/site-packages/pandas/util/_decorators.py:331\u001b[0m, in \u001b[0;36mdeprecate_nonkeyword_arguments.<locals>.decorate.<locals>.wrapper\u001b[0;34m(*args, **kwargs)\u001b[0m\n\u001b[1;32m    325\u001b[0m \u001b[39mif\u001b[39;00m \u001b[39mlen\u001b[39m(args) \u001b[39m>\u001b[39m num_allow_args:\n\u001b[1;32m    326\u001b[0m     warnings\u001b[39m.\u001b[39mwarn(\n\u001b[1;32m    327\u001b[0m         msg\u001b[39m.\u001b[39mformat(arguments\u001b[39m=\u001b[39m_format_argument_list(allow_args)),\n\u001b[1;32m    328\u001b[0m         \u001b[39mFutureWarning\u001b[39;00m,\n\u001b[1;32m    329\u001b[0m         stacklevel\u001b[39m=\u001b[39mfind_stack_level(),\n\u001b[1;32m    330\u001b[0m     )\n\u001b[0;32m--> 331\u001b[0m \u001b[39mreturn\u001b[39;00m func(\u001b[39m*\u001b[39;49margs, \u001b[39m*\u001b[39;49m\u001b[39m*\u001b[39;49mkwargs)\n",
      "File \u001b[0;32m/projects/genomic-ml/da2343/cs685/lib/python3.9/site-packages/pandas/core/frame.py:5399\u001b[0m, in \u001b[0;36mDataFrame.drop\u001b[0;34m(self, labels, axis, index, columns, level, inplace, errors)\u001b[0m\n\u001b[1;32m   5251\u001b[0m \u001b[39m@deprecate_nonkeyword_arguments\u001b[39m(version\u001b[39m=\u001b[39m\u001b[39mNone\u001b[39;00m, allowed_args\u001b[39m=\u001b[39m[\u001b[39m\"\u001b[39m\u001b[39mself\u001b[39m\u001b[39m\"\u001b[39m, \u001b[39m\"\u001b[39m\u001b[39mlabels\u001b[39m\u001b[39m\"\u001b[39m])\n\u001b[1;32m   5252\u001b[0m \u001b[39mdef\u001b[39;00m \u001b[39mdrop\u001b[39m(  \u001b[39m# type: ignore[override]\u001b[39;00m\n\u001b[1;32m   5253\u001b[0m     \u001b[39mself\u001b[39m,\n\u001b[0;32m   (...)\u001b[0m\n\u001b[1;32m   5260\u001b[0m     errors: IgnoreRaise \u001b[39m=\u001b[39m \u001b[39m\"\u001b[39m\u001b[39mraise\u001b[39m\u001b[39m\"\u001b[39m,\n\u001b[1;32m   5261\u001b[0m ) \u001b[39m-\u001b[39m\u001b[39m>\u001b[39m DataFrame \u001b[39m|\u001b[39m \u001b[39mNone\u001b[39;00m:\n\u001b[1;32m   5262\u001b[0m \u001b[39m    \u001b[39m\u001b[39m\"\"\"\u001b[39;00m\n\u001b[1;32m   5263\u001b[0m \u001b[39m    Drop specified labels from rows or columns.\u001b[39;00m\n\u001b[1;32m   5264\u001b[0m \n\u001b[0;32m   (...)\u001b[0m\n\u001b[1;32m   5397\u001b[0m \u001b[39m            weight  1.0     0.8\u001b[39;00m\n\u001b[1;32m   5398\u001b[0m \u001b[39m    \"\"\"\u001b[39;00m\n\u001b[0;32m-> 5399\u001b[0m     \u001b[39mreturn\u001b[39;00m \u001b[39msuper\u001b[39;49m()\u001b[39m.\u001b[39;49mdrop(\n\u001b[1;32m   5400\u001b[0m         labels\u001b[39m=\u001b[39;49mlabels,\n\u001b[1;32m   5401\u001b[0m         axis\u001b[39m=\u001b[39;49maxis,\n\u001b[1;32m   5402\u001b[0m         index\u001b[39m=\u001b[39;49mindex,\n\u001b[1;32m   5403\u001b[0m         columns\u001b[39m=\u001b[39;49mcolumns,\n\u001b[1;32m   5404\u001b[0m         level\u001b[39m=\u001b[39;49mlevel,\n\u001b[1;32m   5405\u001b[0m         inplace\u001b[39m=\u001b[39;49minplace,\n\u001b[1;32m   5406\u001b[0m         errors\u001b[39m=\u001b[39;49merrors,\n\u001b[1;32m   5407\u001b[0m     )\n",
      "File \u001b[0;32m/projects/genomic-ml/da2343/cs685/lib/python3.9/site-packages/pandas/util/_decorators.py:331\u001b[0m, in \u001b[0;36mdeprecate_nonkeyword_arguments.<locals>.decorate.<locals>.wrapper\u001b[0;34m(*args, **kwargs)\u001b[0m\n\u001b[1;32m    325\u001b[0m \u001b[39mif\u001b[39;00m \u001b[39mlen\u001b[39m(args) \u001b[39m>\u001b[39m num_allow_args:\n\u001b[1;32m    326\u001b[0m     warnings\u001b[39m.\u001b[39mwarn(\n\u001b[1;32m    327\u001b[0m         msg\u001b[39m.\u001b[39mformat(arguments\u001b[39m=\u001b[39m_format_argument_list(allow_args)),\n\u001b[1;32m    328\u001b[0m         \u001b[39mFutureWarning\u001b[39;00m,\n\u001b[1;32m    329\u001b[0m         stacklevel\u001b[39m=\u001b[39mfind_stack_level(),\n\u001b[1;32m    330\u001b[0m     )\n\u001b[0;32m--> 331\u001b[0m \u001b[39mreturn\u001b[39;00m func(\u001b[39m*\u001b[39;49margs, \u001b[39m*\u001b[39;49m\u001b[39m*\u001b[39;49mkwargs)\n",
      "File \u001b[0;32m/projects/genomic-ml/da2343/cs685/lib/python3.9/site-packages/pandas/core/generic.py:4505\u001b[0m, in \u001b[0;36mNDFrame.drop\u001b[0;34m(self, labels, axis, index, columns, level, inplace, errors)\u001b[0m\n\u001b[1;32m   4503\u001b[0m \u001b[39mfor\u001b[39;00m axis, labels \u001b[39min\u001b[39;00m axes\u001b[39m.\u001b[39mitems():\n\u001b[1;32m   4504\u001b[0m     \u001b[39mif\u001b[39;00m labels \u001b[39mis\u001b[39;00m \u001b[39mnot\u001b[39;00m \u001b[39mNone\u001b[39;00m:\n\u001b[0;32m-> 4505\u001b[0m         obj \u001b[39m=\u001b[39m obj\u001b[39m.\u001b[39;49m_drop_axis(labels, axis, level\u001b[39m=\u001b[39;49mlevel, errors\u001b[39m=\u001b[39;49merrors)\n\u001b[1;32m   4507\u001b[0m \u001b[39mif\u001b[39;00m inplace:\n\u001b[1;32m   4508\u001b[0m     \u001b[39mself\u001b[39m\u001b[39m.\u001b[39m_update_inplace(obj)\n",
      "File \u001b[0;32m/projects/genomic-ml/da2343/cs685/lib/python3.9/site-packages/pandas/core/generic.py:4546\u001b[0m, in \u001b[0;36mNDFrame._drop_axis\u001b[0;34m(self, labels, axis, level, errors, only_slice)\u001b[0m\n\u001b[1;32m   4544\u001b[0m         new_axis \u001b[39m=\u001b[39m axis\u001b[39m.\u001b[39mdrop(labels, level\u001b[39m=\u001b[39mlevel, errors\u001b[39m=\u001b[39merrors)\n\u001b[1;32m   4545\u001b[0m     \u001b[39melse\u001b[39;00m:\n\u001b[0;32m-> 4546\u001b[0m         new_axis \u001b[39m=\u001b[39m axis\u001b[39m.\u001b[39;49mdrop(labels, errors\u001b[39m=\u001b[39;49merrors)\n\u001b[1;32m   4547\u001b[0m     indexer \u001b[39m=\u001b[39m axis\u001b[39m.\u001b[39mget_indexer(new_axis)\n\u001b[1;32m   4549\u001b[0m \u001b[39m# Case for non-unique axis\u001b[39;00m\n\u001b[1;32m   4550\u001b[0m \u001b[39melse\u001b[39;00m:\n",
      "File \u001b[0;32m/projects/genomic-ml/da2343/cs685/lib/python3.9/site-packages/pandas/core/indexes/base.py:6934\u001b[0m, in \u001b[0;36mIndex.drop\u001b[0;34m(self, labels, errors)\u001b[0m\n\u001b[1;32m   6932\u001b[0m \u001b[39mif\u001b[39;00m mask\u001b[39m.\u001b[39many():\n\u001b[1;32m   6933\u001b[0m     \u001b[39mif\u001b[39;00m errors \u001b[39m!=\u001b[39m \u001b[39m\"\u001b[39m\u001b[39mignore\u001b[39m\u001b[39m\"\u001b[39m:\n\u001b[0;32m-> 6934\u001b[0m         \u001b[39mraise\u001b[39;00m \u001b[39mKeyError\u001b[39;00m(\u001b[39mf\u001b[39m\u001b[39m\"\u001b[39m\u001b[39m{\u001b[39;00m\u001b[39mlist\u001b[39m(labels[mask])\u001b[39m}\u001b[39;00m\u001b[39m not found in axis\u001b[39m\u001b[39m\"\u001b[39m)\n\u001b[1;32m   6935\u001b[0m     indexer \u001b[39m=\u001b[39m indexer[\u001b[39m~\u001b[39mmask]\n\u001b[1;32m   6936\u001b[0m \u001b[39mreturn\u001b[39;00m \u001b[39mself\u001b[39m\u001b[39m.\u001b[39mdelete(indexer)\n",
      "\u001b[0;31mKeyError\u001b[0m: \"['<SPREAD>', '<VOL>'] not found in axis\""
     ]
    }
   ],
   "source": [
    "\n",
    "for data_path in data_file_paths:\n",
    "    df = extract_df(data_path)\n",
    "    # remove extension from data_path\n",
    "    data_path_raw = data_path.split('.')[0]\n",
    "    # data_path_raw = data_path.split('/')[-1]\n",
    "    new_path = data_path_raw + f'_Update.csv'\n",
    "    # save the df to a csv file\n",
    "    df.to_csv(new_path, index=True)"
   ]
  },
  {
   "cell_type": "code",
   "execution_count": 6,
   "metadata": {},
   "outputs": [
    {
     "data": {
      "text/plain": [
       "'/projects/genomic-ml/da2343/ml_project_2/data/GBPAUD/GBPAUD_H1_200708211800_202307282300_Update.csv'"
      ]
     },
     "execution_count": 6,
     "metadata": {},
     "output_type": "execute_result"
    }
   ],
   "source": [
    "data_path"
   ]
  }
 ],
 "metadata": {
  "kernelspec": {
   "display_name": "cs685",
   "language": "python",
   "name": "python3"
  },
  "language_info": {
   "codemirror_mode": {
    "name": "ipython",
    "version": 3
   },
   "file_extension": ".py",
   "mimetype": "text/x-python",
   "name": "python",
   "nbconvert_exporter": "python",
   "pygments_lexer": "ipython3",
   "version": "3.9.16"
  },
  "orig_nbformat": 4
 },
 "nbformat": 4,
 "nbformat_minor": 2
}
