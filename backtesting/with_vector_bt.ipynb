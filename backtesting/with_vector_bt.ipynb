{
 "cells": [
  {
   "cell_type": "code",
   "execution_count": null,
   "metadata": {},
   "outputs": [],
   "source": [
    "import vectorbt as vbt\n",
    "# import talib \n",
    "import yfinance as yf"
   ]
  },
  {
   "cell_type": "code",
   "execution_count": null,
   "metadata": {},
   "outputs": [],
   "source": [
    "import vectorbt as vbt\n",
    "\n",
    "price = vbt.YFData.download('BTC-USD').get('Close')\n",
    "\n",
    "pf = vbt.Portfolio.from_holding(price, init_cash=100)\n",
    "pf.total_profit()"
   ]
  },
  {
   "cell_type": "code",
   "execution_count": null,
   "metadata": {},
   "outputs": [],
   "source": [
    "fast_ma = vbt.MA.run(price, 10)\n",
    "slow_ma = vbt.MA.run(price, 50)\n",
    "entries = fast_ma.ma_crossed_above(slow_ma)\n",
    "exits = fast_ma.ma_crossed_below(slow_ma)\n",
    "\n",
    "pf = vbt.Portfolio.from_signals(price, entries, exits, init_cash=100)\n",
    "pf.total_profit()"
   ]
  },
  {
   "cell_type": "code",
   "execution_count": null,
   "metadata": {},
   "outputs": [],
   "source": [
    "import numpy as np\n",
    "\n",
    "symbols = [\"ETH-USD\",]\n",
    "price = vbt.YFData.download(symbols, missing_index='drop').get('Close')\n",
    "\n",
    "# n = np.random.randint(10, 101, size=1000).tolist()\n",
    "# pf = vbt.Portfolio.from_random_signals(price, n=n, init_cash=100, seed=42)\n",
    "\n",
    "# mean_expectancy = pf.trades.expectancy().groupby(['randnx_n']).mean()\n",
    "# fig = mean_expectancy.unstack().vbt.scatterplot(xaxis_title='randnx_n', yaxis_title='mean_expectancy')\n",
    "# fig.show()"
   ]
  },
  {
   "cell_type": "code",
   "execution_count": null,
   "metadata": {},
   "outputs": [],
   "source": [
    "symbols = [\"BTC-USD\", \"ETH-USD\", \"LTC-USD\"]\n",
    "price = vbt.YFData.download(symbols, missing_index='drop').get('Close')\n",
    "\n",
    "windows = np.arange(2, 101)\n",
    "fast_ma, slow_ma = vbt.MA.run_combs(price, window=windows, r=2, short_names=['fast', 'slow'])\n",
    "entries = fast_ma.ma_crossed_above(slow_ma)\n",
    "exits = fast_ma.ma_crossed_below(slow_ma)\n",
    "\n",
    "pf_kwargs = dict(size=np.inf, fees=0.001, freq='1D')\n",
    "pf = vbt.Portfolio.from_signals(price, entries, exits, **pf_kwargs)\n",
    "\n",
    "fig = pf.total_return().vbt.heatmap(\n",
    "    x_level='fast_window', y_level='slow_window', slider_level='symbol', symmetric=True,\n",
    "    trace_kwargs=dict(colorbar=dict(title='Total return', tickformat='%')))\n",
    "fig.show()"
   ]
  }
 ],
 "metadata": {
  "kernelspec": {
   "display_name": "cs499f22",
   "language": "python",
   "name": "python3"
  },
  "language_info": {
   "codemirror_mode": {
    "name": "ipython",
    "version": 3
   },
   "file_extension": ".py",
   "mimetype": "text/x-python",
   "name": "python",
   "nbconvert_exporter": "python",
   "pygments_lexer": "ipython3",
   "version": "3.9.12"
  },
  "orig_nbformat": 4
 },
 "nbformat": 4,
 "nbformat_minor": 2
}
