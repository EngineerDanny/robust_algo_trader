{
 "cells": [
  {
   "cell_type": "code",
   "execution_count": 8,
   "metadata": {},
   "outputs": [
    {
     "name": "stdout",
     "output_type": "stream",
     "text": [
      "[*********************100%***********************]  1 of 1 completed\n"
     ]
    },
    {
     "name": "stderr",
     "output_type": "stream",
     "text": [
      "BokehDeprecationWarning: Passing lists of formats for DatetimeTickFormatter scales was deprecated in Bokeh 3.0. Configure a single string format for each scale\n",
      "/home/da2343/.conda/envs/cs685/lib/python3.9/site-packages/backtesting/_plotting.py:250: UserWarning: DatetimeFormatter scales now only accept a single format. Using the first provided: '%d %b'\n",
      "  formatter=DatetimeTickFormatter(days=['%d %b', '%a %d'],\n",
      "BokehDeprecationWarning: Passing lists of formats for DatetimeTickFormatter scales was deprecated in Bokeh 3.0. Configure a single string format for each scale\n",
      "/home/da2343/.conda/envs/cs685/lib/python3.9/site-packages/backtesting/_plotting.py:250: UserWarning: DatetimeFormatter scales now only accept a single format. Using the first provided: '%m/%Y'\n",
      "  formatter=DatetimeTickFormatter(days=['%d %b', '%a %d'],\n"
     ]
    },
    {
     "data": {
      "text/plain": [
       "Start                     2005-01-03 00:00:00\n",
       "End                       2022-12-30 00:00:00\n",
       "Duration                   6570 days 00:00:00\n",
       "Exposure Time [%]                   52.306334\n",
       "Equity Final [$]                    23.104687\n",
       "Equity Peak [$]                    1230.85534\n",
       "Return [%]                         -97.689531\n",
       "Buy & Hold Return [%]            11396.407844\n",
       "Return (Ann.) [%]                  -18.904989\n",
       "Volatility (Ann.) [%]                19.82905\n",
       "Sharpe Ratio                              0.0\n",
       "Sortino Ratio                             0.0\n",
       "Calmar Ratio                              0.0\n",
       "Max. Drawdown [%]                  -98.135265\n",
       "Avg. Drawdown [%]                  -19.336962\n",
       "Max. Drawdown Duration     6370 days 00:00:00\n",
       "Avg. Drawdown Duration      933 days 00:00:00\n",
       "# Trades                                   97\n",
       "Win Rate [%]                        16.494845\n",
       "Best Trade [%]                      29.843084\n",
       "Worst Trade [%]                    -37.225647\n",
       "Avg. Trade [%]                      -4.313635\n",
       "Max. Trade Duration         164 days 00:00:00\n",
       "Avg. Trade Duration          36 days 00:00:00\n",
       "Profit Factor                        0.338346\n",
       "Expectancy [%]                       -3.80827\n",
       "SQN                                 -1.864373\n",
       "_strategy                         RsiStrategy\n",
       "_equity_curve                             ...\n",
       "_trades                       Size  EntryB...\n",
       "dtype: object"
      ]
     },
     "execution_count": 8,
     "metadata": {},
     "output_type": "execute_result"
    }
   ],
   "source": [
    "import yfinance as yf\n",
    "from backtesting import Backtest, Strategy\n",
    "from backtesting.lib import crossover\n",
    "# from backtesting.test import SMA\n",
    "from backtesting.lib import SignalStrategy, TrailingStrategy\n",
    "from ta import momentum\n",
    "import pandas as pd\n",
    "\n",
    "\n",
    "def SMA(arr, n):\n",
    "    return pd.Series(arr).rolling(n).mean()\n",
    "\n",
    "def EMA(arr, n):\n",
    "    return pd.Series(arr).ewm(span=n, adjust=False).mean()\n",
    "\n",
    "def RSI_Indicator (arr, n):\n",
    "    arr_series = pd.Series(arr)\n",
    "    rsi_indicator =  momentum.RSIIndicator(arr_series, window=n)\n",
    "    return rsi_indicator.rsi()\n",
    "    \n",
    "\n",
    "class RsiStrategy(Strategy):\n",
    "    def init(self):\n",
    "        # Load the price and RSI\n",
    "        price = self.data.Close\n",
    "        self.rsi = self.I(RSI_Indicator, price, 14)\n",
    "\n",
    "    def next(self):\n",
    "        # Buy when RSI crosses above 30\n",
    "        if crossover(self.rsi, 30):\n",
    "            self.buy()\n",
    "        # Sell when RSI crosses below 70\n",
    "        elif crossover(70, self.rsi):\n",
    "            self.sell()\n",
    "    \n",
    "    \n",
    "\n",
    "class SmaCross(Strategy):\n",
    "    def init(self):\n",
    "        price = self.data.Close\n",
    "        # SMA = pd.Series(arr).rolling(n).mean()\n",
    "        self.ma1 = self.I(SMA, price, 10)\n",
    "        self.ma2 = self.I(SMA, price, 20)\n",
    "\n",
    "    def next(self):\n",
    "        if crossover(self.ma1, self.ma2):\n",
    "            self.buy()\n",
    "        elif crossover(self.ma2, self.ma1):\n",
    "            self.sell()\n",
    "\n",
    "\n",
    "symbol = 'AAPL'\n",
    "\n",
    "# Define the start and end dates for the data\n",
    "# start_date = '2022-01-11'\n",
    "# end_date = '2023-01-01'\n",
    "\n",
    "# set current date as end date\n",
    "# end_date = dt.datetime.now().strftime('%Y-%m-%d')\n",
    "\n",
    "# Download the data using yfinance\n",
    "data = yf.download(symbol, start=\"2005-01-01\", end=\"2023-01-01\", interval='1d')\n",
    "\n",
    "\n",
    "\n",
    "bt = Backtest(data, RsiStrategy, commission=.002,\n",
    "              cash=1_000,\n",
    "              exclusive_orders=True)\n",
    "stats = bt.run()\n",
    "\n",
    "bt.plot()\n",
    "stats"
   ]
  },
  {
   "cell_type": "code",
   "execution_count": null,
   "metadata": {},
   "outputs": [],
   "source": []
  }
 ],
 "metadata": {
  "kernelspec": {
   "display_name": "cs685",
   "language": "python",
   "name": "python3"
  },
  "language_info": {
   "codemirror_mode": {
    "name": "ipython",
    "version": 3
   },
   "file_extension": ".py",
   "mimetype": "text/x-python",
   "name": "python",
   "nbconvert_exporter": "python",
   "pygments_lexer": "ipython3",
   "version": "3.9.13"
  },
  "orig_nbformat": 4
 },
 "nbformat": 4,
 "nbformat_minor": 2
}
