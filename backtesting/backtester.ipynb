{
 "cells": [
  {
   "cell_type": "code",
   "execution_count": 9,
   "metadata": {},
   "outputs": [
    {
     "name": "stderr",
     "output_type": "stream",
     "text": [
      "BokehDeprecationWarning: Passing lists of formats for DatetimeTickFormatter scales was deprecated in Bokeh 3.0. Configure a single string format for each scale\n",
      "/home/da2343/.conda/envs/cs685/lib/python3.9/site-packages/backtesting/_plotting.py:250: UserWarning: DatetimeFormatter scales now only accept a single format. Using the first provided: '%d %b'\n",
      "  formatter=DatetimeTickFormatter(days=['%d %b', '%a %d'],\n",
      "BokehDeprecationWarning: Passing lists of formats for DatetimeTickFormatter scales was deprecated in Bokeh 3.0. Configure a single string format for each scale\n",
      "/home/da2343/.conda/envs/cs685/lib/python3.9/site-packages/backtesting/_plotting.py:250: UserWarning: DatetimeFormatter scales now only accept a single format. Using the first provided: '%m/%Y'\n",
      "  formatter=DatetimeTickFormatter(days=['%d %b', '%a %d'],\n"
     ]
    },
    {
     "data": {
      "text/plain": [
       "Start                     2004-08-19 00:00:00\n",
       "End                       2013-03-01 00:00:00\n",
       "Duration                   3116 days 00:00:00\n",
       "Exposure Time [%]                   97.067039\n",
       "Equity Final [$]                  68221.96986\n",
       "Equity Peak [$]                   68991.21986\n",
       "Return [%]                         582.219699\n",
       "Buy & Hold Return [%]              703.458242\n",
       "Return (Ann.) [%]                   25.266427\n",
       "Volatility (Ann.) [%]               38.383008\n",
       "Sharpe Ratio                         0.658271\n",
       "Sortino Ratio                        1.288779\n",
       "Calmar Ratio                         0.763748\n",
       "Max. Drawdown [%]                  -33.082172\n",
       "Avg. Drawdown [%]                   -5.581506\n",
       "Max. Drawdown Duration      688 days 00:00:00\n",
       "Avg. Drawdown Duration       41 days 00:00:00\n",
       "# Trades                                   94\n",
       "Win Rate [%]                        54.255319\n",
       "Best Trade [%]                       57.11931\n",
       "Worst Trade [%]                    -16.629898\n",
       "Avg. Trade [%]                       2.074326\n",
       "Max. Trade Duration         121 days 00:00:00\n",
       "Avg. Trade Duration          33 days 00:00:00\n",
       "Profit Factor                        2.190805\n",
       "Expectancy [%]                       2.606294\n",
       "SQN                                  1.990216\n",
       "_strategy                            SmaCross\n",
       "_equity_curve                             ...\n",
       "_trades                       Size  EntryB...\n",
       "dtype: object"
      ]
     },
     "execution_count": 9,
     "metadata": {},
     "output_type": "execute_result"
    }
   ],
   "source": [
    "from backtesting import Backtest, Strategy\n",
    "from backtesting.lib import crossover\n",
    "from backtesting.test import SMA, GOOG, EURUSD\n",
    "\n",
    "\n",
    "class SmaCross(Strategy):\n",
    "    def init(self):\n",
    "        price = self.data.Close\n",
    "        self.ma1 = self.I(SMA, price, 10)\n",
    "        self.ma2 = self.I(SMA, price, 20)\n",
    "\n",
    "    def next(self):\n",
    "        if crossover(self.ma1, self.ma2):\n",
    "            self.buy()\n",
    "        elif crossover(self.ma2, self.ma1):\n",
    "            self.sell()\n",
    "\n",
    "\n",
    "bt = Backtest(GOOG, SmaCross, commission=.002,\n",
    "              exclusive_orders=True)\n",
    "stats = bt.run()\n",
    "\n",
    "bt.plot()\n",
    "stats"
   ]
  },
  {
   "cell_type": "code",
   "execution_count": null,
   "metadata": {},
   "outputs": [],
   "source": []
  }
 ],
 "metadata": {
  "kernelspec": {
   "display_name": "cs685",
   "language": "python",
   "name": "python3"
  },
  "language_info": {
   "codemirror_mode": {
    "name": "ipython",
    "version": 3
   },
   "file_extension": ".py",
   "mimetype": "text/x-python",
   "name": "python",
   "nbconvert_exporter": "python",
   "pygments_lexer": "ipython3",
   "version": "3.9.13"
  },
  "orig_nbformat": 4
 },
 "nbformat": 4,
 "nbformat_minor": 2
}
