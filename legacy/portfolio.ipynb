{
 "cells": [
  {
   "cell_type": "code",
   "execution_count": null,
   "metadata": {},
   "outputs": [],
   "source": [
    "import pandas as pd\n",
    "import numpy as np\n",
    "import matplotlib.pyplot as plt"
   ]
  },
  {
   "cell_type": "code",
   "execution_count": null,
   "metadata": {},
   "outputs": [],
   "source": [
    "date_time = \"2024-01-14_17:54\" # EUR_USD_H1 9.8, 59\n",
    "date_time = \"2024-01-14_17:57\" # GBP_USD_H1 6.6, 57\n",
    "date_time = \"2024-01-14_17:52\" # USD_JPY_H1 2.9, 55\n",
    "date_time = \"2024-01-14_18:04\" # EUR_SEK_H1 2.9, 55\n",
    "# date_time = \"2024-01-14_17:52\" # USD_JPY_H1 2.9, 55\n",
    "date_time = \"2024-01-14_17:52\" # USD_JPY_H1 2.9, 55\n",
    "\n",
    "df = pd.read_csv(f\"/projects/genomic-ml/da2343/ml_project_2/cnn/results/2024-01-28_06:33_results.csv\")\n",
    "df"
   ]
  },
  {
   "cell_type": "code",
   "execution_count": null,
   "metadata": {},
   "outputs": [],
   "source": [
    "import pandas as pd\n",
    "import numpy as np\n",
    "import matplotlib.pyplot as plt\n",
    "\n",
    "# df = pd.read_csv(\"/projects/genomic-ml/da2343/ml_project_2/cnn/ml_2_trades_threshold_0.5_seq_EURUSD_H1_2007_2023.csv\")\n",
    "# df = pd.read_csv(\"/projects/genomic-ml/da2343/ml_project_2/cnn/dummy_trades_seq_EURUSD_H1_2007_2023.csv\")\n",
    "# df = pd.read_csv(\"/projects/genomic-ml/da2343/ml_project_2/cnn/ml_2_trades_threshold_0.5_seq_fix_USDJPY_H1_2007_2023.csv\")\n",
    "# df = pd.read_csv(\"/projects/genomic-ml/da2343/ml_project_2/cnn/ml_2_trades_threshold_0.5_seq_USDJPY_H1_2007_2023.csv\")\n",
    "\n",
    "df = pd.read_csv(\"/projects/genomic-ml/da2343/ml_project_2/cnn/results/1_dummy.csv\")\n",
    "\n",
    "df['Time'] = pd.to_datetime(df['Time'])\n",
    "df['Year'] = df['Time'].dt.year\n",
    "df['Return'] = np.where(df['label'] == 1, 2, -1)\n",
    "\n",
    "# Create Max Drawdown column\n",
    "max_drawdown_df = df.copy() \n",
    "max_drawdown_df = max_drawdown_df[['Year', 'Return', 'label']]\n",
    "max_drawdown = 0\n",
    "max_drawdown_column = []\n",
    "for index, row in max_drawdown_df.iterrows():\n",
    "    if row['Return'] == 2:\n",
    "        max_drawdown = 0\n",
    "    elif row['Return'] == -1:\n",
    "        max_drawdown += 1\n",
    "    max_drawdown_column.append(max_drawdown)\n",
    "max_drawdown_df['Max Drawdown'] = max_drawdown_column\n",
    "max_drawdown_df = max_drawdown_df.groupby(['Year']).agg({'Max Drawdown': 'max'}).reset_index()\n",
    "\n",
    "\n",
    "# for each year, sum the returns and count the number of labels as trades\n",
    "df = df.groupby(['Year']).agg({'Return': 'sum', 'label': 'count'}).reset_index()\n",
    "df['trades'] = df['label']\n",
    "df.drop(['label'], axis=1, inplace=True)\n",
    "df = pd.merge(df, max_drawdown_df, on='Year')\n",
    "\n",
    "\n",
    "df['Percent Return'] = (df['Return'] / df['trades']) * 100\n",
    "# df['Percent Max Drawdown'] = (df['Max Drawdown'] / df['trades']) * -100\n",
    "\n",
    "# merge the two dataframes\n",
    "df"
   ]
  },
  {
   "cell_type": "code",
   "execution_count": null,
   "metadata": {},
   "outputs": [],
   "source": [
    "# df = pd.read_csv(\"/projects/genomic-ml/da2343/ml_project_2/cnn/ml_2_trades_threshold_0.5_seq_EURUSD_H1_2007_2023.csv\")\n",
    "df = pd.read_csv(\"/projects/genomic-ml/da2343/ml_project_2/cnn/dummy_trades_seq_fix_EURUSD_H1_2007_2023.csv\")\n",
    "# df = pd.read_csv(\"/projects/genomic-ml/da2343/ml_project_2/cnn/ml_2_trades_threshold_0.5_seq_USDJPY_H1_2007_2023.csv\")\n",
    "\n",
    "df = pd.read_csv(\"/projects/genomic-ml/da2343/ml_project_2/cnn/ml_2_trades_threshold_0.95_seq_fix_EURUSD_H1_2007_2023.csv\") \n",
    "df = pd.read_csv(\"/projects/genomic-ml/da2343/ml_project_2/cnn/ml_2_trades_threshold_0.95_seq_fix_GBPUSD_H1_2007_2023.csv\") \n",
    "\n",
    "df['Time'] = pd.to_datetime(df['Time'])\n",
    "df['Year'] = df['Time'].dt.year\n",
    "df['Return'] = np.where(df['label'] == 1, 2, -1)\n",
    "\n",
    "# Create Max Drawdown column\n",
    "max_drawdown_df = df.copy() \n",
    "max_drawdown_df = max_drawdown_df[['Year', 'Return', 'label']]\n",
    "max_drawdown = 0\n",
    "max_drawdown_column = []\n",
    "for index, row in max_drawdown_df.iterrows():\n",
    "    if row['Return'] == 2:\n",
    "        max_drawdown = 0\n",
    "    elif row['Return'] == -1:\n",
    "        max_drawdown += 1\n",
    "    max_drawdown_column.append(max_drawdown)\n",
    "max_drawdown_df['Max Drawdown'] = max_drawdown_column\n",
    "max_drawdown_df = max_drawdown_df.groupby(['Year']).agg({'Max Drawdown': 'max'}).reset_index()\n",
    "\n",
    "\n",
    "# for each year, sum the returns and count the number of labels as trades\n",
    "df = df.groupby(['Year']).agg({'Return': 'sum', 'label': 'count'}).reset_index()\n",
    "df['trades'] = df['label']\n",
    "df.drop(['label'], axis=1, inplace=True)\n",
    "df = pd.merge(df, max_drawdown_df, on='Year')\n",
    "\n",
    "\n",
    "df['Percent Return'] = (df['Return'] / df['trades']) * 100\n",
    "# df['Percent Max Drawdown'] = (df['Max Drawdown'] / df['trades']) * -100\n",
    "\n",
    "# merge the two dataframes\n",
    "df"
   ]
  }
 ],
 "metadata": {
  "kernelspec": {
   "display_name": "cs685",
   "language": "python",
   "name": "python3"
  },
  "language_info": {
   "codemirror_mode": {
    "name": "ipython",
    "version": 3
   },
   "file_extension": ".py",
   "mimetype": "text/x-python",
   "name": "python",
   "nbconvert_exporter": "python",
   "pygments_lexer": "ipython3",
   "version": "3.9.12"
  }
 },
 "nbformat": 4,
 "nbformat_minor": 2
}
