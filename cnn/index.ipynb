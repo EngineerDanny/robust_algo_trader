{
 "cells": [
  {
   "cell_type": "code",
   "execution_count": null,
   "metadata": {},
   "outputs": [],
   "source": [
    "import torch\n",
    "import torchvision\n",
    "import torchvision.transforms as transforms\n",
    "import torch.nn as nn\n",
    "import torch.optim as optim\n",
    "import numpy as np\n",
    "import matplotlib.pyplot as plt\n",
    "from sklearn.metrics import roc_curve, auc\n",
    "\n",
    "# Define hyperparameters\n",
    "batch_size = 64 \n",
    "\n",
    "# Set a random seed for reproducibility\n",
    "seed = 42\n",
    "torch.backends.cudnn.deterministic = True\n",
    "torch.backends.cudnn.benchmark = False\n",
    "torch.manual_seed(seed)\n",
    "if torch.cuda.is_available():\n",
    "    torch.cuda.manual_seed(seed)\n",
    "    \n",
    "# Define data transformations\n",
    "transform = transforms.Compose( \n",
    "    [transforms.Resize((64, 64)),\n",
    "     transforms.ToTensor(),\n",
    "     transforms.Normalize((0.5, 0.5, 0.5), (0.5, 0.5, 0.5))]) \n",
    "\n",
    "# Load the data\n",
    "trainset = torchvision.datasets.ImageFolder(root='/Users/newuser/Projects/robust-algo-trader/cnn/train', transform=transform) \n",
    "testset = torchvision.datasets.ImageFolder(root='/Users/newuser/Projects/robust-algo-trader/cnn/test', transform=transform)\n",
    "\n",
    "train_loader = torch.utils.data.DataLoader(trainset, batch_size=batch_size, shuffle=True, num_workers=2, drop_last=True)\n",
    "test_loader = torch.utils.data.DataLoader(testset, batch_size=batch_size, shuffle=False, num_workers=2, drop_last=True)\n",
    "\n",
    "# classes = ('won', 'loss')"
   ]
  },
  {
   "cell_type": "code",
   "execution_count": null,
   "metadata": {},
   "outputs": [],
   "source": [
    "import torch\n",
    "import numpy as np\n",
    "import matplotlib.pyplot as plt\n",
    "from torchvision.utils import make_grid\n",
    "from torchvision.io import read_image\n",
    "from pathlib import Path\n",
    "import torchvision.transforms.functional as F\n",
    "\n",
    "\n",
    "plt.rcParams[\"savefig.bbox\"] = 'tight'\n",
    "\n",
    "def show(imgs):\n",
    "    if not isinstance(imgs, list):\n",
    "        imgs = [imgs]\n",
    "    fig, axs = plt.subplots(ncols=len(imgs), squeeze=False)\n",
    "    for i, img in enumerate(imgs):\n",
    "        img = img.detach()\n",
    "        img = F.to_pil_image(img)\n",
    "        axs[0, i].imshow(np.asarray(img))\n",
    "        axs[0, i].set(xticklabels=[], yticklabels=[], xticks=[], yticks=[])\n",
    "        \n",
    "\n",
    "for inputs, labels in train_loader:\n",
    "    break"
   ]
  },
  {
   "cell_type": "code",
   "execution_count": null,
   "metadata": {},
   "outputs": [],
   "source": [
    "grid = make_grid([torch.squeeze(inputs[x]) for x in range(16)])\n",
    "show(grid) "
   ]
  },
  {
   "cell_type": "code",
   "execution_count": 3,
   "metadata": {},
   "outputs": [
    {
     "name": "stdout",
     "output_type": "stream",
     "text": [
      "Using cpu device\n"
     ]
    }
   ],
   "source": [
    "# Get cpu, gpu or mps device for training.\n",
    "device = (\n",
    "    \"cuda\"\n",
    "    if torch.cuda.is_available()\n",
    "    else \"mps\"\n",
    "    if torch.backends.mps.is_available()\n",
    "    else \"cpu\"\n",
    ")\n",
    "device = \"cpu\"\n",
    "print(f\"Using {device} device\")"
   ]
  },
  {
   "cell_type": "code",
   "execution_count": 4,
   "metadata": {},
   "outputs": [],
   "source": [
    "\n",
    "# Define the model\n",
    "class CNNet(nn.Module):\n",
    "    def __init__(self):\n",
    "        super(CNNet, self).__init__()\n",
    "        # Convolutional layers\n",
    "        self.conv1 = nn.Conv2d(3, 16, 5) # Input channels, output channels, kernel size\n",
    "        self.conv2 = nn.Conv2d(16, 32, 5)\n",
    "        self.conv3 = nn.Conv2d(32, 32, 5)\n",
    "\n",
    "        # Pooling layer\n",
    "        self.pool = nn.MaxPool2d(2, 2) # Kernel size, stride\n",
    "        # Dropout layer\n",
    "        self.dropout = nn.Dropout(0.25)\n",
    "        # Linear layers\n",
    "        # self.fc1 = nn.Linear(64 * 6 * 6, 256)\n",
    "        self.fc1 = nn.Linear(86528, 256)\n",
    "        self.fc2 = nn.Linear(256, 128)\n",
    "        self.fc3 = nn.Linear(128, 1) \n",
    "        self.relu = nn.ReLU()\n",
    "        self.sigmoid = nn.Sigmoid()\n",
    "\n",
    "    def forward(self, x):\n",
    "        # Apply the convolutional layers with pooling and dropout\n",
    "        x = self.relu(self.conv1(x))\n",
    "        # x = self.pool(x)\n",
    "        \n",
    "        x = self.relu(self.conv2(x))\n",
    "        # x = self.pool(x)\n",
    "        \n",
    "        x = self.relu(self.conv3(x))\n",
    "        # x = self.pool(x)\n",
    "        \n",
    "        x = self.dropout(x)\n",
    "        # Flatten the output of the last convolutional layer\n",
    "        x = torch.flatten(x, 1)\n",
    "        # print(\"x.shape\")\n",
    "        # print(x.shape)\n",
    "        # Apply the linear layers with dropout and sigmoid\n",
    "        x = self.relu(self.fc1(x))\n",
    "        x = self.relu(self.fc2(x))\n",
    "        x = self.sigmoid(self.fc3(x))\n",
    "        return x\n",
    "\n",
    "cnn = CNNet()\n",
    "cnn.to(device)\n",
    "\n",
    "criterion = nn.BCELoss()\n",
    "# learning_rate = 0.01\n",
    "learning_rate = 0.001\n",
    "optimizer = optim.Adam(cnn.parameters(), lr=learning_rate)"
   ]
  },
  {
   "cell_type": "code",
   "execution_count": null,
   "metadata": {},
   "outputs": [],
   "source": [
    "# Define a function to compute accuracy\n",
    "def accuracy(outputs, labels):\n",
    "    predicted = torch.round(outputs)\n",
    "    correct = (predicted == labels).sum().item()\n",
    "    return 100 * correct / len(labels)\n",
    "\n",
    "\n",
    "# Define test function\n",
    "def test(dataloader, model, criterion):\n",
    "    size = len(dataloader.dataset)\n",
    "    num_batches = len(dataloader)\n",
    "    model.eval()\n",
    "    test_loss_sum, test_correct = 0, 0\n",
    "    with torch.no_grad():\n",
    "        for X, y in dataloader:\n",
    "            X, y = X.to(device), y.to(device)\n",
    "            pred = model(X)\n",
    "            label = y.float().view(-1, 1)\n",
    "            test_loss_sum += criterion(pred, label).item()\n",
    "            test_correct += (pred > 0.5).eq(y.view_as(pred)).sum().item()\n",
    "    print(f\"Test Loss: {test_loss_sum / num_batches}\")\n",
    "    print(f\"Test Accuracy: {test_correct / size}\")\n",
    "\n",
    "\n",
    "# Define train function\n",
    "def train(dataloader, model, criterion, optimizer):\n",
    "    size = len(dataloader.dataset)\n",
    "    num_batches = len(dataloader)\n",
    "    model.train()\n",
    "    train_loss_sum, train_correct = 0, 0\n",
    "    for batch, (X, y) in enumerate(dataloader):\n",
    "        X, y = X.to(device), y.to(device)\n",
    "        pred = model(X)\n",
    "        label = y.float().view(-1, 1)\n",
    "        loss = criterion(pred, label)\n",
    "        optimizer.zero_grad()\n",
    "        loss.backward()\n",
    "        optimizer.step()\n",
    "        train_loss_sum += loss.item()\n",
    "        train_correct += (pred > 0.5).eq(y.view_as(pred)).sum().item()\n",
    "    print(f\"Train Loss: {train_loss_sum / num_batches}\")\n",
    "    print(f\"Train Accuracy: {train_correct / size}\")\n",
    "    \n",
    "epochs = 500_000_000\n",
    "# epochs = 50\n",
    "epochs = 5\n",
    "for t in range(epochs):\n",
    "    print(\"-------------------------------\\n\",\n",
    "        f\"Epoch {t+1}\\n\",\n",
    "        \"-------------------------------\")\n",
    "    train(train_loader, cnn, criterion, optimizer)\n",
    "    test(test_loader, cnn, criterion)\n",
    "print(\"Done!\")"
   ]
  },
  {
   "cell_type": "code",
   "execution_count": 5,
   "metadata": {},
   "outputs": [],
   "source": [
    "# Save the model\n",
    "PATH = './model.pth'\n",
    "# torch.save(cnn.state_dict(), PATH)"
   ]
  },
  {
   "cell_type": "code",
   "execution_count": 8,
   "metadata": {},
   "outputs": [
    {
     "name": "stdout",
     "output_type": "stream",
     "text": [
      "The predicted class is tensor([[0.0203]], grad_fn=<SigmoidBackward0>)\n",
      "The predicted class is 0.02034067176282406\n",
      "The predicted class is 0\n"
     ]
    }
   ],
   "source": [
    "import torch\n",
    "import torchvision.transforms as transforms\n",
    "from PIL import Image\n",
    "\n",
    "# Load the trained model\n",
    "cnn = CNNet()\n",
    "cnn.load_state_dict(torch.load(PATH))\n",
    "# cnn.to(device)\n",
    "cnn.eval()\n",
    "\n",
    "\n",
    "image = Image.open(\"plot.png\").convert(\"RGB\")\n",
    "image = transform(image)\n",
    "image = image.unsqueeze(0)\n",
    "image = image.to(device)\n",
    "\n",
    "# # Get the model output\n",
    "output = cnn(image)\n",
    "print(f\"The predicted class is {output}\")\n",
    "print(f\"The predicted class is {output.item()}\")\n",
    "output_item = output.item()\n",
    "threshold = 0.8\n",
    "pred = 1 if output_item > threshold else 0\n",
    "\n",
    "# pred = torch.round(output)\n",
    "# # Print the predicted class\n",
    "print(f\"The predicted class is {pred}\")"
   ]
  },
  {
   "cell_type": "code",
   "execution_count": 10,
   "metadata": {},
   "outputs": [
    {
     "data": {
      "text/plain": [
       "0.386493083807974"
      ]
     },
     "execution_count": 10,
     "metadata": {},
     "output_type": "execute_result"
    }
   ],
   "source": [
    "475/(754+475)"
   ]
  }
 ],
 "metadata": {
  "kernelspec": {
   "display_name": "cs499f22",
   "language": "python",
   "name": "python3"
  },
  "language_info": {
   "codemirror_mode": {
    "name": "ipython",
    "version": 3
   },
   "file_extension": ".py",
   "mimetype": "text/x-python",
   "name": "python",
   "nbconvert_exporter": "python",
   "pygments_lexer": "ipython3",
   "version": "3.9.16"
  }
 },
 "nbformat": 4,
 "nbformat_minor": 2
}
