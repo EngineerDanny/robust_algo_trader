{
 "cells": [
  {
   "cell_type": "code",
   "execution_count": null,
   "metadata": {},
   "outputs": [],
   "source": [
    "from plotnine import *\n",
    "import pandas as pd\n",
    "\n",
    "df = pd.read_csv(\"/projects/genomic-ml/da2343/ml_project_2/cnn/results/2024-01-24_00:12_results.csv\")\n",
    "df = df[df[\"atr_delta\"] >= 1.5]\n",
    "\n",
    "# take first 10 rows\n",
    "# df = df.head(10)\n",
    "\n",
    "p = ggplot(df)\n",
    "p = p + geom_point(aes(x=\"dataset_name\", y=\"accuracy\", color=\"atr_delta\"))\n",
    "p = p + facet_grid(\"~strategy\")\n",
    "p = p + labs(x=\"Dataset\", y=\"Accuracy\", title=\"Accuracy vs ATR Delta by Dataset and Strategy\")\n",
    "p = p + theme(axis_text_x=element_text(angle=90))\n",
    "p = p + theme(figure_size=(30, 5))\n",
    "print(p)"
   ]
  },
  {
   "cell_type": "code",
   "execution_count": null,
   "metadata": {},
   "outputs": [],
   "source": [
    "p.save(filename = \"plot.png\", dpi=3000)\n"
   ]
  },
  {
   "cell_type": "code",
   "execution_count": null,
   "metadata": {},
   "outputs": [],
   "source": [
    "df"
   ]
  }
 ],
 "metadata": {
  "kernelspec": {
   "display_name": "cs685",
   "language": "python",
   "name": "python3"
  },
  "language_info": {
   "codemirror_mode": {
    "name": "ipython",
    "version": 3
   },
   "file_extension": ".py",
   "mimetype": "text/x-python",
   "name": "python",
   "nbconvert_exporter": "python",
   "pygments_lexer": "ipython3",
   "version": "3.9.16"
  }
 },
 "nbformat": 4,
 "nbformat_minor": 2
}
